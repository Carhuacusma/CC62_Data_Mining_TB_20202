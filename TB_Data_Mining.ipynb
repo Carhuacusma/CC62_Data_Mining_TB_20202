{
  "nbformat": 4,
  "nbformat_minor": 0,
  "metadata": {
    "colab": {
      "name": "TB Data Mining.ipynb",
      "provenance": [],
      "collapsed_sections": [],
      "toc_visible": true,
      "include_colab_link": true
    },
    "kernelspec": {
      "name": "python3",
      "display_name": "Python 3"
    }
  },
  "cells": [
    {
      "cell_type": "markdown",
      "metadata": {
        "id": "view-in-github",
        "colab_type": "text"
      },
      "source": [
        "<a href=\"https://colab.research.google.com/github/Carhuacusma/CC62_Data_Mining_TB_20202/blob/master/TB_Data_Mining.ipynb\" target=\"_parent\"><img src=\"https://colab.research.google.com/assets/colab-badge.svg\" alt=\"Open In Colab\"/></a>"
      ]
    },
    {
      "cell_type": "markdown",
      "metadata": {
        "id": "pBQlFCW_OBOF"
      },
      "source": [
        "# TB: CC62 Data Mining\n",
        "## Kaggle: ATLAS experiment Higss Boson"
      ]
    },
    {
      "cell_type": "markdown",
      "metadata": {
        "id": "rxXBU-sfPO4Q"
      },
      "source": [
        "## Objectives:"
      ]
    },
    {
      "cell_type": "markdown",
      "metadata": {
        "id": "nDDs_oMZPX4T"
      },
      "source": [
        "- Detection of the Higgs Boson in simulated data in order to reproduce the behavior of the ATLAS experience. \n",
        "- Binary classification problem, or event detection.\n",
        "- Using simulated data with features characterizing events detected by ATLAS, the task is to classify events into **\"tau tau decay of a Higgs boson\"** versus **\"background\"**. "
      ]
    },
    {
      "cell_type": "markdown",
      "metadata": {
        "id": "7f5IICgmN1k6"
      },
      "source": [
        "## Understanding the Data\n"
      ]
    },
    {
      "cell_type": "markdown",
      "metadata": {
        "id": "O6Ot5enITWKi"
      },
      "source": [
        "The ATLAS experiment observed a signal of the Higgs boson **decaying into two tau particles**, but this decay is a small signal buried in **background** noise. The goal of the challenge is to explore the potential of advanced machine learning methods to improve the discovery significance of the experiment."
      ]
    },
    {
      "cell_type": "code",
      "metadata": {
        "id": "4RREspd28mPB"
      },
      "source": [
        "import pandas as pd\n",
        "import numpy as np\n",
        "import math\n",
        "from sklearn import preprocessing\n",
        "from sklearn.feature_selection import mutual_info_classif"
      ],
      "execution_count": null,
      "outputs": []
    },
    {
      "cell_type": "code",
      "metadata": {
        "id": "hMO9NfJp0O4y"
      },
      "source": [
        ""
      ],
      "execution_count": null,
      "outputs": []
    },
    {
      "cell_type": "code",
      "metadata": {
        "id": "Dfj8l_dHJFBF",
        "outputId": "a547701f-70e1-4cca-9eea-9f1540cb6851",
        "colab": {
          "base_uri": "https://localhost:8080/",
          "height": 170
        }
      },
      "source": [
        "# Read file\n",
        "dfHiggsBoson = pd.read_csv(\"training.csv\")\n",
        "print(dfHiggsBoson.shape)\n",
        "print(dfHiggsBoson.head())"
      ],
      "execution_count": null,
      "outputs": [
        {
          "output_type": "stream",
          "text": [
            "(250000, 33)\n",
            "   EventId  DER_mass_MMC  ...    Weight  Label\n",
            "0   100000       138.470  ...  0.002653      s\n",
            "1   100001       160.937  ...  2.233584      b\n",
            "2   100002      -999.000  ...  2.347389      b\n",
            "3   100003       143.905  ...  5.446378      b\n",
            "4   100004       175.864  ...  6.245333      b\n",
            "\n",
            "[5 rows x 33 columns]\n"
          ],
          "name": "stdout"
        }
      ]
    },
    {
      "cell_type": "markdown",
      "metadata": {
        "id": "hK3OAh_MM3X5"
      },
      "source": [
        "We have 250 000 rows, with 33 attributes"
      ]
    },
    {
      "cell_type": "code",
      "metadata": {
        "id": "sX9BhQ6OU-aK"
      },
      "source": [
        "def analizarColumns(dataframe):\n",
        "  def auxRango(arr):\n",
        "    cmin, cmax = '-','-'\n",
        "    if arr.dtype == 'int64' or arr.dtype == 'float64':\n",
        "      cmin = np.min(arr)\n",
        "      cmax = np.max(arr)\n",
        "    return cmin, cmax\n",
        "  i = 1\n",
        "  print(\"%3s | %27s | %7s | %25s\"%(\"#\",\"Name\",\"Type\", \"Range\"))\n",
        "  for columna in dataframe:\n",
        "    cmin, cmax = auxRango(dataframe[columna])\n",
        "    print(\"%3s | %27s | %7s | %20s - %s\"%( i,\n",
        "        columna, dataframe[columna].dtype, cmin, cmax\n",
        "        ))\n",
        "    i+=1"
      ],
      "execution_count": null,
      "outputs": []
    },
    {
      "cell_type": "code",
      "metadata": {
        "id": "Ei8f_1zRVVrb",
        "outputId": "acf197c9-7165-4eda-dec9-dfc85ddea061",
        "colab": {
          "base_uri": "https://localhost:8080/",
          "height": 595
        }
      },
      "source": [
        "analizarColumns(dfHiggsBoson)"
      ],
      "execution_count": null,
      "outputs": [
        {
          "output_type": "stream",
          "text": [
            "  # |                        Name |    Type |                     Range\n",
            "  1 |                     EventId |   int64 |               100000 - 128463\n",
            "  2 |                DER_mass_MMC | float64 |               -999.0 - 858.887\n",
            "  3 | DER_mass_transverse_met_lep | float64 |                0.002 - 690.075\n",
            "  4 |                DER_mass_vis | float64 |                 7.33 - 651.561\n",
            "  5 |                    DER_pt_h | float64 |                  0.0 - 2834.9990000000003\n",
            "  6 |        DER_deltaeta_jet_jet | float64 |               -999.0 - 8.459\n",
            "  7 |            DER_mass_jet_jet | float64 |               -999.0 - 3624.1540000000005\n",
            "  8 |         DER_prodeta_jet_jet | float64 |               -999.0 - 14.717\n",
            "  9 |          DER_deltar_tau_lep | float64 |                0.228 - 5.684\n",
            " 10 |                  DER_pt_tot | float64 |                  0.0 - 2834.9990000000003\n",
            " 11 |                  DER_sum_pt | float64 |   46.306000000000004 - 1216.476\n",
            " 12 |        DER_pt_ratio_lep_tau | float64 |                 0.09 - 13.937000000000001\n",
            " 13 |      DER_met_phi_centrality | float64 |  -1.4140000000000001 - 1.4140000000000001\n",
            " 14 |      DER_lep_eta_centrality | float64 |               -999.0 - 1.0\n",
            " 15 |                  PRI_tau_pt | float64 |                 20.0 - 384.756\n",
            " 16 |                 PRI_tau_eta | float64 |  -2.4930000000000003 - 2.492\n",
            " 17 |                 PRI_tau_phi | float64 |               -3.142 - 3.141\n",
            " 18 |                  PRI_lep_pt | float64 |   26.000999999999998 - 423.43800000000005\n",
            " 19 |                 PRI_lep_eta | float64 |                -2.49 - 2.49\n",
            " 20 |                 PRI_lep_phi | float64 |               -3.141 - 3.141\n",
            " 21 |                     PRI_met | float64 |                0.272 - 2842.617\n",
            " 22 |                 PRI_met_phi | float64 |               -3.142 - 3.142\n",
            " 23 |               PRI_met_sumet | float64 |               20.814 - 1315.289\n",
            " 24 |                 PRI_jet_num |   int64 |                    0 - 3\n",
            " 25 |          PRI_jet_leading_pt | float64 |               -999.0 - 683.198\n",
            " 26 |         PRI_jet_leading_eta | float64 |               -999.0 - 4.477\n",
            " 27 |         PRI_jet_leading_phi | float64 |               -999.0 - 3.141\n",
            " 28 |       PRI_jet_subleading_pt | float64 |               -999.0 - 445.588\n",
            " 29 |      PRI_jet_subleading_eta | float64 |               -999.0 - 4.476\n",
            " 30 |      PRI_jet_subleading_phi | float64 |               -999.0 - 3.141\n",
            " 31 |              PRI_jet_all_pt | float64 |                  0.0 - 1092.2089999999998\n",
            " 32 |                      Weight | float64 |     0.00150187015894 - 7.805034958110001\n",
            " 33 |                       Label |  object |                    - - -\n"
          ],
          "name": "stdout"
        }
      ]
    },
    {
      "cell_type": "markdown",
      "metadata": {
        "id": "DlzTjcEYh19G"
      },
      "source": [
        "The description of the variables are in the OpenData page of CERN. From theese, we can remark:\n",
        "\n",
        "- **EventId**: An unique integer identifier of the event.\n",
        "- **DER_mass_MMC**: The estimated mass of the Higgs boson candidate.\n",
        "- **PRI_jet_num**: The number of jets (integer with value of 0, 1, 2 or 3; possible larger values have been capped at 3). **According to the page, some variables are *undefined* if the value of PRI_jet_num is below 1.**\n",
        "- **Weight**\tThe event weight wi\n",
        "- **Label**\tThe event label (string) yi ∈ {s,b} (s for signal, b for background)."
      ]
    },
    {
      "cell_type": "code",
      "metadata": {
        "id": "c-pXNhXjqsWu",
        "outputId": "2456b5a9-b763-41f7-9e65-342ff915b502",
        "colab": {
          "base_uri": "https://localhost:8080/",
          "height": 439
        }
      },
      "source": [
        "dfHiggsBoson[dfHiggsBoson['PRI_jet_num'] == 0]"
      ],
      "execution_count": null,
      "outputs": [
        {
          "output_type": "execute_result",
          "data": {
            "text/html": [
              "<div>\n",
              "<style scoped>\n",
              "    .dataframe tbody tr th:only-of-type {\n",
              "        vertical-align: middle;\n",
              "    }\n",
              "\n",
              "    .dataframe tbody tr th {\n",
              "        vertical-align: top;\n",
              "    }\n",
              "\n",
              "    .dataframe thead th {\n",
              "        text-align: right;\n",
              "    }\n",
              "</style>\n",
              "<table border=\"1\" class=\"dataframe\">\n",
              "  <thead>\n",
              "    <tr style=\"text-align: right;\">\n",
              "      <th></th>\n",
              "      <th>EventId</th>\n",
              "      <th>DER_mass_MMC</th>\n",
              "      <th>DER_mass_transverse_met_lep</th>\n",
              "      <th>DER_mass_vis</th>\n",
              "      <th>DER_pt_h</th>\n",
              "      <th>DER_deltaeta_jet_jet</th>\n",
              "      <th>DER_mass_jet_jet</th>\n",
              "      <th>DER_prodeta_jet_jet</th>\n",
              "      <th>DER_deltar_tau_lep</th>\n",
              "      <th>DER_pt_tot</th>\n",
              "      <th>DER_sum_pt</th>\n",
              "      <th>DER_pt_ratio_lep_tau</th>\n",
              "      <th>DER_met_phi_centrality</th>\n",
              "      <th>DER_lep_eta_centrality</th>\n",
              "      <th>PRI_tau_pt</th>\n",
              "      <th>PRI_tau_eta</th>\n",
              "      <th>PRI_tau_phi</th>\n",
              "      <th>PRI_lep_pt</th>\n",
              "      <th>PRI_lep_eta</th>\n",
              "      <th>PRI_lep_phi</th>\n",
              "      <th>PRI_met</th>\n",
              "      <th>PRI_met_phi</th>\n",
              "      <th>PRI_met_sumet</th>\n",
              "      <th>PRI_jet_num</th>\n",
              "      <th>PRI_jet_leading_pt</th>\n",
              "      <th>PRI_jet_leading_eta</th>\n",
              "      <th>PRI_jet_leading_phi</th>\n",
              "      <th>PRI_jet_subleading_pt</th>\n",
              "      <th>PRI_jet_subleading_eta</th>\n",
              "      <th>PRI_jet_subleading_phi</th>\n",
              "      <th>PRI_jet_all_pt</th>\n",
              "      <th>Weight</th>\n",
              "      <th>Label</th>\n",
              "    </tr>\n",
              "  </thead>\n",
              "  <tbody>\n",
              "    <tr>\n",
              "      <th>3</th>\n",
              "      <td>100003</td>\n",
              "      <td>143.905</td>\n",
              "      <td>81.417</td>\n",
              "      <td>80.943</td>\n",
              "      <td>0.414</td>\n",
              "      <td>-999.0</td>\n",
              "      <td>-999.0</td>\n",
              "      <td>-999.0</td>\n",
              "      <td>3.310</td>\n",
              "      <td>0.414</td>\n",
              "      <td>75.968</td>\n",
              "      <td>2.354</td>\n",
              "      <td>-1.285</td>\n",
              "      <td>-999.0</td>\n",
              "      <td>22.647</td>\n",
              "      <td>-1.655</td>\n",
              "      <td>0.010</td>\n",
              "      <td>53.321</td>\n",
              "      <td>-0.522</td>\n",
              "      <td>-3.100</td>\n",
              "      <td>31.082</td>\n",
              "      <td>0.060</td>\n",
              "      <td>86.062</td>\n",
              "      <td>0</td>\n",
              "      <td>-999.0</td>\n",
              "      <td>-999.0</td>\n",
              "      <td>-999.0</td>\n",
              "      <td>-999.0</td>\n",
              "      <td>-999.0</td>\n",
              "      <td>-999.0</td>\n",
              "      <td>-0.0</td>\n",
              "      <td>5.446378</td>\n",
              "      <td>b</td>\n",
              "    </tr>\n",
              "    <tr>\n",
              "      <th>4</th>\n",
              "      <td>100004</td>\n",
              "      <td>175.864</td>\n",
              "      <td>16.915</td>\n",
              "      <td>134.805</td>\n",
              "      <td>16.405</td>\n",
              "      <td>-999.0</td>\n",
              "      <td>-999.0</td>\n",
              "      <td>-999.0</td>\n",
              "      <td>3.891</td>\n",
              "      <td>16.405</td>\n",
              "      <td>57.983</td>\n",
              "      <td>1.056</td>\n",
              "      <td>-1.385</td>\n",
              "      <td>-999.0</td>\n",
              "      <td>28.209</td>\n",
              "      <td>-2.197</td>\n",
              "      <td>-2.231</td>\n",
              "      <td>29.774</td>\n",
              "      <td>0.798</td>\n",
              "      <td>1.569</td>\n",
              "      <td>2.723</td>\n",
              "      <td>-0.871</td>\n",
              "      <td>53.131</td>\n",
              "      <td>0</td>\n",
              "      <td>-999.0</td>\n",
              "      <td>-999.0</td>\n",
              "      <td>-999.0</td>\n",
              "      <td>-999.0</td>\n",
              "      <td>-999.0</td>\n",
              "      <td>-999.0</td>\n",
              "      <td>0.0</td>\n",
              "      <td>6.245333</td>\n",
              "      <td>b</td>\n",
              "    </tr>\n",
              "    <tr>\n",
              "      <th>8</th>\n",
              "      <td>100008</td>\n",
              "      <td>105.594</td>\n",
              "      <td>50.559</td>\n",
              "      <td>100.989</td>\n",
              "      <td>4.288</td>\n",
              "      <td>-999.0</td>\n",
              "      <td>-999.0</td>\n",
              "      <td>-999.0</td>\n",
              "      <td>2.904</td>\n",
              "      <td>4.288</td>\n",
              "      <td>65.333</td>\n",
              "      <td>0.675</td>\n",
              "      <td>-1.366</td>\n",
              "      <td>-999.0</td>\n",
              "      <td>39.008</td>\n",
              "      <td>2.433</td>\n",
              "      <td>-2.532</td>\n",
              "      <td>26.325</td>\n",
              "      <td>0.210</td>\n",
              "      <td>1.884</td>\n",
              "      <td>37.791</td>\n",
              "      <td>0.024</td>\n",
              "      <td>129.804</td>\n",
              "      <td>0</td>\n",
              "      <td>-999.0</td>\n",
              "      <td>-999.0</td>\n",
              "      <td>-999.0</td>\n",
              "      <td>-999.0</td>\n",
              "      <td>-999.0</td>\n",
              "      <td>-999.0</td>\n",
              "      <td>0.0</td>\n",
              "      <td>5.296003</td>\n",
              "      <td>b</td>\n",
              "    </tr>\n",
              "    <tr>\n",
              "      <th>10</th>\n",
              "      <td>100010</td>\n",
              "      <td>-999.000</td>\n",
              "      <td>86.240</td>\n",
              "      <td>79.692</td>\n",
              "      <td>27.201</td>\n",
              "      <td>-999.0</td>\n",
              "      <td>-999.0</td>\n",
              "      <td>-999.0</td>\n",
              "      <td>2.338</td>\n",
              "      <td>27.201</td>\n",
              "      <td>81.734</td>\n",
              "      <td>1.750</td>\n",
              "      <td>-1.412</td>\n",
              "      <td>-999.0</td>\n",
              "      <td>29.718</td>\n",
              "      <td>-0.866</td>\n",
              "      <td>2.878</td>\n",
              "      <td>52.016</td>\n",
              "      <td>0.126</td>\n",
              "      <td>-1.288</td>\n",
              "      <td>51.276</td>\n",
              "      <td>0.688</td>\n",
              "      <td>250.178</td>\n",
              "      <td>0</td>\n",
              "      <td>-999.0</td>\n",
              "      <td>-999.0</td>\n",
              "      <td>-999.0</td>\n",
              "      <td>-999.0</td>\n",
              "      <td>-999.0</td>\n",
              "      <td>-999.0</td>\n",
              "      <td>0.0</td>\n",
              "      <td>2.299504</td>\n",
              "      <td>b</td>\n",
              "    </tr>\n",
              "    <tr>\n",
              "      <th>13</th>\n",
              "      <td>100013</td>\n",
              "      <td>82.488</td>\n",
              "      <td>31.663</td>\n",
              "      <td>64.128</td>\n",
              "      <td>8.232</td>\n",
              "      <td>-999.0</td>\n",
              "      <td>-999.0</td>\n",
              "      <td>-999.0</td>\n",
              "      <td>2.823</td>\n",
              "      <td>8.232</td>\n",
              "      <td>58.649</td>\n",
              "      <td>1.303</td>\n",
              "      <td>-1.414</td>\n",
              "      <td>-999.0</td>\n",
              "      <td>25.470</td>\n",
              "      <td>-0.654</td>\n",
              "      <td>-2.990</td>\n",
              "      <td>33.179</td>\n",
              "      <td>-1.665</td>\n",
              "      <td>-0.354</td>\n",
              "      <td>12.439</td>\n",
              "      <td>1.433</td>\n",
              "      <td>163.420</td>\n",
              "      <td>0</td>\n",
              "      <td>-999.0</td>\n",
              "      <td>-999.0</td>\n",
              "      <td>-999.0</td>\n",
              "      <td>-999.0</td>\n",
              "      <td>-999.0</td>\n",
              "      <td>-999.0</td>\n",
              "      <td>0.0</td>\n",
              "      <td>2.183892</td>\n",
              "      <td>b</td>\n",
              "    </tr>\n",
              "    <tr>\n",
              "      <th>...</th>\n",
              "      <td>...</td>\n",
              "      <td>...</td>\n",
              "      <td>...</td>\n",
              "      <td>...</td>\n",
              "      <td>...</td>\n",
              "      <td>...</td>\n",
              "      <td>...</td>\n",
              "      <td>...</td>\n",
              "      <td>...</td>\n",
              "      <td>...</td>\n",
              "      <td>...</td>\n",
              "      <td>...</td>\n",
              "      <td>...</td>\n",
              "      <td>...</td>\n",
              "      <td>...</td>\n",
              "      <td>...</td>\n",
              "      <td>...</td>\n",
              "      <td>...</td>\n",
              "      <td>...</td>\n",
              "      <td>...</td>\n",
              "      <td>...</td>\n",
              "      <td>...</td>\n",
              "      <td>...</td>\n",
              "      <td>...</td>\n",
              "      <td>...</td>\n",
              "      <td>...</td>\n",
              "      <td>...</td>\n",
              "      <td>...</td>\n",
              "      <td>...</td>\n",
              "      <td>...</td>\n",
              "      <td>...</td>\n",
              "      <td>...</td>\n",
              "      <td>...</td>\n",
              "    </tr>\n",
              "    <tr>\n",
              "      <th>249990</th>\n",
              "      <td>349990</td>\n",
              "      <td>127.822</td>\n",
              "      <td>82.865</td>\n",
              "      <td>100.024</td>\n",
              "      <td>0.860</td>\n",
              "      <td>-999.0</td>\n",
              "      <td>-999.0</td>\n",
              "      <td>-999.0</td>\n",
              "      <td>3.210</td>\n",
              "      <td>0.860</td>\n",
              "      <td>71.325</td>\n",
              "      <td>2.322</td>\n",
              "      <td>-1.321</td>\n",
              "      <td>-999.0</td>\n",
              "      <td>21.474</td>\n",
              "      <td>-0.640</td>\n",
              "      <td>1.618</td>\n",
              "      <td>49.852</td>\n",
              "      <td>1.391</td>\n",
              "      <td>-0.867</td>\n",
              "      <td>35.847</td>\n",
              "      <td>2.674</td>\n",
              "      <td>120.320</td>\n",
              "      <td>0</td>\n",
              "      <td>-999.0</td>\n",
              "      <td>-999.0</td>\n",
              "      <td>-999.0</td>\n",
              "      <td>-999.0</td>\n",
              "      <td>-999.0</td>\n",
              "      <td>-999.0</td>\n",
              "      <td>-0.0</td>\n",
              "      <td>6.346934</td>\n",
              "      <td>b</td>\n",
              "    </tr>\n",
              "    <tr>\n",
              "      <th>249995</th>\n",
              "      <td>349995</td>\n",
              "      <td>-999.000</td>\n",
              "      <td>71.989</td>\n",
              "      <td>36.548</td>\n",
              "      <td>5.042</td>\n",
              "      <td>-999.0</td>\n",
              "      <td>-999.0</td>\n",
              "      <td>-999.0</td>\n",
              "      <td>1.392</td>\n",
              "      <td>5.042</td>\n",
              "      <td>55.892</td>\n",
              "      <td>1.258</td>\n",
              "      <td>-1.414</td>\n",
              "      <td>-999.0</td>\n",
              "      <td>24.754</td>\n",
              "      <td>-0.414</td>\n",
              "      <td>-0.905</td>\n",
              "      <td>31.137</td>\n",
              "      <td>-0.950</td>\n",
              "      <td>0.380</td>\n",
              "      <td>46.520</td>\n",
              "      <td>2.859</td>\n",
              "      <td>144.665</td>\n",
              "      <td>0</td>\n",
              "      <td>-999.0</td>\n",
              "      <td>-999.0</td>\n",
              "      <td>-999.0</td>\n",
              "      <td>-999.0</td>\n",
              "      <td>-999.0</td>\n",
              "      <td>-999.0</td>\n",
              "      <td>0.0</td>\n",
              "      <td>4.505083</td>\n",
              "      <td>b</td>\n",
              "    </tr>\n",
              "    <tr>\n",
              "      <th>249996</th>\n",
              "      <td>349996</td>\n",
              "      <td>-999.000</td>\n",
              "      <td>58.179</td>\n",
              "      <td>68.083</td>\n",
              "      <td>22.439</td>\n",
              "      <td>-999.0</td>\n",
              "      <td>-999.0</td>\n",
              "      <td>-999.0</td>\n",
              "      <td>2.585</td>\n",
              "      <td>22.439</td>\n",
              "      <td>50.618</td>\n",
              "      <td>1.162</td>\n",
              "      <td>-1.345</td>\n",
              "      <td>-999.0</td>\n",
              "      <td>23.416</td>\n",
              "      <td>-1.609</td>\n",
              "      <td>2.776</td>\n",
              "      <td>27.202</td>\n",
              "      <td>0.308</td>\n",
              "      <td>1.042</td>\n",
              "      <td>46.737</td>\n",
              "      <td>-0.867</td>\n",
              "      <td>80.408</td>\n",
              "      <td>0</td>\n",
              "      <td>-999.0</td>\n",
              "      <td>-999.0</td>\n",
              "      <td>-999.0</td>\n",
              "      <td>-999.0</td>\n",
              "      <td>-999.0</td>\n",
              "      <td>-999.0</td>\n",
              "      <td>-0.0</td>\n",
              "      <td>2.497259</td>\n",
              "      <td>b</td>\n",
              "    </tr>\n",
              "    <tr>\n",
              "      <th>249998</th>\n",
              "      <td>349998</td>\n",
              "      <td>94.951</td>\n",
              "      <td>19.362</td>\n",
              "      <td>68.812</td>\n",
              "      <td>13.504</td>\n",
              "      <td>-999.0</td>\n",
              "      <td>-999.0</td>\n",
              "      <td>-999.0</td>\n",
              "      <td>3.365</td>\n",
              "      <td>13.504</td>\n",
              "      <td>55.859</td>\n",
              "      <td>0.999</td>\n",
              "      <td>1.414</td>\n",
              "      <td>-999.0</td>\n",
              "      <td>27.944</td>\n",
              "      <td>-2.211</td>\n",
              "      <td>2.792</td>\n",
              "      <td>27.915</td>\n",
              "      <td>-0.874</td>\n",
              "      <td>-0.296</td>\n",
              "      <td>12.150</td>\n",
              "      <td>0.811</td>\n",
              "      <td>112.718</td>\n",
              "      <td>0</td>\n",
              "      <td>-999.0</td>\n",
              "      <td>-999.0</td>\n",
              "      <td>-999.0</td>\n",
              "      <td>-999.0</td>\n",
              "      <td>-999.0</td>\n",
              "      <td>-999.0</td>\n",
              "      <td>0.0</td>\n",
              "      <td>1.681611</td>\n",
              "      <td>b</td>\n",
              "    </tr>\n",
              "    <tr>\n",
              "      <th>249999</th>\n",
              "      <td>349999</td>\n",
              "      <td>-999.000</td>\n",
              "      <td>72.756</td>\n",
              "      <td>70.831</td>\n",
              "      <td>7.479</td>\n",
              "      <td>-999.0</td>\n",
              "      <td>-999.0</td>\n",
              "      <td>-999.0</td>\n",
              "      <td>2.025</td>\n",
              "      <td>7.479</td>\n",
              "      <td>83.240</td>\n",
              "      <td>0.936</td>\n",
              "      <td>-1.411</td>\n",
              "      <td>-999.0</td>\n",
              "      <td>43.003</td>\n",
              "      <td>1.685</td>\n",
              "      <td>2.653</td>\n",
              "      <td>40.236</td>\n",
              "      <td>1.490</td>\n",
              "      <td>0.637</td>\n",
              "      <td>40.729</td>\n",
              "      <td>-1.596</td>\n",
              "      <td>99.405</td>\n",
              "      <td>0</td>\n",
              "      <td>-999.0</td>\n",
              "      <td>-999.0</td>\n",
              "      <td>-999.0</td>\n",
              "      <td>-999.0</td>\n",
              "      <td>-999.0</td>\n",
              "      <td>-999.0</td>\n",
              "      <td>0.0</td>\n",
              "      <td>1.877474</td>\n",
              "      <td>b</td>\n",
              "    </tr>\n",
              "  </tbody>\n",
              "</table>\n",
              "<p>99913 rows × 33 columns</p>\n",
              "</div>"
            ],
            "text/plain": [
              "        EventId  DER_mass_MMC  ...    Weight  Label\n",
              "3        100003       143.905  ...  5.446378      b\n",
              "4        100004       175.864  ...  6.245333      b\n",
              "8        100008       105.594  ...  5.296003      b\n",
              "10       100010      -999.000  ...  2.299504      b\n",
              "13       100013        82.488  ...  2.183892      b\n",
              "...         ...           ...  ...       ...    ...\n",
              "249990   349990       127.822  ...  6.346934      b\n",
              "249995   349995      -999.000  ...  4.505083      b\n",
              "249996   349996      -999.000  ...  2.497259      b\n",
              "249998   349998        94.951  ...  1.681611      b\n",
              "249999   349999      -999.000  ...  1.877474      b\n",
              "\n",
              "[99913 rows x 33 columns]"
            ]
          },
          "metadata": {
            "tags": []
          },
          "execution_count": 26
        }
      ]
    },
    {
      "cell_type": "markdown",
      "metadata": {
        "id": "krjREoBVQ36z"
      },
      "source": [
        "Even in the instances where some values would be undefined, according to the OpenData page, every cell is filled with a number."
      ]
    },
    {
      "cell_type": "markdown",
      "metadata": {
        "id": "nPz3P7riGWC0"
      },
      "source": [
        "## Preprocessing:"
      ]
    },
    {
      "cell_type": "markdown",
      "metadata": {
        "id": "Ij6pGj0JO6lO"
      },
      "source": [
        "First we drop the column EventId (since it's redundant with our info and would affect the calculations) and Label. We get a dataframe with only numerical values"
      ]
    },
    {
      "cell_type": "code",
      "metadata": {
        "id": "EqkeJjEWd7v3",
        "outputId": "e2b61561-0e20-4606-8c00-f3a5af45e594",
        "colab": {
          "base_uri": "https://localhost:8080/",
          "height": 561
        }
      },
      "source": [
        "X_numerics = dfHiggsBoson.drop(['EventId','Label'],axis=1)\n",
        "analizarColumns(X_numerics)"
      ],
      "execution_count": null,
      "outputs": [
        {
          "output_type": "stream",
          "text": [
            "  # |                        Name |    Type |                     Range\n",
            "  1 |                DER_mass_MMC | float64 |               -999.0 - 1192.026\n",
            "  2 | DER_mass_transverse_met_lep | float64 |                  0.0 - 690.075\n",
            "  3 |                DER_mass_vis | float64 |                6.329 - 1349.351\n",
            "  4 |                    DER_pt_h | float64 |                  0.0 - 2834.9990000000003\n",
            "  5 |        DER_deltaeta_jet_jet | float64 |               -999.0 - 8.503\n",
            "  6 |            DER_mass_jet_jet | float64 |               -999.0 - 4974.979\n",
            "  7 |         DER_prodeta_jet_jet | float64 |               -999.0 - 16.69\n",
            "  8 |          DER_deltar_tau_lep | float64 |  0.20800000000000002 - 5.684\n",
            "  9 |                  DER_pt_tot | float64 |                  0.0 - 2834.9990000000003\n",
            " 10 |                  DER_sum_pt | float64 |               46.104 - 1852.4620000000002\n",
            " 11 |        DER_pt_ratio_lep_tau | float64 |                0.047 - 19.773\n",
            " 12 |      DER_met_phi_centrality | float64 |  -1.4140000000000001 - 1.4140000000000001\n",
            " 13 |      DER_lep_eta_centrality | float64 |               -999.0 - 1.0\n",
            " 14 |                  PRI_tau_pt | float64 |                 20.0 - 764.408\n",
            " 15 |                 PRI_tau_eta | float64 |               -2.499 - 2.497\n",
            " 16 |                 PRI_tau_phi | float64 |               -3.142 - 3.142\n",
            " 17 |                  PRI_lep_pt | float64 |                 26.0 - 560.271\n",
            " 18 |                 PRI_lep_eta | float64 |               -2.505 - 2.503\n",
            " 19 |                 PRI_lep_phi | float64 |               -3.142 - 3.142\n",
            " 20 |                     PRI_met | float64 |                0.109 - 2842.617\n",
            " 21 |                 PRI_met_phi | float64 |               -3.142 - 3.142\n",
            " 22 |               PRI_met_sumet | float64 |   13.677999999999999 - 2003.976\n",
            " 23 |                 PRI_jet_num |   int64 |                    0 - 3\n",
            " 24 |          PRI_jet_leading_pt | float64 |               -999.0 - 1120.573\n",
            " 25 |         PRI_jet_leading_eta | float64 |               -999.0 - 4.499\n",
            " 26 |         PRI_jet_leading_phi | float64 |               -999.0 - 3.141\n",
            " 27 |       PRI_jet_subleading_pt | float64 |               -999.0 - 721.456\n",
            " 28 |      PRI_jet_subleading_eta | float64 |               -999.0 - 4.5\n",
            " 29 |      PRI_jet_subleading_phi | float64 |               -999.0 - 3.142\n",
            " 30 |              PRI_jet_all_pt | float64 |                  0.0 - 1633.433\n",
            " 31 |                      Weight | float64 |     0.00150187015894 - 7.82254254503\n"
          ],
          "name": "stdout"
        }
      ]
    },
    {
      "cell_type": "markdown",
      "metadata": {
        "id": "APBdSuhiQt20"
      },
      "source": [
        "For now, we see a large range of values in every column."
      ]
    },
    {
      "cell_type": "code",
      "metadata": {
        "id": "o6lEXgIwGg13",
        "outputId": "51074a7c-ab59-4c75-a5b5-fe421a7088ba",
        "colab": {
          "base_uri": "https://localhost:8080/",
          "height": 255
        }
      },
      "source": [
        "print(X_numerics)"
      ],
      "execution_count": null,
      "outputs": [
        {
          "output_type": "stream",
          "text": [
            "        DER_mass_MMC  DER_mass_transverse_met_lep  ...  PRI_jet_all_pt    Weight\n",
            "0            138.470                       51.655  ...         113.497  0.002653\n",
            "1            160.937                       68.768  ...          46.226  2.233584\n",
            "2           -999.000                      162.172  ...          44.251  2.347389\n",
            "3            143.905                       81.417  ...          -0.000  5.446378\n",
            "4            175.864                       16.915  ...           0.000  6.245333\n",
            "...              ...                          ...  ...             ...       ...\n",
            "249995      -999.000                       71.989  ...           0.000  4.505083\n",
            "249996      -999.000                       58.179  ...          -0.000  2.497259\n",
            "249997       105.457                       60.526  ...          41.992  0.018636\n",
            "249998        94.951                       19.362  ...           0.000  1.681611\n",
            "249999      -999.000                       72.756  ...           0.000  1.877474\n",
            "\n",
            "[250000 rows x 31 columns]\n"
          ],
          "name": "stdout"
        }
      ]
    },
    {
      "cell_type": "markdown",
      "metadata": {
        "id": "8XH5lmc5G5Vs"
      },
      "source": [
        "We could not find any NaN (Not a Number) value in the dataframe."
      ]
    },
    {
      "cell_type": "markdown",
      "metadata": {
        "id": "zW8IQivrd8Jo"
      },
      "source": [
        "#### Normalize the data:"
      ]
    },
    {
      "cell_type": "code",
      "metadata": {
        "id": "t_ulTxd5FZUp",
        "outputId": "65e9d8d6-4661-4787-9c65-3e74cca9829d",
        "colab": {
          "base_uri": "https://localhost:8080/",
          "height": 612
        }
      },
      "source": [
        "nombres = list(X_numerics.columns.values)\n",
        "print(\"Normalizing X_numerics and preserving the names:\")\n",
        "X_num_normalized = pd.DataFrame(preprocessing.normalize(X_numerics, norm='l1'),columns=nombres)\n",
        "analizarColumns(X_num_normalized)\n",
        "print(\"With a size of: \")\n",
        "print(X_num_normalized.shape)"
      ],
      "execution_count": null,
      "outputs": [
        {
          "output_type": "stream",
          "text": [
            "Normalizing X_numerics and preserving the names:\n",
            "  # |                        Name |    Type |                     Range\n",
            "  1 |                DER_mass_MMC | float64 |  -0.5885695175049144 - 0.38944942815681294\n",
            "  2 | DER_mass_transverse_met_lep | float64 |                  0.0 - 0.1454660531342969\n",
            "  3 |                DER_mass_vis | float64 | 0.0006805606976956945 - 0.27470631603135137\n",
            "  4 |                    DER_pt_h | float64 |                  0.0 - 0.14705454207584906\n",
            "  5 |        DER_deltaeta_jet_jet | float64 |  -0.1352304967427218 - 0.00496292241815096\n",
            "  6 |            DER_mass_jet_jet | float64 |  -0.1352304967427218 - 0.784858616845644\n",
            "  7 |         DER_prodeta_jet_jet | float64 |  -0.1352304967427218 - 0.017528066506048576\n",
            "  8 |          DER_deltar_tau_lep | float64 | 2.3760187882774496e-05 - 0.004651340882868247\n",
            "  9 |                  DER_pt_tot | float64 |                  0.0 - 0.1467848338073409\n",
            " 10 |                  DER_sum_pt | float64 | 0.0032876190052499926 - 0.23634942247761934\n",
            " 11 |        DER_pt_ratio_lep_tau | float64 | 6.651102612292708e-06 - 0.005058606208435141\n",
            " 12 |      DER_met_phi_centrality | float64 | -0.0019325392332001227 - 0.001979830225278658\n",
            " 13 |      DER_lep_eta_centrality | float64 |  -0.1352304967427218 - 0.0015402798162900942\n",
            " 14 |                  PRI_tau_pt | float64 | 0.0016576605535781588 - 0.10625879978403059\n",
            " 15 |                 PRI_tau_eta | float64 | -0.003233054223923065 - 0.0033078047249832554\n",
            " 16 |                 PRI_tau_phi | float64 | -0.00416088141513546 - 0.004495700186037285\n",
            " 17 |                  PRI_lep_pt | float64 | 0.0015421991541391918 - 0.11099514099480941\n",
            " 18 |                 PRI_lep_eta | float64 | -0.003296689044060582 - 0.0033903971853292683\n",
            " 19 |                 PRI_lep_phi | float64 | -0.0041735832687109465 - 0.004129919572429236\n",
            " 20 |                     PRI_met | float64 | 1.0264787226760168e-05 - 0.14717926317537394\n",
            " 21 |                 PRI_met_phi | float64 | -0.0041398161311968105 - 0.00447447639149762\n",
            " 22 |               PRI_met_sumet | float64 | 0.0012899815407122312 - 0.3965429027607194\n",
            " 23 |                 PRI_jet_num | float64 |                  0.0 - 0.0034605836259996837\n",
            " 24 |          PRI_jet_leading_pt | float64 | -0.09719376376760361 - 0.13473174038321442\n",
            " 25 |         PRI_jet_leading_eta | float64 | -0.09719376376760361 - 0.004959630302157635\n",
            " 26 |         PRI_jet_leading_phi | float64 | -0.09719376376760361 - 0.004377134789255836\n",
            " 27 |       PRI_jet_subleading_pt | float64 |  -0.1352304967427218 - 0.08434249261646926\n",
            " 28 |      PRI_jet_subleading_eta | float64 |  -0.1352304967427218 - 0.005331510245366219\n",
            " 29 |      PRI_jet_subleading_phi | float64 |  -0.1352304967427218 - 0.0049462321946950865\n",
            " 30 |              PRI_jet_all_pt | float64 |                  0.0 - 0.21191843332285693\n",
            " 31 |                      Weight | float64 | 1.168395073911066e-07 - 0.007490599592047559\n",
            "With a size of: \n",
            "(250000, 31)\n"
          ],
          "name": "stdout"
        }
      ]
    },
    {
      "cell_type": "markdown",
      "metadata": {
        "id": "ayqCY2PcN0ZL"
      },
      "source": [
        "Now the ranges are less widened, and with 250,000 instances, we can divide the data in two sets: Training (200 000) and Test (50 000)."
      ]
    },
    {
      "cell_type": "code",
      "metadata": {
        "id": "E2ZJlSijHE0c",
        "outputId": "61b7bea4-f1be-428a-d1f6-ecff795d9ad0",
        "colab": {
          "base_uri": "https://localhost:8080/",
          "height": 51
        }
      },
      "source": [
        "X_train = X_num_normalized.values[:200000]\n",
        "print(X_train.shape)\n",
        "X_test = X_num_normalized.values[200000:]\n",
        "print(X_test.shape)"
      ],
      "execution_count": null,
      "outputs": [
        {
          "output_type": "stream",
          "text": [
            "(200000, 31)\n",
            "(50000, 31)\n"
          ],
          "name": "stdout"
        }
      ]
    },
    {
      "cell_type": "markdown",
      "metadata": {
        "id": "yTMvulAhTGW8"
      },
      "source": [
        "## Defining a model"
      ]
    },
    {
      "cell_type": "code",
      "metadata": {
        "id": "py7baT_fb2RF"
      },
      "source": [
        "## Esto es solo como auxiliar para no perderme con el material XD\n",
        "def entropia(columna):\n",
        "  n = len(columna)\n",
        "  valores = pd.unique(columna)\n",
        "  ent = 0\n",
        "  for valor in valores:\n",
        "    pi = len(columna[columna == valor])/n # P(i) = n(i) / n(Omega)\n",
        "    ent += -1*pi*math.log2(pi)\n",
        "  return ent"
      ],
      "execution_count": null,
      "outputs": []
    },
    {
      "cell_type": "markdown",
      "metadata": {
        "id": "Ly98JjG3TnKU"
      },
      "source": [
        "From the original dataframe we extract the array for the class that will be the target for prediction "
      ]
    },
    {
      "cell_type": "code",
      "metadata": {
        "id": "HI5Nuaj1vJCT",
        "outputId": "f248b4ef-aa02-40b3-dd95-a1d05cc27bef",
        "colab": {
          "base_uri": "https://localhost:8080/",
          "height": 34
        }
      },
      "source": [
        "print(dfHiggsBoson.values[:,-1])\n",
        "target = dfHiggsBoson.values[:,-1]"
      ],
      "execution_count": null,
      "outputs": [
        {
          "output_type": "stream",
          "text": [
            "['s' 'b' 'b' ... 's' 'b' 'b']\n"
          ],
          "name": "stdout"
        }
      ]
    },
    {
      "cell_type": "code",
      "metadata": {
        "id": "x_hAHEwRU0xA",
        "outputId": "d28c23a1-cafa-494c-d944-a4849e79d821",
        "colab": {
          "base_uri": "https://localhost:8080/",
          "height": 51
        }
      },
      "source": [
        "Target_train = target[:200000]\n",
        "print(len(Target_train))\n",
        "print(X_train.shape)"
      ],
      "execution_count": null,
      "outputs": [
        {
          "output_type": "stream",
          "text": [
            "200000\n",
            "(200000, 31)\n"
          ],
          "name": "stdout"
        }
      ]
    },
    {
      "cell_type": "markdown",
      "metadata": {
        "id": "rZFz1zw3VDdr"
      },
      "source": [
        "The Target_train array has the target class for the X_train set"
      ]
    },
    {
      "cell_type": "code",
      "metadata": {
        "id": "hTGlc_9SUq1y"
      },
      "source": [
        "## TODO: Averiguar sobre la función\n",
        "InfoGain_Train = mutual_info_classif(X_train, Target_train)"
      ],
      "execution_count": null,
      "outputs": []
    },
    {
      "cell_type": "markdown",
      "metadata": {
        "id": "bAWErtPvWbbe"
      },
      "source": [
        "Now we have an array with the InfoGain for every column, but for better understanding, we can pass the information to a dictionary and label it."
      ]
    },
    {
      "cell_type": "code",
      "metadata": {
        "id": "jtw6vaPhXwKw",
        "outputId": "37adf936-a739-4212-8d92-ac931871f117",
        "colab": {
          "base_uri": "https://localhost:8080/",
          "height": 54
        }
      },
      "source": [
        "dicInfoGain = dict(zip(nombres,InfoGain_Train))\n",
        "sort_InfoGain = sorted(dicInfoGain.items(), key=lambda x: x[1])\n",
        "print(sort_InfoGain)"
      ],
      "execution_count": null,
      "outputs": [
        {
          "output_type": "stream",
          "text": [
            "[('PRI_tau_eta', 0.004997702190500775), ('PRI_lep_eta', 0.005986641881269517), ('DER_pt_tot', 0.006540453194447959), ('PRI_met_phi', 0.008709481141118136), ('PRI_tau_phi', 0.008998610764064274), ('PRI_lep_phi', 0.009217766120786619), ('PRI_lep_pt', 0.011338969738186488), ('DER_pt_h', 0.02094842499435301), ('PRI_jet_all_pt', 0.026523738393040563), ('PRI_jet_num', 0.026911465134547008), ('DER_pt_ratio_lep_tau', 0.027181326535281602), ('PRI_met', 0.02934930647973988), ('DER_deltar_tau_lep', 0.0300288029261353), ('PRI_met_sumet', 0.030158075615535962), ('PRI_jet_leading_phi', 0.03899472066727672), ('DER_sum_pt', 0.04362124547761259), ('PRI_jet_leading_pt', 0.04513581150985546), ('PRI_jet_leading_eta', 0.04536539990638899), ('PRI_jet_subleading_phi', 0.047605565829549334), ('PRI_jet_subleading_pt', 0.049101074773930886), ('DER_mass_vis', 0.05071745862211352), ('PRI_jet_subleading_eta', 0.051523885798832936), ('DER_deltaeta_jet_jet', 0.056188816580048595), ('DER_lep_eta_centrality', 0.05789812482437706), ('DER_mass_transverse_met_lep', 0.057942399725831706), ('PRI_tau_pt', 0.05971511200308455), ('DER_met_phi_centrality', 0.060784963596473895), ('DER_prodeta_jet_jet', 0.06145580636678405), ('DER_mass_jet_jet', 0.06884190311568572), ('DER_mass_MMC', 0.08045929405568741), ('Weight', 0.6283638006524802)]\n"
          ],
          "name": "stdout"
        }
      ]
    },
    {
      "cell_type": "markdown",
      "metadata": {
        "id": "B3aYM2Snc5i-"
      },
      "source": [
        "We have the attributes sorted from less InfoGain to more. Now, we can discard other columns that may have very little information gain in order to decrease the complexity of the model."
      ]
    },
    {
      "cell_type": "code",
      "metadata": {
        "id": "T7VpXzvlZR3q",
        "outputId": "1f3644c8-8295-4df0-efa0-b78ff099b7f5",
        "colab": {
          "base_uri": "https://localhost:8080/",
          "height": 54
        }
      },
      "source": [
        "sort_InfoGain = sorted(dicInfoGain.items(), key=lambda x: x[1])\n",
        "print(sort_InfoGain)"
      ],
      "execution_count": null,
      "outputs": [
        {
          "output_type": "stream",
          "text": [
            "[('PRI_tau_eta', 0.004997702190500775), ('PRI_lep_eta', 0.005986641881269517), ('DER_pt_tot', 0.006540453194447959), ('PRI_met_phi', 0.008709481141118136), ('PRI_tau_phi', 0.008998610764064274), ('PRI_lep_phi', 0.009217766120786619), ('PRI_lep_pt', 0.011338969738186488), ('DER_pt_h', 0.02094842499435301), ('PRI_jet_all_pt', 0.026523738393040563), ('PRI_jet_num', 0.026911465134547008), ('DER_pt_ratio_lep_tau', 0.027181326535281602), ('PRI_met', 0.02934930647973988), ('DER_deltar_tau_lep', 0.0300288029261353), ('PRI_met_sumet', 0.030158075615535962), ('PRI_jet_leading_phi', 0.03899472066727672), ('DER_sum_pt', 0.04362124547761259), ('PRI_jet_leading_pt', 0.04513581150985546), ('PRI_jet_leading_eta', 0.04536539990638899), ('PRI_jet_subleading_phi', 0.047605565829549334), ('PRI_jet_subleading_pt', 0.049101074773930886), ('DER_mass_vis', 0.05071745862211352), ('PRI_jet_subleading_eta', 0.051523885798832936), ('DER_deltaeta_jet_jet', 0.056188816580048595), ('DER_lep_eta_centrality', 0.05789812482437706), ('DER_mass_transverse_met_lep', 0.057942399725831706), ('PRI_tau_pt', 0.05971511200308455), ('DER_met_phi_centrality', 0.060784963596473895), ('DER_prodeta_jet_jet', 0.06145580636678405), ('DER_mass_jet_jet', 0.06884190311568572), ('DER_mass_MMC', 0.08045929405568741), ('Weight', 0.6283638006524802)]\n"
          ],
          "name": "stdout"
        }
      ]
    },
    {
      "cell_type": "markdown",
      "metadata": {
        "id": "zZid-MD9b2-X"
      },
      "source": [
        "### Decision Trees"
      ]
    },
    {
      "cell_type": "markdown",
      "metadata": {
        "id": "PsBq4VynlK9O"
      },
      "source": [
        "In the following section we will test a model using decision trees from sklearn."
      ]
    },
    {
      "cell_type": "code",
      "metadata": {
        "id": "qPR77FfwlKCI"
      },
      "source": [
        "from sklearn.metrics import confusion_matrix\n",
        "from sklearn import tree \n",
        "from sklearn.metrics import accuracy_score \n",
        "from sklearn.metrics import classification_report\n",
        "import graphviz as gv"
      ],
      "execution_count": null,
      "outputs": []
    },
    {
      "cell_type": "code",
      "metadata": {
        "id": "fFPno0t7l7Pb"
      },
      "source": [
        "def classificationTree(training,training_target,test,test_target,tool):\n",
        "  clTree = tree.DecisionTreeClassifier(criterion=tool) #Tool: string para reciclar\n",
        "  #................................................... y no llamar a cada rato la misma \n",
        "  #................................................... función con esa diferencia\n",
        "  #................................................... > \"gini\" (Imperfección)\n",
        "  #................................................... > \"entropy\" (Entropía)\n",
        "  clTree.fit(training,training_target) # Entrena al árbol\n",
        "  #Graphviz para ver el árbol\n",
        "  #grafTree = tree.export_graphviz(clTree, out_file=None)\n",
        "  #gv.Source(grafTree)\n",
        "  print(\"Testing...\")\n",
        "  y_pred = clTree.predict(test)\n",
        "  print(\"Confusion: \")\n",
        "  print(confusion_matrix(test_target, y_pred))\n",
        "  print(\"Accuracy : \", accuracy_score(test_target,y_pred)*100)\n",
        "  print(\"Report   : \")\n",
        "  print(classification_report(test_target, y_pred))\n",
        "  return clTree"
      ],
      "execution_count": null,
      "outputs": []
    },
    {
      "cell_type": "code",
      "metadata": {
        "id": "xIQ-s0fGrSL8",
        "outputId": "6f1ae960-bd37-406c-d461-ebb0785fae4d",
        "colab": {
          "base_uri": "https://localhost:8080/",
          "height": 34
        }
      },
      "source": [
        "print(len(Target_train))"
      ],
      "execution_count": null,
      "outputs": [
        {
          "output_type": "stream",
          "text": [
            "200000\n"
          ],
          "name": "stdout"
        }
      ]
    },
    {
      "cell_type": "code",
      "metadata": {
        "id": "BDzT4Ql5rezh",
        "outputId": "da4dafe5-b1f8-4f3f-ae6c-1d601b961c22",
        "colab": {
          "base_uri": "https://localhost:8080/",
          "height": 51
        }
      },
      "source": [
        "Target_test = target[200000:]\n",
        "print(len(Target_test))\n",
        "print(X_test.shape)"
      ],
      "execution_count": null,
      "outputs": [
        {
          "output_type": "stream",
          "text": [
            "50000\n",
            "(50000, 31)\n"
          ],
          "name": "stdout"
        }
      ]
    },
    {
      "cell_type": "code",
      "metadata": {
        "id": "g1Ff5oVmq5Md",
        "outputId": "590c0a45-bfde-4d5a-c8aa-72d70f648f4d",
        "colab": {
          "base_uri": "https://localhost:8080/",
          "height": 272
        }
      },
      "source": [
        "arbolGini = classificationTree(X_train,Target_train,X_test,Target_test,\"gini\")"
      ],
      "execution_count": null,
      "outputs": [
        {
          "output_type": "stream",
          "text": [
            "Testing...\n",
            "Confusion: \n",
            "[[32832     5]\n",
            " [    6 17157]]\n",
            "Accuracy :  99.978\n",
            "Report   : \n",
            "              precision    recall  f1-score   support\n",
            "\n",
            "           b       1.00      1.00      1.00     32837\n",
            "           s       1.00      1.00      1.00     17163\n",
            "\n",
            "    accuracy                           1.00     50000\n",
            "   macro avg       1.00      1.00      1.00     50000\n",
            "weighted avg       1.00      1.00      1.00     50000\n",
            "\n"
          ],
          "name": "stdout"
        }
      ]
    },
    {
      "cell_type": "code",
      "metadata": {
        "id": "mtF4v01svfJm",
        "outputId": "d35e68cb-1377-4ba5-8404-20c5c88bc969",
        "colab": {
          "base_uri": "https://localhost:8080/",
          "height": 1000
        }
      },
      "source": [
        "grafTree = tree.export_graphviz(arbolGini, out_file=None)\n",
        "gv.Source(grafTree)"
      ],
      "execution_count": null,
      "outputs": [
        {
          "output_type": "execute_result",
          "data": {
            "text/plain": [
              "<graphviz.files.Source at 0x7f11b91b14e0>"
            ],
            "image/svg+xml": "<?xml version=\"1.0\" encoding=\"UTF-8\" standalone=\"no\"?>\n<!DOCTYPE svg PUBLIC \"-//W3C//DTD SVG 1.1//EN\"\n \"http://www.w3.org/Graphics/SVG/1.1/DTD/svg11.dtd\">\n<!-- Generated by graphviz version 2.40.1 (20161225.0304)\n -->\n<!-- Title: Tree Pages: 1 -->\n<svg width=\"2659pt\" height=\"1101pt\"\n viewBox=\"0.00 0.00 2659.00 1101.00\" xmlns=\"http://www.w3.org/2000/svg\" xmlns:xlink=\"http://www.w3.org/1999/xlink\">\n<g id=\"graph0\" class=\"graph\" transform=\"scale(1 1) rotate(0) translate(4 1097)\">\n<title>Tree</title>\n<polygon fill=\"#ffffff\" stroke=\"transparent\" points=\"-4,4 -4,-1097 2655,-1097 2655,4 -4,4\"/>\n<!-- 0 -->\n<g id=\"node1\" class=\"node\">\n<title>0</title>\n<polygon fill=\"none\" stroke=\"#000000\" points=\"1695.5,-1093 1533.5,-1093 1533.5,-1025 1695.5,-1025 1695.5,-1093\"/>\n<text text-anchor=\"middle\" x=\"1614.5\" y=\"-1077.8\" font-family=\"Times,serif\" font-size=\"14.00\" fill=\"#000000\">X[30] &lt;= 0.0</text>\n<text text-anchor=\"middle\" x=\"1614.5\" y=\"-1062.8\" font-family=\"Times,serif\" font-size=\"14.00\" fill=\"#000000\">gini = 0.45</text>\n<text text-anchor=\"middle\" x=\"1614.5\" y=\"-1047.8\" font-family=\"Times,serif\" font-size=\"14.00\" fill=\"#000000\">samples = 200000</text>\n<text text-anchor=\"middle\" x=\"1614.5\" y=\"-1032.8\" font-family=\"Times,serif\" font-size=\"14.00\" fill=\"#000000\">value = [131496, 68504]</text>\n</g>\n<!-- 1 -->\n<g id=\"node2\" class=\"node\">\n<title>1</title>\n<polygon fill=\"none\" stroke=\"#000000\" points=\"1598,-981.5 1473,-981.5 1473,-928.5 1598,-928.5 1598,-981.5\"/>\n<text text-anchor=\"middle\" x=\"1535.5\" y=\"-966.3\" font-family=\"Times,serif\" font-size=\"14.00\" fill=\"#000000\">gini = 0.0</text>\n<text text-anchor=\"middle\" x=\"1535.5\" y=\"-951.3\" font-family=\"Times,serif\" font-size=\"14.00\" fill=\"#000000\">samples = 65362</text>\n<text text-anchor=\"middle\" x=\"1535.5\" y=\"-936.3\" font-family=\"Times,serif\" font-size=\"14.00\" fill=\"#000000\">value = [0, 65362]</text>\n</g>\n<!-- 0&#45;&gt;1 -->\n<g id=\"edge1\" class=\"edge\">\n<title>0&#45;&gt;1</title>\n<path fill=\"none\" stroke=\"#000000\" d=\"M1588.6324,-1024.9465C1580.0143,-1013.6012 1570.4094,-1000.9567 1561.7617,-989.5724\"/>\n<polygon fill=\"#000000\" stroke=\"#000000\" points=\"1564.4979,-987.3882 1555.6618,-981.5422 1558.9237,-991.6224 1564.4979,-987.3882\"/>\n<text text-anchor=\"middle\" x=\"1552.278\" y=\"-1002.6121\" font-family=\"Times,serif\" font-size=\"14.00\" fill=\"#000000\">True</text>\n</g>\n<!-- 2 -->\n<g id=\"node3\" class=\"node\">\n<title>2</title>\n<polygon fill=\"none\" stroke=\"#000000\" points=\"1771,-989 1616,-989 1616,-921 1771,-921 1771,-989\"/>\n<text text-anchor=\"middle\" x=\"1693.5\" y=\"-973.8\" font-family=\"Times,serif\" font-size=\"14.00\" fill=\"#000000\">X[30] &lt;= 0.0</text>\n<text text-anchor=\"middle\" x=\"1693.5\" y=\"-958.8\" font-family=\"Times,serif\" font-size=\"14.00\" fill=\"#000000\">gini = 0.046</text>\n<text text-anchor=\"middle\" x=\"1693.5\" y=\"-943.8\" font-family=\"Times,serif\" font-size=\"14.00\" fill=\"#000000\">samples = 134638</text>\n<text text-anchor=\"middle\" x=\"1693.5\" y=\"-928.8\" font-family=\"Times,serif\" font-size=\"14.00\" fill=\"#000000\">value = [131496, 3142]</text>\n</g>\n<!-- 0&#45;&gt;2 -->\n<g id=\"edge2\" class=\"edge\">\n<title>0&#45;&gt;2</title>\n<path fill=\"none\" stroke=\"#000000\" d=\"M1640.3676,-1024.9465C1647.1196,-1016.0578 1654.4774,-1006.3716 1661.5059,-997.1188\"/>\n<polygon fill=\"#000000\" stroke=\"#000000\" points=\"1664.3125,-999.2102 1667.5743,-989.13 1658.7383,-994.976 1664.3125,-999.2102\"/>\n<text text-anchor=\"middle\" x=\"1670.9582\" y=\"-1010.1999\" font-family=\"Times,serif\" font-size=\"14.00\" fill=\"#000000\">False</text>\n</g>\n<!-- 3 -->\n<g id=\"node4\" class=\"node\">\n<title>3</title>\n<polygon fill=\"none\" stroke=\"#000000\" points=\"1689,-885 1542,-885 1542,-817 1689,-817 1689,-885\"/>\n<text text-anchor=\"middle\" x=\"1615.5\" y=\"-869.8\" font-family=\"Times,serif\" font-size=\"14.00\" fill=\"#000000\">X[0] &lt;= 0.07</text>\n<text text-anchor=\"middle\" x=\"1615.5\" y=\"-854.8\" font-family=\"Times,serif\" font-size=\"14.00\" fill=\"#000000\">gini = 0.302</text>\n<text text-anchor=\"middle\" x=\"1615.5\" y=\"-839.8\" font-family=\"Times,serif\" font-size=\"14.00\" fill=\"#000000\">samples = 16980</text>\n<text text-anchor=\"middle\" x=\"1615.5\" y=\"-824.8\" font-family=\"Times,serif\" font-size=\"14.00\" fill=\"#000000\">value = [13838, 3142]</text>\n</g>\n<!-- 2&#45;&gt;3 -->\n<g id=\"edge3\" class=\"edge\">\n<title>2&#45;&gt;3</title>\n<path fill=\"none\" stroke=\"#000000\" d=\"M1667.9599,-920.9465C1661.3607,-912.1475 1654.1754,-902.5672 1647.2995,-893.3993\"/>\n<polygon fill=\"#000000\" stroke=\"#000000\" points=\"1649.8975,-891.03 1641.0975,-885.13 1644.2975,-895.23 1649.8975,-891.03\"/>\n</g>\n<!-- 76 -->\n<g id=\"node77\" class=\"node\">\n<title>76</title>\n<polygon fill=\"none\" stroke=\"#000000\" points=\"1838,-877.5 1707,-877.5 1707,-824.5 1838,-824.5 1838,-877.5\"/>\n<text text-anchor=\"middle\" x=\"1772.5\" y=\"-862.3\" font-family=\"Times,serif\" font-size=\"14.00\" fill=\"#000000\">gini = 0.0</text>\n<text text-anchor=\"middle\" x=\"1772.5\" y=\"-847.3\" font-family=\"Times,serif\" font-size=\"14.00\" fill=\"#000000\">samples = 117658</text>\n<text text-anchor=\"middle\" x=\"1772.5\" y=\"-832.3\" font-family=\"Times,serif\" font-size=\"14.00\" fill=\"#000000\">value = [117658, 0]</text>\n</g>\n<!-- 2&#45;&gt;76 -->\n<g id=\"edge76\" class=\"edge\">\n<title>2&#45;&gt;76</title>\n<path fill=\"none\" stroke=\"#000000\" d=\"M1719.3676,-920.9465C1727.9857,-909.6012 1737.5906,-896.9567 1746.2383,-885.5724\"/>\n<polygon fill=\"#000000\" stroke=\"#000000\" points=\"1749.0763,-887.6224 1752.3382,-877.5422 1743.5021,-883.3882 1749.0763,-887.6224\"/>\n</g>\n<!-- 4 -->\n<g id=\"node5\" class=\"node\">\n<title>4</title>\n<polygon fill=\"none\" stroke=\"#000000\" points=\"1508.5,-781 1362.5,-781 1362.5,-713 1508.5,-713 1508.5,-781\"/>\n<text text-anchor=\"middle\" x=\"1435.5\" y=\"-765.8\" font-family=\"Times,serif\" font-size=\"14.00\" fill=\"#000000\">X[0] &lt;= 0.041</text>\n<text text-anchor=\"middle\" x=\"1435.5\" y=\"-750.8\" font-family=\"Times,serif\" font-size=\"14.00\" fill=\"#000000\">gini = 0.159</text>\n<text text-anchor=\"middle\" x=\"1435.5\" y=\"-735.8\" font-family=\"Times,serif\" font-size=\"14.00\" fill=\"#000000\">samples = 13282</text>\n<text text-anchor=\"middle\" x=\"1435.5\" y=\"-720.8\" font-family=\"Times,serif\" font-size=\"14.00\" fill=\"#000000\">value = [12125, 1157]</text>\n</g>\n<!-- 3&#45;&gt;4 -->\n<g id=\"edge4\" class=\"edge\">\n<title>3&#45;&gt;4</title>\n<path fill=\"none\" stroke=\"#000000\" d=\"M1556.5613,-816.9465C1539.6229,-807.1599 1521.0115,-796.4066 1503.5701,-786.3294\"/>\n<polygon fill=\"#000000\" stroke=\"#000000\" points=\"1504.9808,-783.1023 1494.5711,-781.13 1501.4788,-789.1634 1504.9808,-783.1023\"/>\n</g>\n<!-- 47 -->\n<g id=\"node48\" class=\"node\">\n<title>47</title>\n<polygon fill=\"none\" stroke=\"#000000\" points=\"2005.5,-781 1865.5,-781 1865.5,-713 2005.5,-713 2005.5,-781\"/>\n<text text-anchor=\"middle\" x=\"1935.5\" y=\"-765.8\" font-family=\"Times,serif\" font-size=\"14.00\" fill=\"#000000\">X[30] &lt;= 0.0</text>\n<text text-anchor=\"middle\" x=\"1935.5\" y=\"-750.8\" font-family=\"Times,serif\" font-size=\"14.00\" fill=\"#000000\">gini = 0.497</text>\n<text text-anchor=\"middle\" x=\"1935.5\" y=\"-735.8\" font-family=\"Times,serif\" font-size=\"14.00\" fill=\"#000000\">samples = 3698</text>\n<text text-anchor=\"middle\" x=\"1935.5\" y=\"-720.8\" font-family=\"Times,serif\" font-size=\"14.00\" fill=\"#000000\">value = [1713, 1985]</text>\n</g>\n<!-- 3&#45;&gt;47 -->\n<g id=\"edge47\" class=\"edge\">\n<title>3&#45;&gt;47</title>\n<path fill=\"none\" stroke=\"#000000\" d=\"M1689.1129,-820.0417C1691.9362,-818.9931 1694.739,-817.9753 1697.5,-817 1749.5365,-798.6189 1809.1075,-781.1012 1855.6339,-768.1877\"/>\n<polygon fill=\"#000000\" stroke=\"#000000\" points=\"1856.6489,-771.5385 1865.3567,-765.5033 1854.7859,-764.7909 1856.6489,-771.5385\"/>\n</g>\n<!-- 5 -->\n<g id=\"node6\" class=\"node\">\n<title>5</title>\n<polygon fill=\"none\" stroke=\"#000000\" points=\"806.5,-677 674.5,-677 674.5,-609 806.5,-609 806.5,-677\"/>\n<text text-anchor=\"middle\" x=\"740.5\" y=\"-661.8\" font-family=\"Times,serif\" font-size=\"14.00\" fill=\"#000000\">X[28] &lt;= &#45;0.001</text>\n<text text-anchor=\"middle\" x=\"740.5\" y=\"-646.8\" font-family=\"Times,serif\" font-size=\"14.00\" fill=\"#000000\">gini = 0.053</text>\n<text text-anchor=\"middle\" x=\"740.5\" y=\"-631.8\" font-family=\"Times,serif\" font-size=\"14.00\" fill=\"#000000\">samples = 8531</text>\n<text text-anchor=\"middle\" x=\"740.5\" y=\"-616.8\" font-family=\"Times,serif\" font-size=\"14.00\" fill=\"#000000\">value = [8299, 232]</text>\n</g>\n<!-- 4&#45;&gt;5 -->\n<g id=\"edge5\" class=\"edge\">\n<title>4&#45;&gt;5</title>\n<path fill=\"none\" stroke=\"#000000\" d=\"M1362.4364,-736.0667C1230.0524,-716.2568 951.7747,-674.6152 816.9478,-654.4397\"/>\n<polygon fill=\"#000000\" stroke=\"#000000\" points=\"817.1153,-650.9258 806.7074,-652.9073 816.0793,-657.8488 817.1153,-650.9258\"/>\n</g>\n<!-- 32 -->\n<g id=\"node33\" class=\"node\">\n<title>32</title>\n<polygon fill=\"none\" stroke=\"#000000\" points=\"1501.5,-677 1369.5,-677 1369.5,-609 1501.5,-609 1501.5,-677\"/>\n<text text-anchor=\"middle\" x=\"1435.5\" y=\"-661.8\" font-family=\"Times,serif\" font-size=\"14.00\" fill=\"#000000\">X[30] &lt;= 0.0</text>\n<text text-anchor=\"middle\" x=\"1435.5\" y=\"-646.8\" font-family=\"Times,serif\" font-size=\"14.00\" fill=\"#000000\">gini = 0.314</text>\n<text text-anchor=\"middle\" x=\"1435.5\" y=\"-631.8\" font-family=\"Times,serif\" font-size=\"14.00\" fill=\"#000000\">samples = 4751</text>\n<text text-anchor=\"middle\" x=\"1435.5\" y=\"-616.8\" font-family=\"Times,serif\" font-size=\"14.00\" fill=\"#000000\">value = [3826, 925]</text>\n</g>\n<!-- 4&#45;&gt;32 -->\n<g id=\"edge32\" class=\"edge\">\n<title>4&#45;&gt;32</title>\n<path fill=\"none\" stroke=\"#000000\" d=\"M1435.5,-712.9465C1435.5,-704.776 1435.5,-695.9318 1435.5,-687.3697\"/>\n<polygon fill=\"#000000\" stroke=\"#000000\" points=\"1439.0001,-687.13 1435.5,-677.13 1432.0001,-687.13 1439.0001,-687.13\"/>\n</g>\n<!-- 6 -->\n<g id=\"node7\" class=\"node\">\n<title>6</title>\n<polygon fill=\"none\" stroke=\"#000000\" points=\"500,-573 383,-573 383,-505 500,-505 500,-573\"/>\n<text text-anchor=\"middle\" x=\"441.5\" y=\"-557.8\" font-family=\"Times,serif\" font-size=\"14.00\" fill=\"#000000\">X[0] &lt;= &#45;0.5</text>\n<text text-anchor=\"middle\" x=\"441.5\" y=\"-542.8\" font-family=\"Times,serif\" font-size=\"14.00\" fill=\"#000000\">gini = 0.003</text>\n<text text-anchor=\"middle\" x=\"441.5\" y=\"-527.8\" font-family=\"Times,serif\" font-size=\"14.00\" fill=\"#000000\">samples = 5850</text>\n<text text-anchor=\"middle\" x=\"441.5\" y=\"-512.8\" font-family=\"Times,serif\" font-size=\"14.00\" fill=\"#000000\">value = [5841, 9]</text>\n</g>\n<!-- 5&#45;&gt;6 -->\n<g id=\"edge6\" class=\"edge\">\n<title>5&#45;&gt;6</title>\n<path fill=\"none\" stroke=\"#000000\" d=\"M674.1422,-619.919C625.2702,-602.9201 559.0171,-579.8755 509.7127,-562.7262\"/>\n<polygon fill=\"#000000\" stroke=\"#000000\" points=\"510.6828,-559.358 500.088,-559.3784 508.3831,-565.9694 510.6828,-559.358\"/>\n</g>\n<!-- 21 -->\n<g id=\"node22\" class=\"node\">\n<title>21</title>\n<polygon fill=\"none\" stroke=\"#000000\" points=\"806.5,-573 674.5,-573 674.5,-505 806.5,-505 806.5,-573\"/>\n<text text-anchor=\"middle\" x=\"740.5\" y=\"-557.8\" font-family=\"Times,serif\" font-size=\"14.00\" fill=\"#000000\">X[30] &lt;= 0.0</text>\n<text text-anchor=\"middle\" x=\"740.5\" y=\"-542.8\" font-family=\"Times,serif\" font-size=\"14.00\" fill=\"#000000\">gini = 0.153</text>\n<text text-anchor=\"middle\" x=\"740.5\" y=\"-527.8\" font-family=\"Times,serif\" font-size=\"14.00\" fill=\"#000000\">samples = 2681</text>\n<text text-anchor=\"middle\" x=\"740.5\" y=\"-512.8\" font-family=\"Times,serif\" font-size=\"14.00\" fill=\"#000000\">value = [2458, 223]</text>\n</g>\n<!-- 5&#45;&gt;21 -->\n<g id=\"edge21\" class=\"edge\">\n<title>5&#45;&gt;21</title>\n<path fill=\"none\" stroke=\"#000000\" d=\"M740.5,-608.9465C740.5,-600.776 740.5,-591.9318 740.5,-583.3697\"/>\n<polygon fill=\"#000000\" stroke=\"#000000\" points=\"744.0001,-583.13 740.5,-573.13 737.0001,-583.13 744.0001,-583.13\"/>\n</g>\n<!-- 7 -->\n<g id=\"node8\" class=\"node\">\n<title>7</title>\n<polygon fill=\"none\" stroke=\"#000000\" points=\"365,-461.5 270,-461.5 270,-408.5 365,-408.5 365,-461.5\"/>\n<text text-anchor=\"middle\" x=\"317.5\" y=\"-446.3\" font-family=\"Times,serif\" font-size=\"14.00\" fill=\"#000000\">gini = 0.0</text>\n<text text-anchor=\"middle\" x=\"317.5\" y=\"-431.3\" font-family=\"Times,serif\" font-size=\"14.00\" fill=\"#000000\">samples = 2</text>\n<text text-anchor=\"middle\" x=\"317.5\" y=\"-416.3\" font-family=\"Times,serif\" font-size=\"14.00\" fill=\"#000000\">value = [0, 2]</text>\n</g>\n<!-- 6&#45;&gt;7 -->\n<g id=\"edge7\" class=\"edge\">\n<title>6&#45;&gt;7</title>\n<path fill=\"none\" stroke=\"#000000\" d=\"M400.8978,-504.9465C386.8453,-493.1606 371.1212,-479.9726 357.1465,-468.2519\"/>\n<polygon fill=\"#000000\" stroke=\"#000000\" points=\"359.0575,-465.2866 349.1464,-461.5422 354.5592,-470.65 359.0575,-465.2866\"/>\n</g>\n<!-- 8 -->\n<g id=\"node9\" class=\"node\">\n<title>8</title>\n<polygon fill=\"none\" stroke=\"#000000\" points=\"500,-469 383,-469 383,-401 500,-401 500,-469\"/>\n<text text-anchor=\"middle\" x=\"441.5\" y=\"-453.8\" font-family=\"Times,serif\" font-size=\"14.00\" fill=\"#000000\">X[25] &lt;= 0.001</text>\n<text text-anchor=\"middle\" x=\"441.5\" y=\"-438.8\" font-family=\"Times,serif\" font-size=\"14.00\" fill=\"#000000\">gini = 0.002</text>\n<text text-anchor=\"middle\" x=\"441.5\" y=\"-423.8\" font-family=\"Times,serif\" font-size=\"14.00\" fill=\"#000000\">samples = 5848</text>\n<text text-anchor=\"middle\" x=\"441.5\" y=\"-408.8\" font-family=\"Times,serif\" font-size=\"14.00\" fill=\"#000000\">value = [5841, 7]</text>\n</g>\n<!-- 6&#45;&gt;8 -->\n<g id=\"edge8\" class=\"edge\">\n<title>6&#45;&gt;8</title>\n<path fill=\"none\" stroke=\"#000000\" d=\"M441.5,-504.9465C441.5,-496.776 441.5,-487.9318 441.5,-479.3697\"/>\n<polygon fill=\"#000000\" stroke=\"#000000\" points=\"445.0001,-479.13 441.5,-469.13 438.0001,-479.13 445.0001,-479.13\"/>\n</g>\n<!-- 9 -->\n<g id=\"node10\" class=\"node\">\n<title>9</title>\n<polygon fill=\"none\" stroke=\"#000000\" points=\"372,-365 255,-365 255,-297 372,-297 372,-365\"/>\n<text text-anchor=\"middle\" x=\"313.5\" y=\"-349.8\" font-family=\"Times,serif\" font-size=\"14.00\" fill=\"#000000\">X[16] &lt;= 0.039</text>\n<text text-anchor=\"middle\" x=\"313.5\" y=\"-334.8\" font-family=\"Times,serif\" font-size=\"14.00\" fill=\"#000000\">gini = 0.002</text>\n<text text-anchor=\"middle\" x=\"313.5\" y=\"-319.8\" font-family=\"Times,serif\" font-size=\"14.00\" fill=\"#000000\">samples = 5830</text>\n<text text-anchor=\"middle\" x=\"313.5\" y=\"-304.8\" font-family=\"Times,serif\" font-size=\"14.00\" fill=\"#000000\">value = [5825, 5]</text>\n</g>\n<!-- 8&#45;&gt;9 -->\n<g id=\"edge9\" class=\"edge\">\n<title>8&#45;&gt;9</title>\n<path fill=\"none\" stroke=\"#000000\" d=\"M399.588,-400.9465C387.985,-391.519 375.2779,-381.1946 363.2741,-371.4415\"/>\n<polygon fill=\"#000000\" stroke=\"#000000\" points=\"365.4744,-368.7196 355.5061,-365.13 361.0602,-374.1524 365.4744,-368.7196\"/>\n</g>\n<!-- 18 -->\n<g id=\"node19\" class=\"node\">\n<title>18</title>\n<polygon fill=\"none\" stroke=\"#000000\" points=\"492.5,-365 390.5,-365 390.5,-297 492.5,-297 492.5,-365\"/>\n<text text-anchor=\"middle\" x=\"441.5\" y=\"-349.8\" font-family=\"Times,serif\" font-size=\"14.00\" fill=\"#000000\">X[30] &lt;= 0.0</text>\n<text text-anchor=\"middle\" x=\"441.5\" y=\"-334.8\" font-family=\"Times,serif\" font-size=\"14.00\" fill=\"#000000\">gini = 0.198</text>\n<text text-anchor=\"middle\" x=\"441.5\" y=\"-319.8\" font-family=\"Times,serif\" font-size=\"14.00\" fill=\"#000000\">samples = 18</text>\n<text text-anchor=\"middle\" x=\"441.5\" y=\"-304.8\" font-family=\"Times,serif\" font-size=\"14.00\" fill=\"#000000\">value = [16, 2]</text>\n</g>\n<!-- 8&#45;&gt;18 -->\n<g id=\"edge18\" class=\"edge\">\n<title>8&#45;&gt;18</title>\n<path fill=\"none\" stroke=\"#000000\" d=\"M441.5,-400.9465C441.5,-392.776 441.5,-383.9318 441.5,-375.3697\"/>\n<polygon fill=\"#000000\" stroke=\"#000000\" points=\"445.0001,-375.13 441.5,-365.13 438.0001,-375.13 445.0001,-375.13\"/>\n</g>\n<!-- 10 -->\n<g id=\"node11\" class=\"node\">\n<title>10</title>\n<polygon fill=\"none\" stroke=\"#000000\" points=\"247,-261 130,-261 130,-193 247,-193 247,-261\"/>\n<text text-anchor=\"middle\" x=\"188.5\" y=\"-245.8\" font-family=\"Times,serif\" font-size=\"14.00\" fill=\"#000000\">X[5] &lt;= 0.189</text>\n<text text-anchor=\"middle\" x=\"188.5\" y=\"-230.8\" font-family=\"Times,serif\" font-size=\"14.00\" fill=\"#000000\">gini = 0.001</text>\n<text text-anchor=\"middle\" x=\"188.5\" y=\"-215.8\" font-family=\"Times,serif\" font-size=\"14.00\" fill=\"#000000\">samples = 5799</text>\n<text text-anchor=\"middle\" x=\"188.5\" y=\"-200.8\" font-family=\"Times,serif\" font-size=\"14.00\" fill=\"#000000\">value = [5796, 3]</text>\n</g>\n<!-- 9&#45;&gt;10 -->\n<g id=\"edge10\" class=\"edge\">\n<title>9&#45;&gt;10</title>\n<path fill=\"none\" stroke=\"#000000\" d=\"M272.5703,-296.9465C261.3472,-287.6088 249.0663,-277.3911 237.4427,-267.7203\"/>\n<polygon fill=\"#000000\" stroke=\"#000000\" points=\"239.4474,-264.8353 229.5216,-261.13 234.9704,-270.2164 239.4474,-264.8353\"/>\n</g>\n<!-- 15 -->\n<g id=\"node16\" class=\"node\">\n<title>15</title>\n<polygon fill=\"none\" stroke=\"#000000\" points=\"367.5,-261 265.5,-261 265.5,-193 367.5,-193 367.5,-261\"/>\n<text text-anchor=\"middle\" x=\"316.5\" y=\"-245.8\" font-family=\"Times,serif\" font-size=\"14.00\" fill=\"#000000\">X[30] &lt;= 0.0</text>\n<text text-anchor=\"middle\" x=\"316.5\" y=\"-230.8\" font-family=\"Times,serif\" font-size=\"14.00\" fill=\"#000000\">gini = 0.121</text>\n<text text-anchor=\"middle\" x=\"316.5\" y=\"-215.8\" font-family=\"Times,serif\" font-size=\"14.00\" fill=\"#000000\">samples = 31</text>\n<text text-anchor=\"middle\" x=\"316.5\" y=\"-200.8\" font-family=\"Times,serif\" font-size=\"14.00\" fill=\"#000000\">value = [29, 2]</text>\n</g>\n<!-- 9&#45;&gt;15 -->\n<g id=\"edge15\" class=\"edge\">\n<title>9&#45;&gt;15</title>\n<path fill=\"none\" stroke=\"#000000\" d=\"M314.4823,-296.9465C314.718,-288.776 314.9731,-279.9318 315.2201,-271.3697\"/>\n<polygon fill=\"#000000\" stroke=\"#000000\" points=\"318.7256,-271.2268 315.5155,-261.13 311.7285,-271.0249 318.7256,-271.2268\"/>\n</g>\n<!-- 11 -->\n<g id=\"node12\" class=\"node\">\n<title>11</title>\n<polygon fill=\"none\" stroke=\"#000000\" points=\"117,-149.5 0,-149.5 0,-96.5 117,-96.5 117,-149.5\"/>\n<text text-anchor=\"middle\" x=\"58.5\" y=\"-134.3\" font-family=\"Times,serif\" font-size=\"14.00\" fill=\"#000000\">gini = 0.0</text>\n<text text-anchor=\"middle\" x=\"58.5\" y=\"-119.3\" font-family=\"Times,serif\" font-size=\"14.00\" fill=\"#000000\">samples = 5637</text>\n<text text-anchor=\"middle\" x=\"58.5\" y=\"-104.3\" font-family=\"Times,serif\" font-size=\"14.00\" fill=\"#000000\">value = [5637, 0]</text>\n</g>\n<!-- 10&#45;&gt;11 -->\n<g id=\"edge11\" class=\"edge\">\n<title>10&#45;&gt;11</title>\n<path fill=\"none\" stroke=\"#000000\" d=\"M145.9331,-192.9465C131.063,-181.0504 114.4075,-167.726 99.6546,-155.9237\"/>\n<polygon fill=\"#000000\" stroke=\"#000000\" points=\"101.6729,-153.0561 91.6777,-149.5422 97.3,-158.5222 101.6729,-153.0561\"/>\n</g>\n<!-- 12 -->\n<g id=\"node13\" class=\"node\">\n<title>12</title>\n<polygon fill=\"none\" stroke=\"#000000\" points=\"245.5,-157 135.5,-157 135.5,-89 245.5,-89 245.5,-157\"/>\n<text text-anchor=\"middle\" x=\"190.5\" y=\"-141.8\" font-family=\"Times,serif\" font-size=\"14.00\" fill=\"#000000\">X[30] &lt;= 0.0</text>\n<text text-anchor=\"middle\" x=\"190.5\" y=\"-126.8\" font-family=\"Times,serif\" font-size=\"14.00\" fill=\"#000000\">gini = 0.036</text>\n<text text-anchor=\"middle\" x=\"190.5\" y=\"-111.8\" font-family=\"Times,serif\" font-size=\"14.00\" fill=\"#000000\">samples = 162</text>\n<text text-anchor=\"middle\" x=\"190.5\" y=\"-96.8\" font-family=\"Times,serif\" font-size=\"14.00\" fill=\"#000000\">value = [159, 3]</text>\n</g>\n<!-- 10&#45;&gt;12 -->\n<g id=\"edge12\" class=\"edge\">\n<title>10&#45;&gt;12</title>\n<path fill=\"none\" stroke=\"#000000\" d=\"M189.1549,-192.9465C189.312,-184.776 189.4821,-175.9318 189.6467,-167.3697\"/>\n<polygon fill=\"#000000\" stroke=\"#000000\" points=\"193.1506,-167.1955 189.8437,-157.13 186.1519,-167.0608 193.1506,-167.1955\"/>\n</g>\n<!-- 13 -->\n<g id=\"node14\" class=\"node\">\n<title>13</title>\n<polygon fill=\"none\" stroke=\"#000000\" points=\"178,-53 83,-53 83,0 178,0 178,-53\"/>\n<text text-anchor=\"middle\" x=\"130.5\" y=\"-37.8\" font-family=\"Times,serif\" font-size=\"14.00\" fill=\"#000000\">gini = 0.0</text>\n<text text-anchor=\"middle\" x=\"130.5\" y=\"-22.8\" font-family=\"Times,serif\" font-size=\"14.00\" fill=\"#000000\">samples = 3</text>\n<text text-anchor=\"middle\" x=\"130.5\" y=\"-7.8\" font-family=\"Times,serif\" font-size=\"14.00\" fill=\"#000000\">value = [0, 3]</text>\n</g>\n<!-- 12&#45;&gt;13 -->\n<g id=\"edge13\" class=\"edge\">\n<title>12&#45;&gt;13</title>\n<path fill=\"none\" stroke=\"#000000\" d=\"M169.3462,-88.9777C163.8805,-80.187 157.9846,-70.7044 152.4778,-61.8477\"/>\n<polygon fill=\"#000000\" stroke=\"#000000\" points=\"155.3837,-59.8927 147.1312,-53.2485 149.4391,-63.5889 155.3837,-59.8927\"/>\n</g>\n<!-- 14 -->\n<g id=\"node15\" class=\"node\">\n<title>14</title>\n<polygon fill=\"none\" stroke=\"#000000\" points=\"306.5,-53 196.5,-53 196.5,0 306.5,0 306.5,-53\"/>\n<text text-anchor=\"middle\" x=\"251.5\" y=\"-37.8\" font-family=\"Times,serif\" font-size=\"14.00\" fill=\"#000000\">gini = 0.0</text>\n<text text-anchor=\"middle\" x=\"251.5\" y=\"-22.8\" font-family=\"Times,serif\" font-size=\"14.00\" fill=\"#000000\">samples = 159</text>\n<text text-anchor=\"middle\" x=\"251.5\" y=\"-7.8\" font-family=\"Times,serif\" font-size=\"14.00\" fill=\"#000000\">value = [159, 0]</text>\n</g>\n<!-- 12&#45;&gt;14 -->\n<g id=\"edge14\" class=\"edge\">\n<title>12&#45;&gt;14</title>\n<path fill=\"none\" stroke=\"#000000\" d=\"M212.0063,-88.9777C217.5631,-80.187 223.5573,-70.7044 229.1559,-61.8477\"/>\n<polygon fill=\"#000000\" stroke=\"#000000\" points=\"232.2069,-63.5714 234.5916,-53.2485 226.2899,-59.8312 232.2069,-63.5714\"/>\n</g>\n<!-- 16 -->\n<g id=\"node17\" class=\"node\">\n<title>16</title>\n<polygon fill=\"none\" stroke=\"#000000\" points=\"362,-149.5 267,-149.5 267,-96.5 362,-96.5 362,-149.5\"/>\n<text text-anchor=\"middle\" x=\"314.5\" y=\"-134.3\" font-family=\"Times,serif\" font-size=\"14.00\" fill=\"#000000\">gini = 0.0</text>\n<text text-anchor=\"middle\" x=\"314.5\" y=\"-119.3\" font-family=\"Times,serif\" font-size=\"14.00\" fill=\"#000000\">samples = 2</text>\n<text text-anchor=\"middle\" x=\"314.5\" y=\"-104.3\" font-family=\"Times,serif\" font-size=\"14.00\" fill=\"#000000\">value = [0, 2]</text>\n</g>\n<!-- 15&#45;&gt;16 -->\n<g id=\"edge16\" class=\"edge\">\n<title>15&#45;&gt;16</title>\n<path fill=\"none\" stroke=\"#000000\" d=\"M315.8451,-192.9465C315.6397,-182.2621 315.412,-170.4254 315.2034,-159.5742\"/>\n<polygon fill=\"#000000\" stroke=\"#000000\" points=\"318.7021,-159.473 315.0104,-149.5422 311.7034,-159.6076 318.7021,-159.473\"/>\n</g>\n<!-- 17 -->\n<g id=\"node18\" class=\"node\">\n<title>17</title>\n<polygon fill=\"none\" stroke=\"#000000\" points=\"482.5,-149.5 380.5,-149.5 380.5,-96.5 482.5,-96.5 482.5,-149.5\"/>\n<text text-anchor=\"middle\" x=\"431.5\" y=\"-134.3\" font-family=\"Times,serif\" font-size=\"14.00\" fill=\"#000000\">gini = 0.0</text>\n<text text-anchor=\"middle\" x=\"431.5\" y=\"-119.3\" font-family=\"Times,serif\" font-size=\"14.00\" fill=\"#000000\">samples = 29</text>\n<text text-anchor=\"middle\" x=\"431.5\" y=\"-104.3\" font-family=\"Times,serif\" font-size=\"14.00\" fill=\"#000000\">value = [29, 0]</text>\n</g>\n<!-- 15&#45;&gt;17 -->\n<g id=\"edge17\" class=\"edge\">\n<title>15&#45;&gt;17</title>\n<path fill=\"none\" stroke=\"#000000\" d=\"M354.1553,-192.9465C367.1878,-181.1606 381.7706,-167.9726 394.7311,-156.2519\"/>\n<polygon fill=\"#000000\" stroke=\"#000000\" points=\"397.0812,-158.8456 402.1505,-149.5422 392.386,-153.6537 397.0812,-158.8456\"/>\n</g>\n<!-- 19 -->\n<g id=\"node20\" class=\"node\">\n<title>19</title>\n<polygon fill=\"none\" stroke=\"#000000\" points=\"486,-253.5 391,-253.5 391,-200.5 486,-200.5 486,-253.5\"/>\n<text text-anchor=\"middle\" x=\"438.5\" y=\"-238.3\" font-family=\"Times,serif\" font-size=\"14.00\" fill=\"#000000\">gini = 0.0</text>\n<text text-anchor=\"middle\" x=\"438.5\" y=\"-223.3\" font-family=\"Times,serif\" font-size=\"14.00\" fill=\"#000000\">samples = 2</text>\n<text text-anchor=\"middle\" x=\"438.5\" y=\"-208.3\" font-family=\"Times,serif\" font-size=\"14.00\" fill=\"#000000\">value = [0, 2]</text>\n</g>\n<!-- 18&#45;&gt;19 -->\n<g id=\"edge19\" class=\"edge\">\n<title>18&#45;&gt;19</title>\n<path fill=\"none\" stroke=\"#000000\" d=\"M440.5177,-296.9465C440.2095,-286.2621 439.868,-274.4254 439.555,-263.5742\"/>\n<polygon fill=\"#000000\" stroke=\"#000000\" points=\"443.0526,-263.4371 439.2656,-253.5422 436.0555,-263.639 443.0526,-263.4371\"/>\n</g>\n<!-- 20 -->\n<g id=\"node21\" class=\"node\">\n<title>20</title>\n<polygon fill=\"none\" stroke=\"#000000\" points=\"606.5,-253.5 504.5,-253.5 504.5,-200.5 606.5,-200.5 606.5,-253.5\"/>\n<text text-anchor=\"middle\" x=\"555.5\" y=\"-238.3\" font-family=\"Times,serif\" font-size=\"14.00\" fill=\"#000000\">gini = 0.0</text>\n<text text-anchor=\"middle\" x=\"555.5\" y=\"-223.3\" font-family=\"Times,serif\" font-size=\"14.00\" fill=\"#000000\">samples = 16</text>\n<text text-anchor=\"middle\" x=\"555.5\" y=\"-208.3\" font-family=\"Times,serif\" font-size=\"14.00\" fill=\"#000000\">value = [16, 0]</text>\n</g>\n<!-- 18&#45;&gt;20 -->\n<g id=\"edge20\" class=\"edge\">\n<title>18&#45;&gt;20</title>\n<path fill=\"none\" stroke=\"#000000\" d=\"M478.8279,-296.9465C491.6263,-285.2707 505.933,-272.219 518.6901,-260.5809\"/>\n<polygon fill=\"#000000\" stroke=\"#000000\" points=\"521.3769,-262.8675 526.4057,-253.5422 516.6591,-257.6961 521.3769,-262.8675\"/>\n</g>\n<!-- 22 -->\n<g id=\"node23\" class=\"node\">\n<title>22</title>\n<polygon fill=\"none\" stroke=\"#000000\" points=\"729.5,-469 619.5,-469 619.5,-401 729.5,-401 729.5,-469\"/>\n<text text-anchor=\"middle\" x=\"674.5\" y=\"-453.8\" font-family=\"Times,serif\" font-size=\"14.00\" fill=\"#000000\">X[22] &lt;= 0.0</text>\n<text text-anchor=\"middle\" x=\"674.5\" y=\"-438.8\" font-family=\"Times,serif\" font-size=\"14.00\" fill=\"#000000\">gini = 0.027</text>\n<text text-anchor=\"middle\" x=\"674.5\" y=\"-423.8\" font-family=\"Times,serif\" font-size=\"14.00\" fill=\"#000000\">samples = 223</text>\n<text text-anchor=\"middle\" x=\"674.5\" y=\"-408.8\" font-family=\"Times,serif\" font-size=\"14.00\" fill=\"#000000\">value = [3, 220]</text>\n</g>\n<!-- 21&#45;&gt;22 -->\n<g id=\"edge22\" class=\"edge\">\n<title>21&#45;&gt;22</title>\n<path fill=\"none\" stroke=\"#000000\" d=\"M718.8891,-504.9465C713.3622,-496.2373 707.3494,-486.7626 701.5854,-477.6801\"/>\n<polygon fill=\"#000000\" stroke=\"#000000\" points=\"704.4729,-475.6979 696.1594,-469.13 698.5626,-479.4487 704.4729,-475.6979\"/>\n</g>\n<!-- 25 -->\n<g id=\"node26\" class=\"node\">\n<title>25</title>\n<polygon fill=\"none\" stroke=\"#000000\" points=\"865,-469 748,-469 748,-401 865,-401 865,-469\"/>\n<text text-anchor=\"middle\" x=\"806.5\" y=\"-453.8\" font-family=\"Times,serif\" font-size=\"14.00\" fill=\"#000000\">X[11] &lt;= &#45;0.001</text>\n<text text-anchor=\"middle\" x=\"806.5\" y=\"-438.8\" font-family=\"Times,serif\" font-size=\"14.00\" fill=\"#000000\">gini = 0.002</text>\n<text text-anchor=\"middle\" x=\"806.5\" y=\"-423.8\" font-family=\"Times,serif\" font-size=\"14.00\" fill=\"#000000\">samples = 2458</text>\n<text text-anchor=\"middle\" x=\"806.5\" y=\"-408.8\" font-family=\"Times,serif\" font-size=\"14.00\" fill=\"#000000\">value = [2455, 3]</text>\n</g>\n<!-- 21&#45;&gt;25 -->\n<g id=\"edge25\" class=\"edge\">\n<title>21&#45;&gt;25</title>\n<path fill=\"none\" stroke=\"#000000\" d=\"M762.1109,-504.9465C767.6378,-496.2373 773.6506,-486.7626 779.4146,-477.6801\"/>\n<polygon fill=\"#000000\" stroke=\"#000000\" points=\"782.4374,-479.4487 784.8406,-469.13 776.5271,-475.6979 782.4374,-479.4487\"/>\n</g>\n<!-- 23 -->\n<g id=\"node24\" class=\"node\">\n<title>23</title>\n<polygon fill=\"none\" stroke=\"#000000\" points=\"606,-357.5 511,-357.5 511,-304.5 606,-304.5 606,-357.5\"/>\n<text text-anchor=\"middle\" x=\"558.5\" y=\"-342.3\" font-family=\"Times,serif\" font-size=\"14.00\" fill=\"#000000\">gini = 0.0</text>\n<text text-anchor=\"middle\" x=\"558.5\" y=\"-327.3\" font-family=\"Times,serif\" font-size=\"14.00\" fill=\"#000000\">samples = 3</text>\n<text text-anchor=\"middle\" x=\"558.5\" y=\"-312.3\" font-family=\"Times,serif\" font-size=\"14.00\" fill=\"#000000\">value = [3, 0]</text>\n</g>\n<!-- 22&#45;&gt;23 -->\n<g id=\"edge23\" class=\"edge\">\n<title>22&#45;&gt;23</title>\n<path fill=\"none\" stroke=\"#000000\" d=\"M636.5173,-400.9465C623.3714,-389.1606 608.6618,-375.9726 595.5887,-364.2519\"/>\n<polygon fill=\"#000000\" stroke=\"#000000\" points=\"597.8869,-361.6116 588.1047,-357.5422 593.214,-366.8236 597.8869,-361.6116\"/>\n</g>\n<!-- 24 -->\n<g id=\"node25\" class=\"node\">\n<title>24</title>\n<polygon fill=\"none\" stroke=\"#000000\" points=\"734.5,-357.5 624.5,-357.5 624.5,-304.5 734.5,-304.5 734.5,-357.5\"/>\n<text text-anchor=\"middle\" x=\"679.5\" y=\"-342.3\" font-family=\"Times,serif\" font-size=\"14.00\" fill=\"#000000\">gini = 0.0</text>\n<text text-anchor=\"middle\" x=\"679.5\" y=\"-327.3\" font-family=\"Times,serif\" font-size=\"14.00\" fill=\"#000000\">samples = 220</text>\n<text text-anchor=\"middle\" x=\"679.5\" y=\"-312.3\" font-family=\"Times,serif\" font-size=\"14.00\" fill=\"#000000\">value = [0, 220]</text>\n</g>\n<!-- 22&#45;&gt;24 -->\n<g id=\"edge24\" class=\"edge\">\n<title>22&#45;&gt;24</title>\n<path fill=\"none\" stroke=\"#000000\" d=\"M676.1372,-400.9465C676.6509,-390.2621 677.2199,-378.4254 677.7416,-367.5742\"/>\n<polygon fill=\"#000000\" stroke=\"#000000\" points=\"681.2396,-367.6987 678.2239,-357.5422 674.2477,-367.3625 681.2396,-367.6987\"/>\n</g>\n<!-- 26 -->\n<g id=\"node27\" class=\"node\">\n<title>26</title>\n<polygon fill=\"none\" stroke=\"#000000\" points=\"848,-357.5 753,-357.5 753,-304.5 848,-304.5 848,-357.5\"/>\n<text text-anchor=\"middle\" x=\"800.5\" y=\"-342.3\" font-family=\"Times,serif\" font-size=\"14.00\" fill=\"#000000\">gini = 0.0</text>\n<text text-anchor=\"middle\" x=\"800.5\" y=\"-327.3\" font-family=\"Times,serif\" font-size=\"14.00\" fill=\"#000000\">samples = 1</text>\n<text text-anchor=\"middle\" x=\"800.5\" y=\"-312.3\" font-family=\"Times,serif\" font-size=\"14.00\" fill=\"#000000\">value = [0, 1]</text>\n</g>\n<!-- 25&#45;&gt;26 -->\n<g id=\"edge26\" class=\"edge\">\n<title>25&#45;&gt;26</title>\n<path fill=\"none\" stroke=\"#000000\" d=\"M804.5354,-400.9465C803.919,-390.2621 803.2361,-378.4254 802.6101,-367.5742\"/>\n<polygon fill=\"#000000\" stroke=\"#000000\" points=\"806.1015,-367.3239 802.0313,-357.5422 799.1131,-367.7272 806.1015,-367.3239\"/>\n</g>\n<!-- 27 -->\n<g id=\"node28\" class=\"node\">\n<title>27</title>\n<polygon fill=\"none\" stroke=\"#000000\" points=\"983,-365 866,-365 866,-297 983,-297 983,-365\"/>\n<text text-anchor=\"middle\" x=\"924.5\" y=\"-349.8\" font-family=\"Times,serif\" font-size=\"14.00\" fill=\"#000000\">X[30] &lt;= 0.0</text>\n<text text-anchor=\"middle\" x=\"924.5\" y=\"-334.8\" font-family=\"Times,serif\" font-size=\"14.00\" fill=\"#000000\">gini = 0.002</text>\n<text text-anchor=\"middle\" x=\"924.5\" y=\"-319.8\" font-family=\"Times,serif\" font-size=\"14.00\" fill=\"#000000\">samples = 2457</text>\n<text text-anchor=\"middle\" x=\"924.5\" y=\"-304.8\" font-family=\"Times,serif\" font-size=\"14.00\" fill=\"#000000\">value = [2455, 2]</text>\n</g>\n<!-- 25&#45;&gt;27 -->\n<g id=\"edge27\" class=\"edge\">\n<title>25&#45;&gt;27</title>\n<path fill=\"none\" stroke=\"#000000\" d=\"M845.1376,-400.9465C855.6304,-391.6986 867.1026,-381.5876 877.9814,-371.9994\"/>\n<polygon fill=\"#000000\" stroke=\"#000000\" points=\"880.5877,-374.3678 885.7756,-365.13 875.9593,-369.1163 880.5877,-374.3678\"/>\n</g>\n<!-- 28 -->\n<g id=\"node29\" class=\"node\">\n<title>28</title>\n<polygon fill=\"none\" stroke=\"#000000\" points=\"942.5,-261 844.5,-261 844.5,-193 942.5,-193 942.5,-261\"/>\n<text text-anchor=\"middle\" x=\"893.5\" y=\"-245.8\" font-family=\"Times,serif\" font-size=\"14.00\" fill=\"#000000\">X[20] &lt;= &#45;0.0</text>\n<text text-anchor=\"middle\" x=\"893.5\" y=\"-230.8\" font-family=\"Times,serif\" font-size=\"14.00\" fill=\"#000000\">gini = 0.346</text>\n<text text-anchor=\"middle\" x=\"893.5\" y=\"-215.8\" font-family=\"Times,serif\" font-size=\"14.00\" fill=\"#000000\">samples = 9</text>\n<text text-anchor=\"middle\" x=\"893.5\" y=\"-200.8\" font-family=\"Times,serif\" font-size=\"14.00\" fill=\"#000000\">value = [7, 2]</text>\n</g>\n<!-- 27&#45;&gt;28 -->\n<g id=\"edge28\" class=\"edge\">\n<title>27&#45;&gt;28</title>\n<path fill=\"none\" stroke=\"#000000\" d=\"M914.3494,-296.9465C911.8605,-288.5965 909.1618,-279.5427 906.5574,-270.8056\"/>\n<polygon fill=\"#000000\" stroke=\"#000000\" points=\"909.8842,-269.7135 903.6734,-261.13 903.1758,-271.7131 909.8842,-269.7135\"/>\n</g>\n<!-- 31 -->\n<g id=\"node32\" class=\"node\">\n<title>31</title>\n<polygon fill=\"none\" stroke=\"#000000\" points=\"1078,-253.5 961,-253.5 961,-200.5 1078,-200.5 1078,-253.5\"/>\n<text text-anchor=\"middle\" x=\"1019.5\" y=\"-238.3\" font-family=\"Times,serif\" font-size=\"14.00\" fill=\"#000000\">gini = 0.0</text>\n<text text-anchor=\"middle\" x=\"1019.5\" y=\"-223.3\" font-family=\"Times,serif\" font-size=\"14.00\" fill=\"#000000\">samples = 2448</text>\n<text text-anchor=\"middle\" x=\"1019.5\" y=\"-208.3\" font-family=\"Times,serif\" font-size=\"14.00\" fill=\"#000000\">value = [2448, 0]</text>\n</g>\n<!-- 27&#45;&gt;31 -->\n<g id=\"edge31\" class=\"edge\">\n<title>27&#45;&gt;31</title>\n<path fill=\"none\" stroke=\"#000000\" d=\"M955.6066,-296.9465C966.0707,-285.491 977.7447,-272.711 988.222,-261.2412\"/>\n<polygon fill=\"#000000\" stroke=\"#000000\" points=\"991.0945,-263.2861 995.2548,-253.5422 985.9262,-258.565 991.0945,-263.2861\"/>\n</g>\n<!-- 29 -->\n<g id=\"node30\" class=\"node\">\n<title>29</title>\n<polygon fill=\"none\" stroke=\"#000000\" points=\"885,-149.5 790,-149.5 790,-96.5 885,-96.5 885,-149.5\"/>\n<text text-anchor=\"middle\" x=\"837.5\" y=\"-134.3\" font-family=\"Times,serif\" font-size=\"14.00\" fill=\"#000000\">gini = 0.0</text>\n<text text-anchor=\"middle\" x=\"837.5\" y=\"-119.3\" font-family=\"Times,serif\" font-size=\"14.00\" fill=\"#000000\">samples = 2</text>\n<text text-anchor=\"middle\" x=\"837.5\" y=\"-104.3\" font-family=\"Times,serif\" font-size=\"14.00\" fill=\"#000000\">value = [0, 2]</text>\n</g>\n<!-- 28&#45;&gt;29 -->\n<g id=\"edge29\" class=\"edge\">\n<title>28&#45;&gt;29</title>\n<path fill=\"none\" stroke=\"#000000\" d=\"M875.1635,-192.9465C869.2324,-181.9316 862.6419,-169.6922 856.6532,-158.5703\"/>\n<polygon fill=\"#000000\" stroke=\"#000000\" points=\"859.6146,-156.6875 851.7919,-149.5422 853.4513,-160.0063 859.6146,-156.6875\"/>\n</g>\n<!-- 30 -->\n<g id=\"node31\" class=\"node\">\n<title>30</title>\n<polygon fill=\"none\" stroke=\"#000000\" points=\"998,-149.5 903,-149.5 903,-96.5 998,-96.5 998,-149.5\"/>\n<text text-anchor=\"middle\" x=\"950.5\" y=\"-134.3\" font-family=\"Times,serif\" font-size=\"14.00\" fill=\"#000000\">gini = 0.0</text>\n<text text-anchor=\"middle\" x=\"950.5\" y=\"-119.3\" font-family=\"Times,serif\" font-size=\"14.00\" fill=\"#000000\">samples = 7</text>\n<text text-anchor=\"middle\" x=\"950.5\" y=\"-104.3\" font-family=\"Times,serif\" font-size=\"14.00\" fill=\"#000000\">value = [7, 0]</text>\n</g>\n<!-- 28&#45;&gt;30 -->\n<g id=\"edge30\" class=\"edge\">\n<title>28&#45;&gt;30</title>\n<path fill=\"none\" stroke=\"#000000\" d=\"M912.1639,-192.9465C918.2009,-181.9316 924.9091,-169.6922 931.0047,-158.5703\"/>\n<polygon fill=\"#000000\" stroke=\"#000000\" points=\"934.2158,-159.9936 935.9529,-149.5422 928.0773,-156.6292 934.2158,-159.9936\"/>\n</g>\n<!-- 33 -->\n<g id=\"node34\" class=\"node\">\n<title>33</title>\n<polygon fill=\"none\" stroke=\"#000000\" points=\"1400,-573 1283,-573 1283,-505 1400,-505 1400,-573\"/>\n<text text-anchor=\"middle\" x=\"1341.5\" y=\"-557.8\" font-family=\"Times,serif\" font-size=\"14.00\" fill=\"#000000\">X[22] &lt;= 0.001</text>\n<text text-anchor=\"middle\" x=\"1341.5\" y=\"-542.8\" font-family=\"Times,serif\" font-size=\"14.00\" fill=\"#000000\">gini = 0.038</text>\n<text text-anchor=\"middle\" x=\"1341.5\" y=\"-527.8\" font-family=\"Times,serif\" font-size=\"14.00\" fill=\"#000000\">samples = 940</text>\n<text text-anchor=\"middle\" x=\"1341.5\" y=\"-512.8\" font-family=\"Times,serif\" font-size=\"14.00\" fill=\"#000000\">value = [18, 922]</text>\n</g>\n<!-- 32&#45;&gt;33 -->\n<g id=\"edge33\" class=\"edge\">\n<title>32&#45;&gt;33</title>\n<path fill=\"none\" stroke=\"#000000\" d=\"M1404.7209,-608.9465C1396.5245,-599.8782 1387.578,-589.9799 1379.0625,-580.5585\"/>\n<polygon fill=\"#000000\" stroke=\"#000000\" points=\"1381.6503,-578.2019 1372.3483,-573.13 1376.4571,-582.8957 1381.6503,-578.2019\"/>\n</g>\n<!-- 42 -->\n<g id=\"node43\" class=\"node\">\n<title>42</title>\n<polygon fill=\"none\" stroke=\"#000000\" points=\"1561,-573 1444,-573 1444,-505 1561,-505 1561,-573\"/>\n<text text-anchor=\"middle\" x=\"1502.5\" y=\"-557.8\" font-family=\"Times,serif\" font-size=\"14.00\" fill=\"#000000\">X[30] &lt;= 0.0</text>\n<text text-anchor=\"middle\" x=\"1502.5\" y=\"-542.8\" font-family=\"Times,serif\" font-size=\"14.00\" fill=\"#000000\">gini = 0.002</text>\n<text text-anchor=\"middle\" x=\"1502.5\" y=\"-527.8\" font-family=\"Times,serif\" font-size=\"14.00\" fill=\"#000000\">samples = 3811</text>\n<text text-anchor=\"middle\" x=\"1502.5\" y=\"-512.8\" font-family=\"Times,serif\" font-size=\"14.00\" fill=\"#000000\">value = [3808, 3]</text>\n</g>\n<!-- 32&#45;&gt;42 -->\n<g id=\"edge42\" class=\"edge\">\n<title>32&#45;&gt;42</title>\n<path fill=\"none\" stroke=\"#000000\" d=\"M1457.4383,-608.9465C1463.049,-600.2373 1469.1529,-590.7626 1475.0042,-581.6801\"/>\n<polygon fill=\"#000000\" stroke=\"#000000\" points=\"1478.0389,-583.4321 1480.5124,-573.13 1472.1543,-579.641 1478.0389,-583.4321\"/>\n</g>\n<!-- 34 -->\n<g id=\"node35\" class=\"node\">\n<title>34</title>\n<polygon fill=\"none\" stroke=\"#000000\" points=\"1216.5,-469 1114.5,-469 1114.5,-401 1216.5,-401 1216.5,-469\"/>\n<text text-anchor=\"middle\" x=\"1165.5\" y=\"-453.8\" font-family=\"Times,serif\" font-size=\"14.00\" fill=\"#000000\">X[30] &lt;= 0.0</text>\n<text text-anchor=\"middle\" x=\"1165.5\" y=\"-438.8\" font-family=\"Times,serif\" font-size=\"14.00\" fill=\"#000000\">gini = 0.117</text>\n<text text-anchor=\"middle\" x=\"1165.5\" y=\"-423.8\" font-family=\"Times,serif\" font-size=\"14.00\" fill=\"#000000\">samples = 16</text>\n<text text-anchor=\"middle\" x=\"1165.5\" y=\"-408.8\" font-family=\"Times,serif\" font-size=\"14.00\" fill=\"#000000\">value = [15, 1]</text>\n</g>\n<!-- 33&#45;&gt;34 -->\n<g id=\"edge34\" class=\"edge\">\n<title>33&#45;&gt;34</title>\n<path fill=\"none\" stroke=\"#000000\" d=\"M1283.871,-504.9465C1265.1772,-493.9001 1244.3991,-481.6222 1225.5346,-470.475\"/>\n<polygon fill=\"#000000\" stroke=\"#000000\" points=\"1227.1215,-467.3473 1216.7316,-465.2732 1223.5603,-473.3738 1227.1215,-467.3473\"/>\n</g>\n<!-- 37 -->\n<g id=\"node38\" class=\"node\">\n<title>37</title>\n<polygon fill=\"none\" stroke=\"#000000\" points=\"1396.5,-469 1286.5,-469 1286.5,-401 1396.5,-401 1396.5,-469\"/>\n<text text-anchor=\"middle\" x=\"1341.5\" y=\"-453.8\" font-family=\"Times,serif\" font-size=\"14.00\" fill=\"#000000\">X[22] &lt;= 0.001</text>\n<text text-anchor=\"middle\" x=\"1341.5\" y=\"-438.8\" font-family=\"Times,serif\" font-size=\"14.00\" fill=\"#000000\">gini = 0.006</text>\n<text text-anchor=\"middle\" x=\"1341.5\" y=\"-423.8\" font-family=\"Times,serif\" font-size=\"14.00\" fill=\"#000000\">samples = 924</text>\n<text text-anchor=\"middle\" x=\"1341.5\" y=\"-408.8\" font-family=\"Times,serif\" font-size=\"14.00\" fill=\"#000000\">value = [3, 921]</text>\n</g>\n<!-- 33&#45;&gt;37 -->\n<g id=\"edge37\" class=\"edge\">\n<title>33&#45;&gt;37</title>\n<path fill=\"none\" stroke=\"#000000\" d=\"M1341.5,-504.9465C1341.5,-496.776 1341.5,-487.9318 1341.5,-479.3697\"/>\n<polygon fill=\"#000000\" stroke=\"#000000\" points=\"1345.0001,-479.13 1341.5,-469.13 1338.0001,-479.13 1345.0001,-479.13\"/>\n</g>\n<!-- 35 -->\n<g id=\"node36\" class=\"node\">\n<title>35</title>\n<polygon fill=\"none\" stroke=\"#000000\" points=\"1096,-357.5 1001,-357.5 1001,-304.5 1096,-304.5 1096,-357.5\"/>\n<text text-anchor=\"middle\" x=\"1048.5\" y=\"-342.3\" font-family=\"Times,serif\" font-size=\"14.00\" fill=\"#000000\">gini = 0.0</text>\n<text text-anchor=\"middle\" x=\"1048.5\" y=\"-327.3\" font-family=\"Times,serif\" font-size=\"14.00\" fill=\"#000000\">samples = 1</text>\n<text text-anchor=\"middle\" x=\"1048.5\" y=\"-312.3\" font-family=\"Times,serif\" font-size=\"14.00\" fill=\"#000000\">value = [0, 1]</text>\n</g>\n<!-- 34&#45;&gt;35 -->\n<g id=\"edge35\" class=\"edge\">\n<title>34&#45;&gt;35</title>\n<path fill=\"none\" stroke=\"#000000\" d=\"M1127.1898,-400.9465C1113.9306,-389.1606 1099.0942,-375.9726 1085.9084,-364.2519\"/>\n<polygon fill=\"#000000\" stroke=\"#000000\" points=\"1088.1593,-361.5699 1078.3599,-357.5422 1083.5088,-366.8018 1088.1593,-361.5699\"/>\n</g>\n<!-- 36 -->\n<g id=\"node37\" class=\"node\">\n<title>36</title>\n<polygon fill=\"none\" stroke=\"#000000\" points=\"1216.5,-357.5 1114.5,-357.5 1114.5,-304.5 1216.5,-304.5 1216.5,-357.5\"/>\n<text text-anchor=\"middle\" x=\"1165.5\" y=\"-342.3\" font-family=\"Times,serif\" font-size=\"14.00\" fill=\"#000000\">gini = 0.0</text>\n<text text-anchor=\"middle\" x=\"1165.5\" y=\"-327.3\" font-family=\"Times,serif\" font-size=\"14.00\" fill=\"#000000\">samples = 15</text>\n<text text-anchor=\"middle\" x=\"1165.5\" y=\"-312.3\" font-family=\"Times,serif\" font-size=\"14.00\" fill=\"#000000\">value = [15, 0]</text>\n</g>\n<!-- 34&#45;&gt;36 -->\n<g id=\"edge36\" class=\"edge\">\n<title>34&#45;&gt;36</title>\n<path fill=\"none\" stroke=\"#000000\" d=\"M1165.5,-400.9465C1165.5,-390.2621 1165.5,-378.4254 1165.5,-367.5742\"/>\n<polygon fill=\"#000000\" stroke=\"#000000\" points=\"1169.0001,-367.5421 1165.5,-357.5422 1162.0001,-367.5422 1169.0001,-367.5421\"/>\n</g>\n<!-- 38 -->\n<g id=\"node39\" class=\"node\">\n<title>38</title>\n<polygon fill=\"none\" stroke=\"#000000\" points=\"1336.5,-365 1234.5,-365 1234.5,-297 1336.5,-297 1336.5,-365\"/>\n<text text-anchor=\"middle\" x=\"1285.5\" y=\"-349.8\" font-family=\"Times,serif\" font-size=\"14.00\" fill=\"#000000\">X[30] &lt;= 0.0</text>\n<text text-anchor=\"middle\" x=\"1285.5\" y=\"-334.8\" font-family=\"Times,serif\" font-size=\"14.00\" fill=\"#000000\">gini = 0.355</text>\n<text text-anchor=\"middle\" x=\"1285.5\" y=\"-319.8\" font-family=\"Times,serif\" font-size=\"14.00\" fill=\"#000000\">samples = 13</text>\n<text text-anchor=\"middle\" x=\"1285.5\" y=\"-304.8\" font-family=\"Times,serif\" font-size=\"14.00\" fill=\"#000000\">value = [3, 10]</text>\n</g>\n<!-- 37&#45;&gt;38 -->\n<g id=\"edge38\" class=\"edge\">\n<title>37&#45;&gt;38</title>\n<path fill=\"none\" stroke=\"#000000\" d=\"M1323.1635,-400.9465C1318.5223,-392.3271 1313.4773,-382.9579 1308.6329,-373.9611\"/>\n<polygon fill=\"#000000\" stroke=\"#000000\" points=\"1311.7004,-372.2754 1303.8777,-365.13 1305.5371,-375.5941 1311.7004,-372.2754\"/>\n</g>\n<!-- 41 -->\n<g id=\"node42\" class=\"node\">\n<title>41</title>\n<polygon fill=\"none\" stroke=\"#000000\" points=\"1464,-357.5 1355,-357.5 1355,-304.5 1464,-304.5 1464,-357.5\"/>\n<text text-anchor=\"middle\" x=\"1409.5\" y=\"-342.3\" font-family=\"Times,serif\" font-size=\"14.00\" fill=\"#000000\">gini = 0.0</text>\n<text text-anchor=\"middle\" x=\"1409.5\" y=\"-327.3\" font-family=\"Times,serif\" font-size=\"14.00\" fill=\"#000000\">samples = 911</text>\n<text text-anchor=\"middle\" x=\"1409.5\" y=\"-312.3\" font-family=\"Times,serif\" font-size=\"14.00\" fill=\"#000000\">value = [0, 911]</text>\n</g>\n<!-- 37&#45;&gt;41 -->\n<g id=\"edge41\" class=\"edge\">\n<title>37&#45;&gt;41</title>\n<path fill=\"none\" stroke=\"#000000\" d=\"M1363.7657,-400.9465C1371.0398,-389.8215 1379.1306,-377.4473 1386.4604,-366.237\"/>\n<polygon fill=\"#000000\" stroke=\"#000000\" points=\"1389.6024,-367.8273 1392.1455,-357.5422 1383.7436,-363.9965 1389.6024,-367.8273\"/>\n</g>\n<!-- 39 -->\n<g id=\"node40\" class=\"node\">\n<title>39</title>\n<polygon fill=\"none\" stroke=\"#000000\" points=\"1251.5,-253.5 1149.5,-253.5 1149.5,-200.5 1251.5,-200.5 1251.5,-253.5\"/>\n<text text-anchor=\"middle\" x=\"1200.5\" y=\"-238.3\" font-family=\"Times,serif\" font-size=\"14.00\" fill=\"#000000\">gini = 0.0</text>\n<text text-anchor=\"middle\" x=\"1200.5\" y=\"-223.3\" font-family=\"Times,serif\" font-size=\"14.00\" fill=\"#000000\">samples = 10</text>\n<text text-anchor=\"middle\" x=\"1200.5\" y=\"-208.3\" font-family=\"Times,serif\" font-size=\"14.00\" fill=\"#000000\">value = [0, 10]</text>\n</g>\n<!-- 38&#45;&gt;39 -->\n<g id=\"edge39\" class=\"edge\">\n<title>38&#45;&gt;39</title>\n<path fill=\"none\" stroke=\"#000000\" d=\"M1257.6678,-296.9465C1248.3952,-285.6012 1238.0608,-272.9567 1228.7563,-261.5724\"/>\n<polygon fill=\"#000000\" stroke=\"#000000\" points=\"1231.2315,-259.0701 1222.1931,-253.5422 1225.8115,-263.5 1231.2315,-259.0701\"/>\n</g>\n<!-- 40 -->\n<g id=\"node41\" class=\"node\">\n<title>40</title>\n<polygon fill=\"none\" stroke=\"#000000\" points=\"1365,-253.5 1270,-253.5 1270,-200.5 1365,-200.5 1365,-253.5\"/>\n<text text-anchor=\"middle\" x=\"1317.5\" y=\"-238.3\" font-family=\"Times,serif\" font-size=\"14.00\" fill=\"#000000\">gini = 0.0</text>\n<text text-anchor=\"middle\" x=\"1317.5\" y=\"-223.3\" font-family=\"Times,serif\" font-size=\"14.00\" fill=\"#000000\">samples = 3</text>\n<text text-anchor=\"middle\" x=\"1317.5\" y=\"-208.3\" font-family=\"Times,serif\" font-size=\"14.00\" fill=\"#000000\">value = [3, 0]</text>\n</g>\n<!-- 38&#45;&gt;40 -->\n<g id=\"edge40\" class=\"edge\">\n<title>38&#45;&gt;40</title>\n<path fill=\"none\" stroke=\"#000000\" d=\"M1295.978,-296.9465C1299.2994,-286.1519 1302.9827,-274.1813 1306.3496,-263.2389\"/>\n<polygon fill=\"#000000\" stroke=\"#000000\" points=\"1309.7375,-264.1293 1309.3332,-253.5422 1303.047,-262.0706 1309.7375,-264.1293\"/>\n</g>\n<!-- 43 -->\n<g id=\"node44\" class=\"node\">\n<title>43</title>\n<polygon fill=\"none\" stroke=\"#000000\" points=\"1553,-469 1452,-469 1452,-401 1553,-401 1553,-469\"/>\n<text text-anchor=\"middle\" x=\"1502.5\" y=\"-453.8\" font-family=\"Times,serif\" font-size=\"14.00\" fill=\"#000000\">X[0] &lt;= 0.053</text>\n<text text-anchor=\"middle\" x=\"1502.5\" y=\"-438.8\" font-family=\"Times,serif\" font-size=\"14.00\" fill=\"#000000\">gini = 0.469</text>\n<text text-anchor=\"middle\" x=\"1502.5\" y=\"-423.8\" font-family=\"Times,serif\" font-size=\"14.00\" fill=\"#000000\">samples = 8</text>\n<text text-anchor=\"middle\" x=\"1502.5\" y=\"-408.8\" font-family=\"Times,serif\" font-size=\"14.00\" fill=\"#000000\">value = [5, 3]</text>\n</g>\n<!-- 42&#45;&gt;43 -->\n<g id=\"edge43\" class=\"edge\">\n<title>42&#45;&gt;43</title>\n<path fill=\"none\" stroke=\"#000000\" d=\"M1502.5,-504.9465C1502.5,-496.776 1502.5,-487.9318 1502.5,-479.3697\"/>\n<polygon fill=\"#000000\" stroke=\"#000000\" points=\"1506.0001,-479.13 1502.5,-469.13 1499.0001,-479.13 1506.0001,-479.13\"/>\n</g>\n<!-- 46 -->\n<g id=\"node47\" class=\"node\">\n<title>46</title>\n<polygon fill=\"none\" stroke=\"#000000\" points=\"1688,-461.5 1571,-461.5 1571,-408.5 1688,-408.5 1688,-461.5\"/>\n<text text-anchor=\"middle\" x=\"1629.5\" y=\"-446.3\" font-family=\"Times,serif\" font-size=\"14.00\" fill=\"#000000\">gini = 0.0</text>\n<text text-anchor=\"middle\" x=\"1629.5\" y=\"-431.3\" font-family=\"Times,serif\" font-size=\"14.00\" fill=\"#000000\">samples = 3803</text>\n<text text-anchor=\"middle\" x=\"1629.5\" y=\"-416.3\" font-family=\"Times,serif\" font-size=\"14.00\" fill=\"#000000\">value = [3803, 0]</text>\n</g>\n<!-- 42&#45;&gt;46 -->\n<g id=\"edge46\" class=\"edge\">\n<title>42&#45;&gt;46</title>\n<path fill=\"none\" stroke=\"#000000\" d=\"M1544.0845,-504.9465C1558.6115,-493.0504 1574.8827,-479.726 1589.2951,-467.9237\"/>\n<polygon fill=\"#000000\" stroke=\"#000000\" points=\"1591.5686,-470.5858 1597.0879,-461.5422 1587.1335,-465.17 1591.5686,-470.5858\"/>\n</g>\n<!-- 44 -->\n<g id=\"node45\" class=\"node\">\n<title>44</title>\n<polygon fill=\"none\" stroke=\"#000000\" points=\"1577,-357.5 1482,-357.5 1482,-304.5 1577,-304.5 1577,-357.5\"/>\n<text text-anchor=\"middle\" x=\"1529.5\" y=\"-342.3\" font-family=\"Times,serif\" font-size=\"14.00\" fill=\"#000000\">gini = 0.0</text>\n<text text-anchor=\"middle\" x=\"1529.5\" y=\"-327.3\" font-family=\"Times,serif\" font-size=\"14.00\" fill=\"#000000\">samples = 5</text>\n<text text-anchor=\"middle\" x=\"1529.5\" y=\"-312.3\" font-family=\"Times,serif\" font-size=\"14.00\" fill=\"#000000\">value = [5, 0]</text>\n</g>\n<!-- 43&#45;&gt;44 -->\n<g id=\"edge44\" class=\"edge\">\n<title>43&#45;&gt;44</title>\n<path fill=\"none\" stroke=\"#000000\" d=\"M1511.3408,-400.9465C1514.1433,-390.1519 1517.251,-378.1813 1520.0918,-367.2389\"/>\n<polygon fill=\"#000000\" stroke=\"#000000\" points=\"1523.484,-368.1008 1522.6092,-357.5422 1516.7086,-366.3418 1523.484,-368.1008\"/>\n</g>\n<!-- 45 -->\n<g id=\"node46\" class=\"node\">\n<title>45</title>\n<polygon fill=\"none\" stroke=\"#000000\" points=\"1690,-357.5 1595,-357.5 1595,-304.5 1690,-304.5 1690,-357.5\"/>\n<text text-anchor=\"middle\" x=\"1642.5\" y=\"-342.3\" font-family=\"Times,serif\" font-size=\"14.00\" fill=\"#000000\">gini = 0.0</text>\n<text text-anchor=\"middle\" x=\"1642.5\" y=\"-327.3\" font-family=\"Times,serif\" font-size=\"14.00\" fill=\"#000000\">samples = 3</text>\n<text text-anchor=\"middle\" x=\"1642.5\" y=\"-312.3\" font-family=\"Times,serif\" font-size=\"14.00\" fill=\"#000000\">value = [0, 3]</text>\n</g>\n<!-- 43&#45;&gt;45 -->\n<g id=\"edge45\" class=\"edge\">\n<title>43&#45;&gt;45</title>\n<path fill=\"none\" stroke=\"#000000\" d=\"M1548.3412,-400.9465C1564.5035,-388.9403 1582.6242,-375.4791 1598.6205,-363.5962\"/>\n<polygon fill=\"#000000\" stroke=\"#000000\" points=\"1600.8299,-366.3151 1606.7702,-357.5422 1596.6556,-360.6958 1600.8299,-366.3151\"/>\n</g>\n<!-- 48 -->\n<g id=\"node49\" class=\"node\">\n<title>48</title>\n<polygon fill=\"none\" stroke=\"#000000\" points=\"1998,-677 1873,-677 1873,-609 1998,-609 1998,-677\"/>\n<text text-anchor=\"middle\" x=\"1935.5\" y=\"-661.8\" font-family=\"Times,serif\" font-size=\"14.00\" fill=\"#000000\">X[22] &lt;= 0.001</text>\n<text text-anchor=\"middle\" x=\"1935.5\" y=\"-646.8\" font-family=\"Times,serif\" font-size=\"14.00\" fill=\"#000000\">gini = 0.03</text>\n<text text-anchor=\"middle\" x=\"1935.5\" y=\"-631.8\" font-family=\"Times,serif\" font-size=\"14.00\" fill=\"#000000\">samples = 2009</text>\n<text text-anchor=\"middle\" x=\"1935.5\" y=\"-616.8\" font-family=\"Times,serif\" font-size=\"14.00\" fill=\"#000000\">value = [31, 1978]</text>\n</g>\n<!-- 47&#45;&gt;48 -->\n<g id=\"edge48\" class=\"edge\">\n<title>47&#45;&gt;48</title>\n<path fill=\"none\" stroke=\"#000000\" d=\"M1935.5,-712.9465C1935.5,-704.776 1935.5,-695.9318 1935.5,-687.3697\"/>\n<polygon fill=\"#000000\" stroke=\"#000000\" points=\"1939.0001,-687.13 1935.5,-677.13 1932.0001,-687.13 1939.0001,-687.13\"/>\n</g>\n<!-- 63 -->\n<g id=\"node64\" class=\"node\">\n<title>63</title>\n<polygon fill=\"none\" stroke=\"#000000\" points=\"2359,-677 2242,-677 2242,-609 2359,-609 2359,-677\"/>\n<text text-anchor=\"middle\" x=\"2300.5\" y=\"-661.8\" font-family=\"Times,serif\" font-size=\"14.00\" fill=\"#000000\">X[7] &lt;= 0.003</text>\n<text text-anchor=\"middle\" x=\"2300.5\" y=\"-646.8\" font-family=\"Times,serif\" font-size=\"14.00\" fill=\"#000000\">gini = 0.008</text>\n<text text-anchor=\"middle\" x=\"2300.5\" y=\"-631.8\" font-family=\"Times,serif\" font-size=\"14.00\" fill=\"#000000\">samples = 1689</text>\n<text text-anchor=\"middle\" x=\"2300.5\" y=\"-616.8\" font-family=\"Times,serif\" font-size=\"14.00\" fill=\"#000000\">value = [1682, 7]</text>\n</g>\n<!-- 47&#45;&gt;63 -->\n<g id=\"edge63\" class=\"edge\">\n<title>47&#45;&gt;63</title>\n<path fill=\"none\" stroke=\"#000000\" d=\"M2005.8757,-726.9478C2071.0968,-708.3642 2167.5111,-680.8927 2232.0945,-662.4909\"/>\n<polygon fill=\"#000000\" stroke=\"#000000\" points=\"2233.1223,-665.8374 2241.7805,-659.731 2231.2041,-659.1053 2233.1223,-665.8374\"/>\n</g>\n<!-- 49 -->\n<g id=\"node50\" class=\"node\">\n<title>49</title>\n<polygon fill=\"none\" stroke=\"#000000\" points=\"1924.5,-573 1814.5,-573 1814.5,-505 1924.5,-505 1924.5,-573\"/>\n<text text-anchor=\"middle\" x=\"1869.5\" y=\"-557.8\" font-family=\"Times,serif\" font-size=\"14.00\" fill=\"#000000\">X[30] &lt;= 0.0</text>\n<text text-anchor=\"middle\" x=\"1869.5\" y=\"-542.8\" font-family=\"Times,serif\" font-size=\"14.00\" fill=\"#000000\">gini = 0.401</text>\n<text text-anchor=\"middle\" x=\"1869.5\" y=\"-527.8\" font-family=\"Times,serif\" font-size=\"14.00\" fill=\"#000000\">samples = 36</text>\n<text text-anchor=\"middle\" x=\"1869.5\" y=\"-512.8\" font-family=\"Times,serif\" font-size=\"14.00\" fill=\"#000000\">value = [26, 10]</text>\n</g>\n<!-- 48&#45;&gt;49 -->\n<g id=\"edge49\" class=\"edge\">\n<title>48&#45;&gt;49</title>\n<path fill=\"none\" stroke=\"#000000\" d=\"M1913.8891,-608.9465C1908.3622,-600.2373 1902.3494,-590.7626 1896.5854,-581.6801\"/>\n<polygon fill=\"#000000\" stroke=\"#000000\" points=\"1899.4729,-579.6979 1891.1594,-573.13 1893.5626,-583.4487 1899.4729,-579.6979\"/>\n</g>\n<!-- 52 -->\n<g id=\"node53\" class=\"node\">\n<title>52</title>\n<polygon fill=\"none\" stroke=\"#000000\" points=\"2060,-573 1943,-573 1943,-505 2060,-505 2060,-573\"/>\n<text text-anchor=\"middle\" x=\"2001.5\" y=\"-557.8\" font-family=\"Times,serif\" font-size=\"14.00\" fill=\"#000000\">X[13] &lt;= 0.01</text>\n<text text-anchor=\"middle\" x=\"2001.5\" y=\"-542.8\" font-family=\"Times,serif\" font-size=\"14.00\" fill=\"#000000\">gini = 0.005</text>\n<text text-anchor=\"middle\" x=\"2001.5\" y=\"-527.8\" font-family=\"Times,serif\" font-size=\"14.00\" fill=\"#000000\">samples = 1973</text>\n<text text-anchor=\"middle\" x=\"2001.5\" y=\"-512.8\" font-family=\"Times,serif\" font-size=\"14.00\" fill=\"#000000\">value = [5, 1968]</text>\n</g>\n<!-- 48&#45;&gt;52 -->\n<g id=\"edge52\" class=\"edge\">\n<title>48&#45;&gt;52</title>\n<path fill=\"none\" stroke=\"#000000\" d=\"M1957.1109,-608.9465C1962.6378,-600.2373 1968.6506,-590.7626 1974.4146,-581.6801\"/>\n<polygon fill=\"#000000\" stroke=\"#000000\" points=\"1977.4374,-583.4487 1979.8406,-573.13 1971.5271,-579.6979 1977.4374,-583.4487\"/>\n</g>\n<!-- 50 -->\n<g id=\"node51\" class=\"node\">\n<title>50</title>\n<polygon fill=\"none\" stroke=\"#000000\" points=\"1808.5,-461.5 1706.5,-461.5 1706.5,-408.5 1808.5,-408.5 1808.5,-461.5\"/>\n<text text-anchor=\"middle\" x=\"1757.5\" y=\"-446.3\" font-family=\"Times,serif\" font-size=\"14.00\" fill=\"#000000\">gini = 0.0</text>\n<text text-anchor=\"middle\" x=\"1757.5\" y=\"-431.3\" font-family=\"Times,serif\" font-size=\"14.00\" fill=\"#000000\">samples = 10</text>\n<text text-anchor=\"middle\" x=\"1757.5\" y=\"-416.3\" font-family=\"Times,serif\" font-size=\"14.00\" fill=\"#000000\">value = [0, 10]</text>\n</g>\n<!-- 49&#45;&gt;50 -->\n<g id=\"edge50\" class=\"edge\">\n<title>49&#45;&gt;50</title>\n<path fill=\"none\" stroke=\"#000000\" d=\"M1832.827,-504.9465C1820.2531,-493.2707 1806.1974,-480.219 1793.6641,-468.5809\"/>\n<polygon fill=\"#000000\" stroke=\"#000000\" points=\"1795.7934,-465.7819 1786.0839,-461.5422 1791.0302,-470.9115 1795.7934,-465.7819\"/>\n</g>\n<!-- 51 -->\n<g id=\"node52\" class=\"node\">\n<title>51</title>\n<polygon fill=\"none\" stroke=\"#000000\" points=\"1928.5,-461.5 1826.5,-461.5 1826.5,-408.5 1928.5,-408.5 1928.5,-461.5\"/>\n<text text-anchor=\"middle\" x=\"1877.5\" y=\"-446.3\" font-family=\"Times,serif\" font-size=\"14.00\" fill=\"#000000\">gini = 0.0</text>\n<text text-anchor=\"middle\" x=\"1877.5\" y=\"-431.3\" font-family=\"Times,serif\" font-size=\"14.00\" fill=\"#000000\">samples = 26</text>\n<text text-anchor=\"middle\" x=\"1877.5\" y=\"-416.3\" font-family=\"Times,serif\" font-size=\"14.00\" fill=\"#000000\">value = [26, 0]</text>\n</g>\n<!-- 49&#45;&gt;51 -->\n<g id=\"edge51\" class=\"edge\">\n<title>49&#45;&gt;51</title>\n<path fill=\"none\" stroke=\"#000000\" d=\"M1872.1195,-504.9465C1872.9414,-494.2621 1873.8519,-482.4254 1874.6866,-471.5742\"/>\n<polygon fill=\"#000000\" stroke=\"#000000\" points=\"1878.1809,-471.7812 1875.4583,-461.5422 1871.2015,-471.2442 1878.1809,-471.7812\"/>\n</g>\n<!-- 53 -->\n<g id=\"node54\" class=\"node\">\n<title>53</title>\n<polygon fill=\"none\" stroke=\"#000000\" points=\"2042,-461.5 1947,-461.5 1947,-408.5 2042,-408.5 2042,-461.5\"/>\n<text text-anchor=\"middle\" x=\"1994.5\" y=\"-446.3\" font-family=\"Times,serif\" font-size=\"14.00\" fill=\"#000000\">gini = 0.0</text>\n<text text-anchor=\"middle\" x=\"1994.5\" y=\"-431.3\" font-family=\"Times,serif\" font-size=\"14.00\" fill=\"#000000\">samples = 2</text>\n<text text-anchor=\"middle\" x=\"1994.5\" y=\"-416.3\" font-family=\"Times,serif\" font-size=\"14.00\" fill=\"#000000\">value = [2, 0]</text>\n</g>\n<!-- 52&#45;&gt;53 -->\n<g id=\"edge53\" class=\"edge\">\n<title>52&#45;&gt;53</title>\n<path fill=\"none\" stroke=\"#000000\" d=\"M1999.2079,-504.9465C1998.4888,-494.2621 1997.6921,-482.4254 1996.9617,-471.5742\"/>\n<polygon fill=\"#000000\" stroke=\"#000000\" points=\"2000.4502,-471.2845 1996.2865,-461.5422 1993.466,-471.7547 2000.4502,-471.2845\"/>\n</g>\n<!-- 54 -->\n<g id=\"node55\" class=\"node\">\n<title>54</title>\n<polygon fill=\"none\" stroke=\"#000000\" points=\"2177,-469 2060,-469 2060,-401 2177,-401 2177,-469\"/>\n<text text-anchor=\"middle\" x=\"2118.5\" y=\"-453.8\" font-family=\"Times,serif\" font-size=\"14.00\" fill=\"#000000\">X[26] &lt;= 0.015</text>\n<text text-anchor=\"middle\" x=\"2118.5\" y=\"-438.8\" font-family=\"Times,serif\" font-size=\"14.00\" fill=\"#000000\">gini = 0.003</text>\n<text text-anchor=\"middle\" x=\"2118.5\" y=\"-423.8\" font-family=\"Times,serif\" font-size=\"14.00\" fill=\"#000000\">samples = 1971</text>\n<text text-anchor=\"middle\" x=\"2118.5\" y=\"-408.8\" font-family=\"Times,serif\" font-size=\"14.00\" fill=\"#000000\">value = [3, 1968]</text>\n</g>\n<!-- 52&#45;&gt;54 -->\n<g id=\"edge54\" class=\"edge\">\n<title>52&#45;&gt;54</title>\n<path fill=\"none\" stroke=\"#000000\" d=\"M2039.8102,-504.9465C2050.2141,-495.6986 2061.589,-485.5876 2072.3757,-475.9994\"/>\n<polygon fill=\"#000000\" stroke=\"#000000\" points=\"2074.9549,-478.3896 2080.1038,-469.13 2070.3044,-473.1577 2074.9549,-478.3896\"/>\n</g>\n<!-- 55 -->\n<g id=\"node56\" class=\"node\">\n<title>55</title>\n<polygon fill=\"none\" stroke=\"#000000\" points=\"2070,-357.5 1975,-357.5 1975,-304.5 2070,-304.5 2070,-357.5\"/>\n<text text-anchor=\"middle\" x=\"2022.5\" y=\"-342.3\" font-family=\"Times,serif\" font-size=\"14.00\" fill=\"#000000\">gini = 0.0</text>\n<text text-anchor=\"middle\" x=\"2022.5\" y=\"-327.3\" font-family=\"Times,serif\" font-size=\"14.00\" fill=\"#000000\">samples = 1</text>\n<text text-anchor=\"middle\" x=\"2022.5\" y=\"-312.3\" font-family=\"Times,serif\" font-size=\"14.00\" fill=\"#000000\">value = [1, 0]</text>\n</g>\n<!-- 54&#45;&gt;55 -->\n<g id=\"edge55\" class=\"edge\">\n<title>54&#45;&gt;55</title>\n<path fill=\"none\" stroke=\"#000000\" d=\"M2087.066,-400.9465C2076.39,-389.3809 2064.4678,-376.4652 2053.8022,-364.9107\"/>\n<polygon fill=\"#000000\" stroke=\"#000000\" points=\"2056.3551,-362.5162 2047.0005,-357.5422 2051.2115,-367.2642 2056.3551,-362.5162\"/>\n</g>\n<!-- 56 -->\n<g id=\"node57\" class=\"node\">\n<title>56</title>\n<polygon fill=\"none\" stroke=\"#000000\" points=\"2205,-365 2088,-365 2088,-297 2205,-297 2205,-365\"/>\n<text text-anchor=\"middle\" x=\"2146.5\" y=\"-349.8\" font-family=\"Times,serif\" font-size=\"14.00\" fill=\"#000000\">X[0] &lt;= 0.26</text>\n<text text-anchor=\"middle\" x=\"2146.5\" y=\"-334.8\" font-family=\"Times,serif\" font-size=\"14.00\" fill=\"#000000\">gini = 0.002</text>\n<text text-anchor=\"middle\" x=\"2146.5\" y=\"-319.8\" font-family=\"Times,serif\" font-size=\"14.00\" fill=\"#000000\">samples = 1970</text>\n<text text-anchor=\"middle\" x=\"2146.5\" y=\"-304.8\" font-family=\"Times,serif\" font-size=\"14.00\" fill=\"#000000\">value = [2, 1968]</text>\n</g>\n<!-- 54&#45;&gt;56 -->\n<g id=\"edge56\" class=\"edge\">\n<title>54&#45;&gt;56</title>\n<path fill=\"none\" stroke=\"#000000\" d=\"M2127.6682,-400.9465C2129.9163,-392.5965 2132.3539,-383.5427 2134.7062,-374.8056\"/>\n<polygon fill=\"#000000\" stroke=\"#000000\" points=\"2138.091,-375.6961 2137.3112,-365.13 2131.3317,-373.8762 2138.091,-375.6961\"/>\n</g>\n<!-- 57 -->\n<g id=\"node58\" class=\"node\">\n<title>57</title>\n<polygon fill=\"none\" stroke=\"#000000\" points=\"2099,-261 1982,-261 1982,-193 2099,-193 2099,-261\"/>\n<text text-anchor=\"middle\" x=\"2040.5\" y=\"-245.8\" font-family=\"Times,serif\" font-size=\"14.00\" fill=\"#000000\">X[22] &lt;= 0.001</text>\n<text text-anchor=\"middle\" x=\"2040.5\" y=\"-230.8\" font-family=\"Times,serif\" font-size=\"14.00\" fill=\"#000000\">gini = 0.001</text>\n<text text-anchor=\"middle\" x=\"2040.5\" y=\"-215.8\" font-family=\"Times,serif\" font-size=\"14.00\" fill=\"#000000\">samples = 1969</text>\n<text text-anchor=\"middle\" x=\"2040.5\" y=\"-200.8\" font-family=\"Times,serif\" font-size=\"14.00\" fill=\"#000000\">value = [1, 1968]</text>\n</g>\n<!-- 56&#45;&gt;57 -->\n<g id=\"edge57\" class=\"edge\">\n<title>56&#45;&gt;57</title>\n<path fill=\"none\" stroke=\"#000000\" d=\"M2111.7916,-296.9465C2102.4574,-287.7884 2092.2604,-277.7838 2082.5727,-268.2788\"/>\n<polygon fill=\"#000000\" stroke=\"#000000\" points=\"2084.8757,-265.6351 2075.2863,-261.13 2079.9733,-270.6318 2084.8757,-265.6351\"/>\n</g>\n<!-- 62 -->\n<g id=\"node63\" class=\"node\">\n<title>62</title>\n<polygon fill=\"none\" stroke=\"#000000\" points=\"2212,-253.5 2117,-253.5 2117,-200.5 2212,-200.5 2212,-253.5\"/>\n<text text-anchor=\"middle\" x=\"2164.5\" y=\"-238.3\" font-family=\"Times,serif\" font-size=\"14.00\" fill=\"#000000\">gini = 0.0</text>\n<text text-anchor=\"middle\" x=\"2164.5\" y=\"-223.3\" font-family=\"Times,serif\" font-size=\"14.00\" fill=\"#000000\">samples = 1</text>\n<text text-anchor=\"middle\" x=\"2164.5\" y=\"-208.3\" font-family=\"Times,serif\" font-size=\"14.00\" fill=\"#000000\">value = [1, 0]</text>\n</g>\n<!-- 56&#45;&gt;62 -->\n<g id=\"edge62\" class=\"edge\">\n<title>56&#45;&gt;62</title>\n<path fill=\"none\" stroke=\"#000000\" d=\"M2152.3939,-296.9465C2154.2431,-286.2621 2156.2918,-274.4254 2158.1698,-263.5742\"/>\n<polygon fill=\"#000000\" stroke=\"#000000\" points=\"2161.6494,-263.9926 2159.9062,-253.5422 2154.7519,-262.7987 2161.6494,-263.9926\"/>\n</g>\n<!-- 58 -->\n<g id=\"node59\" class=\"node\">\n<title>58</title>\n<polygon fill=\"none\" stroke=\"#000000\" points=\"1985,-157 1884,-157 1884,-89 1985,-89 1985,-157\"/>\n<text text-anchor=\"middle\" x=\"1934.5\" y=\"-141.8\" font-family=\"Times,serif\" font-size=\"14.00\" fill=\"#000000\">X[1] &lt;= 0.049</text>\n<text text-anchor=\"middle\" x=\"1934.5\" y=\"-126.8\" font-family=\"Times,serif\" font-size=\"14.00\" fill=\"#000000\">gini = 0.375</text>\n<text text-anchor=\"middle\" x=\"1934.5\" y=\"-111.8\" font-family=\"Times,serif\" font-size=\"14.00\" fill=\"#000000\">samples = 4</text>\n<text text-anchor=\"middle\" x=\"1934.5\" y=\"-96.8\" font-family=\"Times,serif\" font-size=\"14.00\" fill=\"#000000\">value = [1, 3]</text>\n</g>\n<!-- 57&#45;&gt;58 -->\n<g id=\"edge58\" class=\"edge\">\n<title>57&#45;&gt;58</title>\n<path fill=\"none\" stroke=\"#000000\" d=\"M2005.7916,-192.9465C1996.4574,-183.7884 1986.2604,-173.7838 1976.5727,-164.2788\"/>\n<polygon fill=\"#000000\" stroke=\"#000000\" points=\"1978.8757,-161.6351 1969.2863,-157.13 1973.9733,-166.6318 1978.8757,-161.6351\"/>\n</g>\n<!-- 61 -->\n<g id=\"node62\" class=\"node\">\n<title>61</title>\n<polygon fill=\"none\" stroke=\"#000000\" points=\"2120,-149.5 2003,-149.5 2003,-96.5 2120,-96.5 2120,-149.5\"/>\n<text text-anchor=\"middle\" x=\"2061.5\" y=\"-134.3\" font-family=\"Times,serif\" font-size=\"14.00\" fill=\"#000000\">gini = 0.0</text>\n<text text-anchor=\"middle\" x=\"2061.5\" y=\"-119.3\" font-family=\"Times,serif\" font-size=\"14.00\" fill=\"#000000\">samples = 1965</text>\n<text text-anchor=\"middle\" x=\"2061.5\" y=\"-104.3\" font-family=\"Times,serif\" font-size=\"14.00\" fill=\"#000000\">value = [0, 1965]</text>\n</g>\n<!-- 57&#45;&gt;61 -->\n<g id=\"edge61\" class=\"edge\">\n<title>57&#45;&gt;61</title>\n<path fill=\"none\" stroke=\"#000000\" d=\"M2047.3762,-192.9465C2049.5336,-182.2621 2051.9237,-170.4254 2054.1148,-159.5742\"/>\n<polygon fill=\"#000000\" stroke=\"#000000\" points=\"2057.5919,-160.0371 2056.1405,-149.5422 2050.7304,-158.6516 2057.5919,-160.0371\"/>\n</g>\n<!-- 59 -->\n<g id=\"node60\" class=\"node\">\n<title>59</title>\n<polygon fill=\"none\" stroke=\"#000000\" points=\"1925,-53 1830,-53 1830,0 1925,0 1925,-53\"/>\n<text text-anchor=\"middle\" x=\"1877.5\" y=\"-37.8\" font-family=\"Times,serif\" font-size=\"14.00\" fill=\"#000000\">gini = 0.0</text>\n<text text-anchor=\"middle\" x=\"1877.5\" y=\"-22.8\" font-family=\"Times,serif\" font-size=\"14.00\" fill=\"#000000\">samples = 3</text>\n<text text-anchor=\"middle\" x=\"1877.5\" y=\"-7.8\" font-family=\"Times,serif\" font-size=\"14.00\" fill=\"#000000\">value = [0, 3]</text>\n</g>\n<!-- 58&#45;&gt;59 -->\n<g id=\"edge59\" class=\"edge\">\n<title>58&#45;&gt;59</title>\n<path fill=\"none\" stroke=\"#000000\" d=\"M1914.4039,-88.9777C1909.2656,-80.2786 1903.727,-70.9018 1898.5425,-62.1247\"/>\n<polygon fill=\"#000000\" stroke=\"#000000\" points=\"1901.399,-60.0786 1893.2996,-53.2485 1895.3719,-63.6387 1901.399,-60.0786\"/>\n</g>\n<!-- 60 -->\n<g id=\"node61\" class=\"node\">\n<title>60</title>\n<polygon fill=\"none\" stroke=\"#000000\" points=\"2038,-53 1943,-53 1943,0 2038,0 2038,-53\"/>\n<text text-anchor=\"middle\" x=\"1990.5\" y=\"-37.8\" font-family=\"Times,serif\" font-size=\"14.00\" fill=\"#000000\">gini = 0.0</text>\n<text text-anchor=\"middle\" x=\"1990.5\" y=\"-22.8\" font-family=\"Times,serif\" font-size=\"14.00\" fill=\"#000000\">samples = 1</text>\n<text text-anchor=\"middle\" x=\"1990.5\" y=\"-7.8\" font-family=\"Times,serif\" font-size=\"14.00\" fill=\"#000000\">value = [1, 0]</text>\n</g>\n<!-- 58&#45;&gt;60 -->\n<g id=\"edge60\" class=\"edge\">\n<title>58&#45;&gt;60</title>\n<path fill=\"none\" stroke=\"#000000\" d=\"M1954.2435,-88.9777C1959.2917,-80.2786 1964.7331,-70.9018 1969.8266,-62.1247\"/>\n<polygon fill=\"#000000\" stroke=\"#000000\" points=\"1972.9855,-63.6544 1974.9776,-53.2485 1966.9311,-60.1409 1972.9855,-63.6544\"/>\n</g>\n<!-- 64 -->\n<g id=\"node65\" class=\"node\">\n<title>64</title>\n<polygon fill=\"none\" stroke=\"#000000\" points=\"2359,-573 2242,-573 2242,-505 2359,-505 2359,-573\"/>\n<text text-anchor=\"middle\" x=\"2300.5\" y=\"-557.8\" font-family=\"Times,serif\" font-size=\"14.00\" fill=\"#000000\">X[14] &lt;= &#45;0.003</text>\n<text text-anchor=\"middle\" x=\"2300.5\" y=\"-542.8\" font-family=\"Times,serif\" font-size=\"14.00\" fill=\"#000000\">gini = 0.004</text>\n<text text-anchor=\"middle\" x=\"2300.5\" y=\"-527.8\" font-family=\"Times,serif\" font-size=\"14.00\" fill=\"#000000\">samples = 1683</text>\n<text text-anchor=\"middle\" x=\"2300.5\" y=\"-512.8\" font-family=\"Times,serif\" font-size=\"14.00\" fill=\"#000000\">value = [1680, 3]</text>\n</g>\n<!-- 63&#45;&gt;64 -->\n<g id=\"edge64\" class=\"edge\">\n<title>63&#45;&gt;64</title>\n<path fill=\"none\" stroke=\"#000000\" d=\"M2300.5,-608.9465C2300.5,-600.776 2300.5,-591.9318 2300.5,-583.3697\"/>\n<polygon fill=\"#000000\" stroke=\"#000000\" points=\"2304.0001,-583.13 2300.5,-573.13 2297.0001,-583.13 2304.0001,-583.13\"/>\n</g>\n<!-- 73 -->\n<g id=\"node74\" class=\"node\">\n<title>73</title>\n<polygon fill=\"none\" stroke=\"#000000\" points=\"2545,-573 2436,-573 2436,-505 2545,-505 2545,-573\"/>\n<text text-anchor=\"middle\" x=\"2490.5\" y=\"-557.8\" font-family=\"Times,serif\" font-size=\"14.00\" fill=\"#000000\">X[13] &lt;= 0.028</text>\n<text text-anchor=\"middle\" x=\"2490.5\" y=\"-542.8\" font-family=\"Times,serif\" font-size=\"14.00\" fill=\"#000000\">gini = 0.444</text>\n<text text-anchor=\"middle\" x=\"2490.5\" y=\"-527.8\" font-family=\"Times,serif\" font-size=\"14.00\" fill=\"#000000\">samples = 6</text>\n<text text-anchor=\"middle\" x=\"2490.5\" y=\"-512.8\" font-family=\"Times,serif\" font-size=\"14.00\" fill=\"#000000\">value = [2, 4]</text>\n</g>\n<!-- 63&#45;&gt;73 -->\n<g id=\"edge73\" class=\"edge\">\n<title>63&#45;&gt;73</title>\n<path fill=\"none\" stroke=\"#000000\" d=\"M2359.0566,-610.948C2380.5231,-599.1979 2404.9157,-585.8461 2426.8102,-573.8618\"/>\n<polygon fill=\"#000000\" stroke=\"#000000\" points=\"2428.6121,-576.8656 2435.7035,-568.9939 2425.2511,-570.7252 2428.6121,-576.8656\"/>\n</g>\n<!-- 65 -->\n<g id=\"node66\" class=\"node\">\n<title>65</title>\n<polygon fill=\"none\" stroke=\"#000000\" points=\"2290,-461.5 2195,-461.5 2195,-408.5 2290,-408.5 2290,-461.5\"/>\n<text text-anchor=\"middle\" x=\"2242.5\" y=\"-446.3\" font-family=\"Times,serif\" font-size=\"14.00\" fill=\"#000000\">gini = 0.0</text>\n<text text-anchor=\"middle\" x=\"2242.5\" y=\"-431.3\" font-family=\"Times,serif\" font-size=\"14.00\" fill=\"#000000\">samples = 1</text>\n<text text-anchor=\"middle\" x=\"2242.5\" y=\"-416.3\" font-family=\"Times,serif\" font-size=\"14.00\" fill=\"#000000\">value = [0, 1]</text>\n</g>\n<!-- 64&#45;&gt;65 -->\n<g id=\"edge65\" class=\"edge\">\n<title>64&#45;&gt;65</title>\n<path fill=\"none\" stroke=\"#000000\" d=\"M2281.5086,-504.9465C2275.3657,-493.9316 2268.5399,-481.6922 2262.3373,-470.5703\"/>\n<polygon fill=\"#000000\" stroke=\"#000000\" points=\"2265.2299,-468.5711 2257.3024,-461.5422 2259.1163,-471.9806 2265.2299,-468.5711\"/>\n</g>\n<!-- 66 -->\n<g id=\"node67\" class=\"node\">\n<title>66</title>\n<polygon fill=\"none\" stroke=\"#000000\" points=\"2425,-469 2308,-469 2308,-401 2425,-401 2425,-469\"/>\n<text text-anchor=\"middle\" x=\"2366.5\" y=\"-453.8\" font-family=\"Times,serif\" font-size=\"14.00\" fill=\"#000000\">X[28] &lt;= 0.003</text>\n<text text-anchor=\"middle\" x=\"2366.5\" y=\"-438.8\" font-family=\"Times,serif\" font-size=\"14.00\" fill=\"#000000\">gini = 0.002</text>\n<text text-anchor=\"middle\" x=\"2366.5\" y=\"-423.8\" font-family=\"Times,serif\" font-size=\"14.00\" fill=\"#000000\">samples = 1682</text>\n<text text-anchor=\"middle\" x=\"2366.5\" y=\"-408.8\" font-family=\"Times,serif\" font-size=\"14.00\" fill=\"#000000\">value = [1680, 2]</text>\n</g>\n<!-- 64&#45;&gt;66 -->\n<g id=\"edge66\" class=\"edge\">\n<title>64&#45;&gt;66</title>\n<path fill=\"none\" stroke=\"#000000\" d=\"M2322.1109,-504.9465C2327.6378,-496.2373 2333.6506,-486.7626 2339.4146,-477.6801\"/>\n<polygon fill=\"#000000\" stroke=\"#000000\" points=\"2342.4374,-479.4487 2344.8406,-469.13 2336.5271,-475.6979 2342.4374,-479.4487\"/>\n</g>\n<!-- 67 -->\n<g id=\"node68\" class=\"node\">\n<title>67</title>\n<polygon fill=\"none\" stroke=\"#000000\" points=\"2396,-365 2279,-365 2279,-297 2396,-297 2396,-365\"/>\n<text text-anchor=\"middle\" x=\"2337.5\" y=\"-349.8\" font-family=\"Times,serif\" font-size=\"14.00\" fill=\"#000000\">X[28] &lt;= &#45;0.003</text>\n<text text-anchor=\"middle\" x=\"2337.5\" y=\"-334.8\" font-family=\"Times,serif\" font-size=\"14.00\" fill=\"#000000\">gini = 0.001</text>\n<text text-anchor=\"middle\" x=\"2337.5\" y=\"-319.8\" font-family=\"Times,serif\" font-size=\"14.00\" fill=\"#000000\">samples = 1681</text>\n<text text-anchor=\"middle\" x=\"2337.5\" y=\"-304.8\" font-family=\"Times,serif\" font-size=\"14.00\" fill=\"#000000\">value = [1680, 1]</text>\n</g>\n<!-- 66&#45;&gt;67 -->\n<g id=\"edge67\" class=\"edge\">\n<title>66&#45;&gt;67</title>\n<path fill=\"none\" stroke=\"#000000\" d=\"M2357.0043,-400.9465C2354.6759,-392.5965 2352.1513,-383.5427 2349.715,-374.8056\"/>\n<polygon fill=\"#000000\" stroke=\"#000000\" points=\"2353.0745,-373.8224 2347.017,-365.13 2346.3317,-375.7026 2353.0745,-373.8224\"/>\n</g>\n<!-- 72 -->\n<g id=\"node73\" class=\"node\">\n<title>72</title>\n<polygon fill=\"none\" stroke=\"#000000\" points=\"2509,-357.5 2414,-357.5 2414,-304.5 2509,-304.5 2509,-357.5\"/>\n<text text-anchor=\"middle\" x=\"2461.5\" y=\"-342.3\" font-family=\"Times,serif\" font-size=\"14.00\" fill=\"#000000\">gini = 0.0</text>\n<text text-anchor=\"middle\" x=\"2461.5\" y=\"-327.3\" font-family=\"Times,serif\" font-size=\"14.00\" fill=\"#000000\">samples = 1</text>\n<text text-anchor=\"middle\" x=\"2461.5\" y=\"-312.3\" font-family=\"Times,serif\" font-size=\"14.00\" fill=\"#000000\">value = [0, 1]</text>\n</g>\n<!-- 66&#45;&gt;72 -->\n<g id=\"edge72\" class=\"edge\">\n<title>66&#45;&gt;72</title>\n<path fill=\"none\" stroke=\"#000000\" d=\"M2397.6066,-400.9465C2408.0707,-389.491 2419.7447,-376.711 2430.222,-365.2412\"/>\n<polygon fill=\"#000000\" stroke=\"#000000\" points=\"2433.0945,-367.2861 2437.2548,-357.5422 2427.9262,-362.565 2433.0945,-367.2861\"/>\n</g>\n<!-- 68 -->\n<g id=\"node69\" class=\"node\">\n<title>68</title>\n<polygon fill=\"none\" stroke=\"#000000\" points=\"2374,-261 2265,-261 2265,-193 2374,-193 2374,-261\"/>\n<text text-anchor=\"middle\" x=\"2319.5\" y=\"-245.8\" font-family=\"Times,serif\" font-size=\"14.00\" fill=\"#000000\">X[25] &lt;= 0.002</text>\n<text text-anchor=\"middle\" x=\"2319.5\" y=\"-230.8\" font-family=\"Times,serif\" font-size=\"14.00\" fill=\"#000000\">gini = 0.5</text>\n<text text-anchor=\"middle\" x=\"2319.5\" y=\"-215.8\" font-family=\"Times,serif\" font-size=\"14.00\" fill=\"#000000\">samples = 2</text>\n<text text-anchor=\"middle\" x=\"2319.5\" y=\"-200.8\" font-family=\"Times,serif\" font-size=\"14.00\" fill=\"#000000\">value = [1, 1]</text>\n</g>\n<!-- 67&#45;&gt;68 -->\n<g id=\"edge68\" class=\"edge\">\n<title>67&#45;&gt;68</title>\n<path fill=\"none\" stroke=\"#000000\" d=\"M2331.6061,-296.9465C2330.1765,-288.6863 2328.6276,-279.7374 2327.1305,-271.0875\"/>\n<polygon fill=\"#000000\" stroke=\"#000000\" points=\"2330.5613,-270.3866 2325.4071,-261.13 2323.6639,-271.5804 2330.5613,-270.3866\"/>\n</g>\n<!-- 71 -->\n<g id=\"node72\" class=\"node\">\n<title>71</title>\n<polygon fill=\"none\" stroke=\"#000000\" points=\"2509,-253.5 2392,-253.5 2392,-200.5 2509,-200.5 2509,-253.5\"/>\n<text text-anchor=\"middle\" x=\"2450.5\" y=\"-238.3\" font-family=\"Times,serif\" font-size=\"14.00\" fill=\"#000000\">gini = 0.0</text>\n<text text-anchor=\"middle\" x=\"2450.5\" y=\"-223.3\" font-family=\"Times,serif\" font-size=\"14.00\" fill=\"#000000\">samples = 1679</text>\n<text text-anchor=\"middle\" x=\"2450.5\" y=\"-208.3\" font-family=\"Times,serif\" font-size=\"14.00\" fill=\"#000000\">value = [1679, 0]</text>\n</g>\n<!-- 67&#45;&gt;71 -->\n<g id=\"edge71\" class=\"edge\">\n<title>67&#45;&gt;71</title>\n<path fill=\"none\" stroke=\"#000000\" d=\"M2374.5004,-296.9465C2387.1866,-285.2707 2401.3678,-272.219 2414.013,-260.5809\"/>\n<polygon fill=\"#000000\" stroke=\"#000000\" points=\"2416.6731,-262.8895 2421.6609,-253.5422 2411.9327,-257.7389 2416.6731,-262.8895\"/>\n</g>\n<!-- 69 -->\n<g id=\"node70\" class=\"node\">\n<title>69</title>\n<polygon fill=\"none\" stroke=\"#000000\" points=\"2310,-149.5 2215,-149.5 2215,-96.5 2310,-96.5 2310,-149.5\"/>\n<text text-anchor=\"middle\" x=\"2262.5\" y=\"-134.3\" font-family=\"Times,serif\" font-size=\"14.00\" fill=\"#000000\">gini = 0.0</text>\n<text text-anchor=\"middle\" x=\"2262.5\" y=\"-119.3\" font-family=\"Times,serif\" font-size=\"14.00\" fill=\"#000000\">samples = 1</text>\n<text text-anchor=\"middle\" x=\"2262.5\" y=\"-104.3\" font-family=\"Times,serif\" font-size=\"14.00\" fill=\"#000000\">value = [1, 0]</text>\n</g>\n<!-- 68&#45;&gt;69 -->\n<g id=\"edge69\" class=\"edge\">\n<title>68&#45;&gt;69</title>\n<path fill=\"none\" stroke=\"#000000\" d=\"M2300.8361,-192.9465C2294.7991,-181.9316 2288.0909,-169.6922 2281.9953,-158.5703\"/>\n<polygon fill=\"#000000\" stroke=\"#000000\" points=\"2284.9227,-156.6292 2277.0471,-149.5422 2278.7842,-159.9936 2284.9227,-156.6292\"/>\n</g>\n<!-- 70 -->\n<g id=\"node71\" class=\"node\">\n<title>70</title>\n<polygon fill=\"none\" stroke=\"#000000\" points=\"2423,-149.5 2328,-149.5 2328,-96.5 2423,-96.5 2423,-149.5\"/>\n<text text-anchor=\"middle\" x=\"2375.5\" y=\"-134.3\" font-family=\"Times,serif\" font-size=\"14.00\" fill=\"#000000\">gini = 0.0</text>\n<text text-anchor=\"middle\" x=\"2375.5\" y=\"-119.3\" font-family=\"Times,serif\" font-size=\"14.00\" fill=\"#000000\">samples = 1</text>\n<text text-anchor=\"middle\" x=\"2375.5\" y=\"-104.3\" font-family=\"Times,serif\" font-size=\"14.00\" fill=\"#000000\">value = [0, 1]</text>\n</g>\n<!-- 68&#45;&gt;70 -->\n<g id=\"edge70\" class=\"edge\">\n<title>68&#45;&gt;70</title>\n<path fill=\"none\" stroke=\"#000000\" d=\"M2337.8365,-192.9465C2343.7676,-181.9316 2350.3581,-169.6922 2356.3468,-158.5703\"/>\n<polygon fill=\"#000000\" stroke=\"#000000\" points=\"2359.5487,-160.0063 2361.2081,-149.5422 2353.3854,-156.6875 2359.5487,-160.0063\"/>\n</g>\n<!-- 74 -->\n<g id=\"node75\" class=\"node\">\n<title>74</title>\n<polygon fill=\"none\" stroke=\"#000000\" points=\"2538,-461.5 2443,-461.5 2443,-408.5 2538,-408.5 2538,-461.5\"/>\n<text text-anchor=\"middle\" x=\"2490.5\" y=\"-446.3\" font-family=\"Times,serif\" font-size=\"14.00\" fill=\"#000000\">gini = 0.0</text>\n<text text-anchor=\"middle\" x=\"2490.5\" y=\"-431.3\" font-family=\"Times,serif\" font-size=\"14.00\" fill=\"#000000\">samples = 2</text>\n<text text-anchor=\"middle\" x=\"2490.5\" y=\"-416.3\" font-family=\"Times,serif\" font-size=\"14.00\" fill=\"#000000\">value = [2, 0]</text>\n</g>\n<!-- 73&#45;&gt;74 -->\n<g id=\"edge74\" class=\"edge\">\n<title>73&#45;&gt;74</title>\n<path fill=\"none\" stroke=\"#000000\" d=\"M2490.5,-504.9465C2490.5,-494.2621 2490.5,-482.4254 2490.5,-471.5742\"/>\n<polygon fill=\"#000000\" stroke=\"#000000\" points=\"2494.0001,-471.5421 2490.5,-461.5422 2487.0001,-471.5422 2494.0001,-471.5421\"/>\n</g>\n<!-- 75 -->\n<g id=\"node76\" class=\"node\">\n<title>75</title>\n<polygon fill=\"none\" stroke=\"#000000\" points=\"2651,-461.5 2556,-461.5 2556,-408.5 2651,-408.5 2651,-461.5\"/>\n<text text-anchor=\"middle\" x=\"2603.5\" y=\"-446.3\" font-family=\"Times,serif\" font-size=\"14.00\" fill=\"#000000\">gini = 0.0</text>\n<text text-anchor=\"middle\" x=\"2603.5\" y=\"-431.3\" font-family=\"Times,serif\" font-size=\"14.00\" fill=\"#000000\">samples = 4</text>\n<text text-anchor=\"middle\" x=\"2603.5\" y=\"-416.3\" font-family=\"Times,serif\" font-size=\"14.00\" fill=\"#000000\">value = [0, 4]</text>\n</g>\n<!-- 73&#45;&gt;75 -->\n<g id=\"edge75\" class=\"edge\">\n<title>73&#45;&gt;75</title>\n<path fill=\"none\" stroke=\"#000000\" d=\"M2527.5004,-504.9465C2540.1866,-493.2707 2554.3678,-480.219 2567.013,-468.5809\"/>\n<polygon fill=\"#000000\" stroke=\"#000000\" points=\"2569.6731,-470.8895 2574.6609,-461.5422 2564.9327,-465.7389 2569.6731,-470.8895\"/>\n</g>\n</g>\n</svg>\n"
          },
          "metadata": {
            "tags": []
          },
          "execution_count": 68
        }
      ]
    },
    {
      "cell_type": "markdown",
      "metadata": {
        "id": "U-jci0CrubxD"
      },
      "source": [
        "We see that the tree starts separating the samples from the attribute X[30] (Weight)"
      ]
    },
    {
      "cell_type": "code",
      "metadata": {
        "id": "d4N4qpWvrynr",
        "outputId": "1f990b43-85fc-4b0f-b809-f4f7f96947bf",
        "colab": {
          "base_uri": "https://localhost:8080/",
          "height": 272
        }
      },
      "source": [
        "arbolEntropy = classificationTree(X_train,Target_train,X_test,Target_test,\"entropy\")"
      ],
      "execution_count": null,
      "outputs": [
        {
          "output_type": "stream",
          "text": [
            "Testing...\n",
            "Confusion: \n",
            "[[32833     4]\n",
            " [    2 17161]]\n",
            "Accuracy :  99.988\n",
            "Report   : \n",
            "              precision    recall  f1-score   support\n",
            "\n",
            "           b       1.00      1.00      1.00     32837\n",
            "           s       1.00      1.00      1.00     17163\n",
            "\n",
            "    accuracy                           1.00     50000\n",
            "   macro avg       1.00      1.00      1.00     50000\n",
            "weighted avg       1.00      1.00      1.00     50000\n",
            "\n"
          ],
          "name": "stdout"
        }
      ]
    },
    {
      "cell_type": "code",
      "metadata": {
        "id": "0BBVfILOwTT1",
        "outputId": "4c072b93-19b4-4e8a-cb85-dbcfb4ec1283",
        "colab": {
          "base_uri": "https://localhost:8080/",
          "height": 1000
        }
      },
      "source": [
        "grafTree = tree.export_graphviz(arbolEntropy, out_file=None)\n",
        "gv.Source(grafTree)"
      ],
      "execution_count": null,
      "outputs": [
        {
          "output_type": "execute_result",
          "data": {
            "text/plain": [
              "<graphviz.files.Source at 0x7f11b9171c50>"
            ],
            "image/svg+xml": "<?xml version=\"1.0\" encoding=\"UTF-8\" standalone=\"no\"?>\n<!DOCTYPE svg PUBLIC \"-//W3C//DTD SVG 1.1//EN\"\n \"http://www.w3.org/Graphics/SVG/1.1/DTD/svg11.dtd\">\n<!-- Generated by graphviz version 2.40.1 (20161225.0304)\n -->\n<!-- Title: Tree Pages: 1 -->\n<svg width=\"1192pt\" height=\"789pt\"\n viewBox=\"0.00 0.00 1191.50 789.00\" xmlns=\"http://www.w3.org/2000/svg\" xmlns:xlink=\"http://www.w3.org/1999/xlink\">\n<g id=\"graph0\" class=\"graph\" transform=\"scale(1 1) rotate(0) translate(4 785)\">\n<title>Tree</title>\n<polygon fill=\"#ffffff\" stroke=\"transparent\" points=\"-4,4 -4,-785 1187.5,-785 1187.5,4 -4,4\"/>\n<!-- 0 -->\n<g id=\"node1\" class=\"node\">\n<title>0</title>\n<polygon fill=\"none\" stroke=\"#000000\" points=\"697,-781 535,-781 535,-713 697,-713 697,-781\"/>\n<text text-anchor=\"middle\" x=\"616\" y=\"-765.8\" font-family=\"Times,serif\" font-size=\"14.00\" fill=\"#000000\">X[30] &lt;= 0.0</text>\n<text text-anchor=\"middle\" x=\"616\" y=\"-750.8\" font-family=\"Times,serif\" font-size=\"14.00\" fill=\"#000000\">entropy = 0.927</text>\n<text text-anchor=\"middle\" x=\"616\" y=\"-735.8\" font-family=\"Times,serif\" font-size=\"14.00\" fill=\"#000000\">samples = 200000</text>\n<text text-anchor=\"middle\" x=\"616\" y=\"-720.8\" font-family=\"Times,serif\" font-size=\"14.00\" fill=\"#000000\">value = [131496, 68504]</text>\n</g>\n<!-- 1 -->\n<g id=\"node2\" class=\"node\">\n<title>1</title>\n<polygon fill=\"none\" stroke=\"#000000\" points=\"599.5,-669.5 474.5,-669.5 474.5,-616.5 599.5,-616.5 599.5,-669.5\"/>\n<text text-anchor=\"middle\" x=\"537\" y=\"-654.3\" font-family=\"Times,serif\" font-size=\"14.00\" fill=\"#000000\">entropy = 0.0</text>\n<text text-anchor=\"middle\" x=\"537\" y=\"-639.3\" font-family=\"Times,serif\" font-size=\"14.00\" fill=\"#000000\">samples = 65362</text>\n<text text-anchor=\"middle\" x=\"537\" y=\"-624.3\" font-family=\"Times,serif\" font-size=\"14.00\" fill=\"#000000\">value = [0, 65362]</text>\n</g>\n<!-- 0&#45;&gt;1 -->\n<g id=\"edge1\" class=\"edge\">\n<title>0&#45;&gt;1</title>\n<path fill=\"none\" stroke=\"#000000\" d=\"M590.1324,-712.9465C581.5143,-701.6012 571.9094,-688.9567 563.2617,-677.5724\"/>\n<polygon fill=\"#000000\" stroke=\"#000000\" points=\"565.9979,-675.3882 557.1618,-669.5422 560.4237,-679.6224 565.9979,-675.3882\"/>\n<text text-anchor=\"middle\" x=\"553.778\" y=\"-690.6121\" font-family=\"Times,serif\" font-size=\"14.00\" fill=\"#000000\">True</text>\n</g>\n<!-- 2 -->\n<g id=\"node3\" class=\"node\">\n<title>2</title>\n<polygon fill=\"none\" stroke=\"#000000\" points=\"772.5,-677 617.5,-677 617.5,-609 772.5,-609 772.5,-677\"/>\n<text text-anchor=\"middle\" x=\"695\" y=\"-661.8\" font-family=\"Times,serif\" font-size=\"14.00\" fill=\"#000000\">X[30] &lt;= 0.0</text>\n<text text-anchor=\"middle\" x=\"695\" y=\"-646.8\" font-family=\"Times,serif\" font-size=\"14.00\" fill=\"#000000\">entropy = 0.16</text>\n<text text-anchor=\"middle\" x=\"695\" y=\"-631.8\" font-family=\"Times,serif\" font-size=\"14.00\" fill=\"#000000\">samples = 134638</text>\n<text text-anchor=\"middle\" x=\"695\" y=\"-616.8\" font-family=\"Times,serif\" font-size=\"14.00\" fill=\"#000000\">value = [131496, 3142]</text>\n</g>\n<!-- 0&#45;&gt;2 -->\n<g id=\"edge2\" class=\"edge\">\n<title>0&#45;&gt;2</title>\n<path fill=\"none\" stroke=\"#000000\" d=\"M641.8676,-712.9465C648.6196,-704.0578 655.9774,-694.3716 663.0059,-685.1188\"/>\n<polygon fill=\"#000000\" stroke=\"#000000\" points=\"665.8125,-687.2102 669.0743,-677.13 660.2383,-682.976 665.8125,-687.2102\"/>\n<text text-anchor=\"middle\" x=\"672.4582\" y=\"-698.1999\" font-family=\"Times,serif\" font-size=\"14.00\" fill=\"#000000\">False</text>\n</g>\n<!-- 3 -->\n<g id=\"node4\" class=\"node\">\n<title>3</title>\n<polygon fill=\"none\" stroke=\"#000000\" points=\"690.5,-573 543.5,-573 543.5,-505 690.5,-505 690.5,-573\"/>\n<text text-anchor=\"middle\" x=\"617\" y=\"-557.8\" font-family=\"Times,serif\" font-size=\"14.00\" fill=\"#000000\">X[0] &lt;= 0.058</text>\n<text text-anchor=\"middle\" x=\"617\" y=\"-542.8\" font-family=\"Times,serif\" font-size=\"14.00\" fill=\"#000000\">entropy = 0.691</text>\n<text text-anchor=\"middle\" x=\"617\" y=\"-527.8\" font-family=\"Times,serif\" font-size=\"14.00\" fill=\"#000000\">samples = 16980</text>\n<text text-anchor=\"middle\" x=\"617\" y=\"-512.8\" font-family=\"Times,serif\" font-size=\"14.00\" fill=\"#000000\">value = [13838, 3142]</text>\n</g>\n<!-- 2&#45;&gt;3 -->\n<g id=\"edge3\" class=\"edge\">\n<title>2&#45;&gt;3</title>\n<path fill=\"none\" stroke=\"#000000\" d=\"M669.4599,-608.9465C662.8607,-600.1475 655.6754,-590.5672 648.7995,-581.3993\"/>\n<polygon fill=\"#000000\" stroke=\"#000000\" points=\"651.3975,-579.03 642.5975,-573.13 645.7975,-583.23 651.3975,-579.03\"/>\n</g>\n<!-- 32 -->\n<g id=\"node33\" class=\"node\">\n<title>32</title>\n<polygon fill=\"none\" stroke=\"#000000\" points=\"839.5,-565.5 708.5,-565.5 708.5,-512.5 839.5,-512.5 839.5,-565.5\"/>\n<text text-anchor=\"middle\" x=\"774\" y=\"-550.3\" font-family=\"Times,serif\" font-size=\"14.00\" fill=\"#000000\">entropy = 0.0</text>\n<text text-anchor=\"middle\" x=\"774\" y=\"-535.3\" font-family=\"Times,serif\" font-size=\"14.00\" fill=\"#000000\">samples = 117658</text>\n<text text-anchor=\"middle\" x=\"774\" y=\"-520.3\" font-family=\"Times,serif\" font-size=\"14.00\" fill=\"#000000\">value = [117658, 0]</text>\n</g>\n<!-- 2&#45;&gt;32 -->\n<g id=\"edge32\" class=\"edge\">\n<title>2&#45;&gt;32</title>\n<path fill=\"none\" stroke=\"#000000\" d=\"M720.8676,-608.9465C729.4857,-597.6012 739.0906,-584.9567 747.7383,-573.5724\"/>\n<polygon fill=\"#000000\" stroke=\"#000000\" points=\"750.5763,-575.6224 753.8382,-565.5422 745.0021,-571.3882 750.5763,-575.6224\"/>\n</g>\n<!-- 4 -->\n<g id=\"node5\" class=\"node\">\n<title>4</title>\n<polygon fill=\"none\" stroke=\"#000000\" points=\"501,-469 361,-469 361,-401 501,-401 501,-469\"/>\n<text text-anchor=\"middle\" x=\"431\" y=\"-453.8\" font-family=\"Times,serif\" font-size=\"14.00\" fill=\"#000000\">X[30] &lt;= 0.0</text>\n<text text-anchor=\"middle\" x=\"431\" y=\"-438.8\" font-family=\"Times,serif\" font-size=\"14.00\" fill=\"#000000\">entropy = 0.332</text>\n<text text-anchor=\"middle\" x=\"431\" y=\"-423.8\" font-family=\"Times,serif\" font-size=\"14.00\" fill=\"#000000\">samples = 11524</text>\n<text text-anchor=\"middle\" x=\"431\" y=\"-408.8\" font-family=\"Times,serif\" font-size=\"14.00\" fill=\"#000000\">value = [10819, 705]</text>\n</g>\n<!-- 3&#45;&gt;4 -->\n<g id=\"edge4\" class=\"edge\">\n<title>3&#45;&gt;4</title>\n<path fill=\"none\" stroke=\"#000000\" d=\"M556.0966,-504.9465C538.4331,-495.0701 519.0089,-484.2093 500.8434,-474.0522\"/>\n<polygon fill=\"#000000\" stroke=\"#000000\" points=\"502.4766,-470.9555 492.0402,-469.13 499.0603,-477.0653 502.4766,-470.9555\"/>\n</g>\n<!-- 17 -->\n<g id=\"node18\" class=\"node\">\n<title>17</title>\n<polygon fill=\"none\" stroke=\"#000000\" points=\"877,-469 737,-469 737,-401 877,-401 877,-469\"/>\n<text text-anchor=\"middle\" x=\"807\" y=\"-453.8\" font-family=\"Times,serif\" font-size=\"14.00\" fill=\"#000000\">X[30] &lt;= 0.0</text>\n<text text-anchor=\"middle\" x=\"807\" y=\"-438.8\" font-family=\"Times,serif\" font-size=\"14.00\" fill=\"#000000\">entropy = 0.992</text>\n<text text-anchor=\"middle\" x=\"807\" y=\"-423.8\" font-family=\"Times,serif\" font-size=\"14.00\" fill=\"#000000\">samples = 5456</text>\n<text text-anchor=\"middle\" x=\"807\" y=\"-408.8\" font-family=\"Times,serif\" font-size=\"14.00\" fill=\"#000000\">value = [3019, 2437]</text>\n</g>\n<!-- 3&#45;&gt;17 -->\n<g id=\"edge17\" class=\"edge\">\n<title>3&#45;&gt;17</title>\n<path fill=\"none\" stroke=\"#000000\" d=\"M679.2131,-504.9465C697.2565,-495.0701 717.0985,-484.2093 735.6546,-474.0522\"/>\n<polygon fill=\"#000000\" stroke=\"#000000\" points=\"737.5557,-477.0017 744.6471,-469.13 734.1947,-470.8613 737.5557,-477.0017\"/>\n</g>\n<!-- 5 -->\n<g id=\"node6\" class=\"node\">\n<title>5</title>\n<polygon fill=\"none\" stroke=\"#000000\" points=\"292,-365 160,-365 160,-297 292,-297 292,-365\"/>\n<text text-anchor=\"middle\" x=\"226\" y=\"-349.8\" font-family=\"Times,serif\" font-size=\"14.00\" fill=\"#000000\">X[22] &lt;= 0.0</text>\n<text text-anchor=\"middle\" x=\"226\" y=\"-334.8\" font-family=\"Times,serif\" font-size=\"14.00\" fill=\"#000000\">entropy = 0.71</text>\n<text text-anchor=\"middle\" x=\"226\" y=\"-319.8\" font-family=\"Times,serif\" font-size=\"14.00\" fill=\"#000000\">samples = 3609</text>\n<text text-anchor=\"middle\" x=\"226\" y=\"-304.8\" font-family=\"Times,serif\" font-size=\"14.00\" fill=\"#000000\">value = [2909, 700]</text>\n</g>\n<!-- 4&#45;&gt;5 -->\n<g id=\"edge5\" class=\"edge\">\n<title>4&#45;&gt;5</title>\n<path fill=\"none\" stroke=\"#000000\" d=\"M363.8753,-400.9465C343.8368,-390.7806 321.7423,-379.5717 301.2211,-369.1609\"/>\n<polygon fill=\"#000000\" stroke=\"#000000\" points=\"302.7274,-366.0005 292.2259,-364.5975 299.5604,-372.2432 302.7274,-366.0005\"/>\n</g>\n<!-- 12 -->\n<g id=\"node13\" class=\"node\">\n<title>12</title>\n<polygon fill=\"none\" stroke=\"#000000\" points=\"489.5,-365 372.5,-365 372.5,-297 489.5,-297 489.5,-365\"/>\n<text text-anchor=\"middle\" x=\"431\" y=\"-349.8\" font-family=\"Times,serif\" font-size=\"14.00\" fill=\"#000000\">X[7] &lt;= 0.001</text>\n<text text-anchor=\"middle\" x=\"431\" y=\"-334.8\" font-family=\"Times,serif\" font-size=\"14.00\" fill=\"#000000\">entropy = 0.008</text>\n<text text-anchor=\"middle\" x=\"431\" y=\"-319.8\" font-family=\"Times,serif\" font-size=\"14.00\" fill=\"#000000\">samples = 7915</text>\n<text text-anchor=\"middle\" x=\"431\" y=\"-304.8\" font-family=\"Times,serif\" font-size=\"14.00\" fill=\"#000000\">value = [7910, 5]</text>\n</g>\n<!-- 4&#45;&gt;12 -->\n<g id=\"edge12\" class=\"edge\">\n<title>4&#45;&gt;12</title>\n<path fill=\"none\" stroke=\"#000000\" d=\"M431,-400.9465C431,-392.776 431,-383.9318 431,-375.3697\"/>\n<polygon fill=\"#000000\" stroke=\"#000000\" points=\"434.5001,-375.13 431,-365.13 427.5001,-375.13 434.5001,-375.13\"/>\n</g>\n<!-- 6 -->\n<g id=\"node7\" class=\"node\">\n<title>6</title>\n<polygon fill=\"none\" stroke=\"#000000\" points=\"149.5,-253.5 32.5,-253.5 32.5,-200.5 149.5,-200.5 149.5,-253.5\"/>\n<text text-anchor=\"middle\" x=\"91\" y=\"-238.3\" font-family=\"Times,serif\" font-size=\"14.00\" fill=\"#000000\">entropy = 0.0</text>\n<text text-anchor=\"middle\" x=\"91\" y=\"-223.3\" font-family=\"Times,serif\" font-size=\"14.00\" fill=\"#000000\">samples = 2887</text>\n<text text-anchor=\"middle\" x=\"91\" y=\"-208.3\" font-family=\"Times,serif\" font-size=\"14.00\" fill=\"#000000\">value = [2887, 0]</text>\n</g>\n<!-- 5&#45;&gt;6 -->\n<g id=\"edge6\" class=\"edge\">\n<title>5&#45;&gt;6</title>\n<path fill=\"none\" stroke=\"#000000\" d=\"M181.796,-296.9465C166.3539,-285.0504 149.0578,-271.726 133.7375,-259.9237\"/>\n<polygon fill=\"#000000\" stroke=\"#000000\" points=\"135.5117,-256.8723 125.4538,-253.5422 131.2397,-262.4176 135.5117,-256.8723\"/>\n</g>\n<!-- 7 -->\n<g id=\"node8\" class=\"node\">\n<title>7</title>\n<polygon fill=\"none\" stroke=\"#000000\" points=\"284.5,-261 167.5,-261 167.5,-193 284.5,-193 284.5,-261\"/>\n<text text-anchor=\"middle\" x=\"226\" y=\"-245.8\" font-family=\"Times,serif\" font-size=\"14.00\" fill=\"#000000\">X[22] &lt;= 0.001</text>\n<text text-anchor=\"middle\" x=\"226\" y=\"-230.8\" font-family=\"Times,serif\" font-size=\"14.00\" fill=\"#000000\">entropy = 0.197</text>\n<text text-anchor=\"middle\" x=\"226\" y=\"-215.8\" font-family=\"Times,serif\" font-size=\"14.00\" fill=\"#000000\">samples = 722</text>\n<text text-anchor=\"middle\" x=\"226\" y=\"-200.8\" font-family=\"Times,serif\" font-size=\"14.00\" fill=\"#000000\">value = [22, 700]</text>\n</g>\n<!-- 5&#45;&gt;7 -->\n<g id=\"edge7\" class=\"edge\">\n<title>5&#45;&gt;7</title>\n<path fill=\"none\" stroke=\"#000000\" d=\"M226,-296.9465C226,-288.776 226,-279.9318 226,-271.3697\"/>\n<polygon fill=\"#000000\" stroke=\"#000000\" points=\"229.5001,-271.13 226,-261.13 222.5001,-271.13 229.5001,-271.13\"/>\n</g>\n<!-- 8 -->\n<g id=\"node9\" class=\"node\">\n<title>8</title>\n<polygon fill=\"none\" stroke=\"#000000\" points=\"166,-157 56,-157 56,-89 166,-89 166,-157\"/>\n<text text-anchor=\"middle\" x=\"111\" y=\"-141.8\" font-family=\"Times,serif\" font-size=\"14.00\" fill=\"#000000\">X[30] &lt;= 0.0</text>\n<text text-anchor=\"middle\" x=\"111\" y=\"-126.8\" font-family=\"Times,serif\" font-size=\"14.00\" fill=\"#000000\">entropy = 0.971</text>\n<text text-anchor=\"middle\" x=\"111\" y=\"-111.8\" font-family=\"Times,serif\" font-size=\"14.00\" fill=\"#000000\">samples = 55</text>\n<text text-anchor=\"middle\" x=\"111\" y=\"-96.8\" font-family=\"Times,serif\" font-size=\"14.00\" fill=\"#000000\">value = [22, 33]</text>\n</g>\n<!-- 7&#45;&gt;8 -->\n<g id=\"edge8\" class=\"edge\">\n<title>7&#45;&gt;8</title>\n<path fill=\"none\" stroke=\"#000000\" d=\"M188.3447,-192.9465C178.1187,-183.6986 166.9382,-173.5876 156.3359,-163.9994\"/>\n<polygon fill=\"#000000\" stroke=\"#000000\" points=\"158.5044,-161.2416 148.7399,-157.13 153.8092,-166.4334 158.5044,-161.2416\"/>\n</g>\n<!-- 11 -->\n<g id=\"node12\" class=\"node\">\n<title>11</title>\n<polygon fill=\"none\" stroke=\"#000000\" points=\"294,-149.5 184,-149.5 184,-96.5 294,-96.5 294,-149.5\"/>\n<text text-anchor=\"middle\" x=\"239\" y=\"-134.3\" font-family=\"Times,serif\" font-size=\"14.00\" fill=\"#000000\">entropy = 0.0</text>\n<text text-anchor=\"middle\" x=\"239\" y=\"-119.3\" font-family=\"Times,serif\" font-size=\"14.00\" fill=\"#000000\">samples = 667</text>\n<text text-anchor=\"middle\" x=\"239\" y=\"-104.3\" font-family=\"Times,serif\" font-size=\"14.00\" fill=\"#000000\">value = [0, 667]</text>\n</g>\n<!-- 7&#45;&gt;11 -->\n<g id=\"edge11\" class=\"edge\">\n<title>7&#45;&gt;11</title>\n<path fill=\"none\" stroke=\"#000000\" d=\"M230.2567,-192.9465C231.5922,-182.2621 233.0718,-170.4254 234.4282,-159.5742\"/>\n<polygon fill=\"#000000\" stroke=\"#000000\" points=\"237.9148,-159.8991 235.6822,-149.5422 230.9688,-159.0308 237.9148,-159.8991\"/>\n</g>\n<!-- 9 -->\n<g id=\"node10\" class=\"node\">\n<title>9</title>\n<polygon fill=\"none\" stroke=\"#000000\" points=\"102,-53 0,-53 0,0 102,0 102,-53\"/>\n<text text-anchor=\"middle\" x=\"51\" y=\"-37.8\" font-family=\"Times,serif\" font-size=\"14.00\" fill=\"#000000\">entropy = 0.0</text>\n<text text-anchor=\"middle\" x=\"51\" y=\"-22.8\" font-family=\"Times,serif\" font-size=\"14.00\" fill=\"#000000\">samples = 33</text>\n<text text-anchor=\"middle\" x=\"51\" y=\"-7.8\" font-family=\"Times,serif\" font-size=\"14.00\" fill=\"#000000\">value = [0, 33]</text>\n</g>\n<!-- 8&#45;&gt;9 -->\n<g id=\"edge9\" class=\"edge\">\n<title>8&#45;&gt;9</title>\n<path fill=\"none\" stroke=\"#000000\" d=\"M89.8462,-88.9777C84.3805,-80.187 78.4846,-70.7044 72.9778,-61.8477\"/>\n<polygon fill=\"#000000\" stroke=\"#000000\" points=\"75.8837,-59.8927 67.6312,-53.2485 69.9391,-63.5889 75.8837,-59.8927\"/>\n</g>\n<!-- 10 -->\n<g id=\"node11\" class=\"node\">\n<title>10</title>\n<polygon fill=\"none\" stroke=\"#000000\" points=\"222,-53 120,-53 120,0 222,0 222,-53\"/>\n<text text-anchor=\"middle\" x=\"171\" y=\"-37.8\" font-family=\"Times,serif\" font-size=\"14.00\" fill=\"#000000\">entropy = 0.0</text>\n<text text-anchor=\"middle\" x=\"171\" y=\"-22.8\" font-family=\"Times,serif\" font-size=\"14.00\" fill=\"#000000\">samples = 22</text>\n<text text-anchor=\"middle\" x=\"171\" y=\"-7.8\" font-family=\"Times,serif\" font-size=\"14.00\" fill=\"#000000\">value = [22, 0]</text>\n</g>\n<!-- 8&#45;&gt;10 -->\n<g id=\"edge10\" class=\"edge\">\n<title>8&#45;&gt;10</title>\n<path fill=\"none\" stroke=\"#000000\" d=\"M132.1538,-88.9777C137.6195,-80.187 143.5154,-70.7044 149.0222,-61.8477\"/>\n<polygon fill=\"#000000\" stroke=\"#000000\" points=\"152.0609,-63.5889 154.3688,-53.2485 146.1163,-59.8927 152.0609,-63.5889\"/>\n</g>\n<!-- 13 -->\n<g id=\"node14\" class=\"node\">\n<title>13</title>\n<polygon fill=\"none\" stroke=\"#000000\" points=\"419.5,-253.5 302.5,-253.5 302.5,-200.5 419.5,-200.5 419.5,-253.5\"/>\n<text text-anchor=\"middle\" x=\"361\" y=\"-238.3\" font-family=\"Times,serif\" font-size=\"14.00\" fill=\"#000000\">entropy = 0.0</text>\n<text text-anchor=\"middle\" x=\"361\" y=\"-223.3\" font-family=\"Times,serif\" font-size=\"14.00\" fill=\"#000000\">samples = 7540</text>\n<text text-anchor=\"middle\" x=\"361\" y=\"-208.3\" font-family=\"Times,serif\" font-size=\"14.00\" fill=\"#000000\">value = [7540, 0]</text>\n</g>\n<!-- 12&#45;&gt;13 -->\n<g id=\"edge13\" class=\"edge\">\n<title>12&#45;&gt;13</title>\n<path fill=\"none\" stroke=\"#000000\" d=\"M408.0794,-296.9465C400.5172,-285.7113 392.0976,-273.2021 384.4933,-261.9043\"/>\n<polygon fill=\"#000000\" stroke=\"#000000\" points=\"387.3523,-259.8837 378.8649,-253.5422 381.5452,-263.7924 387.3523,-259.8837\"/>\n</g>\n<!-- 14 -->\n<g id=\"node15\" class=\"node\">\n<title>14</title>\n<polygon fill=\"none\" stroke=\"#000000\" points=\"548,-261 438,-261 438,-193 548,-193 548,-261\"/>\n<text text-anchor=\"middle\" x=\"493\" y=\"-245.8\" font-family=\"Times,serif\" font-size=\"14.00\" fill=\"#000000\">X[30] &lt;= 0.0</text>\n<text text-anchor=\"middle\" x=\"493\" y=\"-230.8\" font-family=\"Times,serif\" font-size=\"14.00\" fill=\"#000000\">entropy = 0.102</text>\n<text text-anchor=\"middle\" x=\"493\" y=\"-215.8\" font-family=\"Times,serif\" font-size=\"14.00\" fill=\"#000000\">samples = 375</text>\n<text text-anchor=\"middle\" x=\"493\" y=\"-200.8\" font-family=\"Times,serif\" font-size=\"14.00\" fill=\"#000000\">value = [370, 5]</text>\n</g>\n<!-- 12&#45;&gt;14 -->\n<g id=\"edge14\" class=\"edge\">\n<title>12&#45;&gt;14</title>\n<path fill=\"none\" stroke=\"#000000\" d=\"M451.3011,-296.9465C456.4396,-288.3271 462.0251,-278.9579 467.3886,-269.9611\"/>\n<polygon fill=\"#000000\" stroke=\"#000000\" points=\"470.5389,-271.5117 472.6533,-261.13 464.5263,-267.9272 470.5389,-271.5117\"/>\n</g>\n<!-- 15 -->\n<g id=\"node16\" class=\"node\">\n<title>15</title>\n<polygon fill=\"none\" stroke=\"#000000\" points=\"419.5,-149.5 324.5,-149.5 324.5,-96.5 419.5,-96.5 419.5,-149.5\"/>\n<text text-anchor=\"middle\" x=\"372\" y=\"-134.3\" font-family=\"Times,serif\" font-size=\"14.00\" fill=\"#000000\">entropy = 0.0</text>\n<text text-anchor=\"middle\" x=\"372\" y=\"-119.3\" font-family=\"Times,serif\" font-size=\"14.00\" fill=\"#000000\">samples = 5</text>\n<text text-anchor=\"middle\" x=\"372\" y=\"-104.3\" font-family=\"Times,serif\" font-size=\"14.00\" fill=\"#000000\">value = [0, 5]</text>\n</g>\n<!-- 14&#45;&gt;15 -->\n<g id=\"edge15\" class=\"edge\">\n<title>14&#45;&gt;15</title>\n<path fill=\"none\" stroke=\"#000000\" d=\"M453.3801,-192.9465C439.6676,-181.1606 424.3239,-167.9726 410.6873,-156.2519\"/>\n<polygon fill=\"#000000\" stroke=\"#000000\" points=\"412.7459,-153.4061 402.8808,-149.5422 408.1831,-158.7147 412.7459,-153.4061\"/>\n</g>\n<!-- 16 -->\n<g id=\"node17\" class=\"node\">\n<title>16</title>\n<polygon fill=\"none\" stroke=\"#000000\" points=\"548,-149.5 438,-149.5 438,-96.5 548,-96.5 548,-149.5\"/>\n<text text-anchor=\"middle\" x=\"493\" y=\"-134.3\" font-family=\"Times,serif\" font-size=\"14.00\" fill=\"#000000\">entropy = 0.0</text>\n<text text-anchor=\"middle\" x=\"493\" y=\"-119.3\" font-family=\"Times,serif\" font-size=\"14.00\" fill=\"#000000\">samples = 370</text>\n<text text-anchor=\"middle\" x=\"493\" y=\"-104.3\" font-family=\"Times,serif\" font-size=\"14.00\" fill=\"#000000\">value = [370, 0]</text>\n</g>\n<!-- 14&#45;&gt;16 -->\n<g id=\"edge16\" class=\"edge\">\n<title>14&#45;&gt;16</title>\n<path fill=\"none\" stroke=\"#000000\" d=\"M493,-192.9465C493,-182.2621 493,-170.4254 493,-159.5742\"/>\n<polygon fill=\"#000000\" stroke=\"#000000\" points=\"496.5001,-159.5421 493,-149.5422 489.5001,-159.5422 496.5001,-159.5421\"/>\n</g>\n<!-- 18 -->\n<g id=\"node19\" class=\"node\">\n<title>18</title>\n<polygon fill=\"none\" stroke=\"#000000\" points=\"869.5,-365 744.5,-365 744.5,-297 869.5,-297 869.5,-365\"/>\n<text text-anchor=\"middle\" x=\"807\" y=\"-349.8\" font-family=\"Times,serif\" font-size=\"14.00\" fill=\"#000000\">X[22] &lt;= 0.001</text>\n<text text-anchor=\"middle\" x=\"807\" y=\"-334.8\" font-family=\"Times,serif\" font-size=\"14.00\" fill=\"#000000\">entropy = 0.151</text>\n<text text-anchor=\"middle\" x=\"807\" y=\"-319.8\" font-family=\"Times,serif\" font-size=\"14.00\" fill=\"#000000\">samples = 2490</text>\n<text text-anchor=\"middle\" x=\"807\" y=\"-304.8\" font-family=\"Times,serif\" font-size=\"14.00\" fill=\"#000000\">value = [54, 2436]</text>\n</g>\n<!-- 17&#45;&gt;18 -->\n<g id=\"edge18\" class=\"edge\">\n<title>17&#45;&gt;18</title>\n<path fill=\"none\" stroke=\"#000000\" d=\"M807,-400.9465C807,-392.776 807,-383.9318 807,-375.3697\"/>\n<polygon fill=\"#000000\" stroke=\"#000000\" points=\"810.5001,-375.13 807,-365.13 803.5001,-375.13 810.5001,-375.13\"/>\n</g>\n<!-- 29 -->\n<g id=\"node30\" class=\"node\">\n<title>29</title>\n<polygon fill=\"none\" stroke=\"#000000\" points=\"1070.5,-365 953.5,-365 953.5,-297 1070.5,-297 1070.5,-365\"/>\n<text text-anchor=\"middle\" x=\"1012\" y=\"-349.8\" font-family=\"Times,serif\" font-size=\"14.00\" fill=\"#000000\">X[28] &lt;= 0.003</text>\n<text text-anchor=\"middle\" x=\"1012\" y=\"-334.8\" font-family=\"Times,serif\" font-size=\"14.00\" fill=\"#000000\">entropy = 0.004</text>\n<text text-anchor=\"middle\" x=\"1012\" y=\"-319.8\" font-family=\"Times,serif\" font-size=\"14.00\" fill=\"#000000\">samples = 2966</text>\n<text text-anchor=\"middle\" x=\"1012\" y=\"-304.8\" font-family=\"Times,serif\" font-size=\"14.00\" fill=\"#000000\">value = [2965, 1]</text>\n</g>\n<!-- 17&#45;&gt;29 -->\n<g id=\"edge29\" class=\"edge\">\n<title>17&#45;&gt;29</title>\n<path fill=\"none\" stroke=\"#000000\" d=\"M874.1247,-400.9465C896.6008,-389.544 921.6635,-376.8293 944.1915,-365.4004\"/>\n<polygon fill=\"#000000\" stroke=\"#000000\" points=\"946.0108,-368.4022 953.3453,-360.7565 942.8437,-362.1595 946.0108,-368.4022\"/>\n</g>\n<!-- 19 -->\n<g id=\"node20\" class=\"node\">\n<title>19</title>\n<polygon fill=\"none\" stroke=\"#000000\" points=\"800.5,-261 683.5,-261 683.5,-193 800.5,-193 800.5,-261\"/>\n<text text-anchor=\"middle\" x=\"742\" y=\"-245.8\" font-family=\"Times,serif\" font-size=\"14.00\" fill=\"#000000\">X[30] &lt;= 0.0</text>\n<text text-anchor=\"middle\" x=\"742\" y=\"-230.8\" font-family=\"Times,serif\" font-size=\"14.00\" fill=\"#000000\">entropy = 0.848</text>\n<text text-anchor=\"middle\" x=\"742\" y=\"-215.8\" font-family=\"Times,serif\" font-size=\"14.00\" fill=\"#000000\">samples = 193</text>\n<text text-anchor=\"middle\" x=\"742\" y=\"-200.8\" font-family=\"Times,serif\" font-size=\"14.00\" fill=\"#000000\">value = [53, 140]</text>\n</g>\n<!-- 18&#45;&gt;19 -->\n<g id=\"edge19\" class=\"edge\">\n<title>18&#45;&gt;19</title>\n<path fill=\"none\" stroke=\"#000000\" d=\"M785.7166,-296.9465C780.2733,-288.2373 774.3516,-278.7626 768.675,-269.6801\"/>\n<polygon fill=\"#000000\" stroke=\"#000000\" points=\"771.5993,-267.755 763.3312,-261.13 765.6633,-271.465 771.5993,-267.755\"/>\n</g>\n<!-- 24 -->\n<g id=\"node25\" class=\"node\">\n<title>24</title>\n<polygon fill=\"none\" stroke=\"#000000\" points=\"935.5,-261 818.5,-261 818.5,-193 935.5,-193 935.5,-261\"/>\n<text text-anchor=\"middle\" x=\"877\" y=\"-245.8\" font-family=\"Times,serif\" font-size=\"14.00\" fill=\"#000000\">X[30] &lt;= 0.0</text>\n<text text-anchor=\"middle\" x=\"877\" y=\"-230.8\" font-family=\"Times,serif\" font-size=\"14.00\" fill=\"#000000\">entropy = 0.005</text>\n<text text-anchor=\"middle\" x=\"877\" y=\"-215.8\" font-family=\"Times,serif\" font-size=\"14.00\" fill=\"#000000\">samples = 2297</text>\n<text text-anchor=\"middle\" x=\"877\" y=\"-200.8\" font-family=\"Times,serif\" font-size=\"14.00\" fill=\"#000000\">value = [1, 2296]</text>\n</g>\n<!-- 18&#45;&gt;24 -->\n<g id=\"edge24\" class=\"edge\">\n<title>18&#45;&gt;24</title>\n<path fill=\"none\" stroke=\"#000000\" d=\"M829.9206,-296.9465C835.7826,-288.2373 842.1598,-278.7626 848.273,-269.6801\"/>\n<polygon fill=\"#000000\" stroke=\"#000000\" points=\"851.3476,-271.3802 854.0279,-261.13 845.5405,-267.4716 851.3476,-271.3802\"/>\n</g>\n<!-- 20 -->\n<g id=\"node21\" class=\"node\">\n<title>20</title>\n<polygon fill=\"none\" stroke=\"#000000\" points=\"679.5,-157 566.5,-157 566.5,-89 679.5,-89 679.5,-157\"/>\n<text text-anchor=\"middle\" x=\"623\" y=\"-141.8\" font-family=\"Times,serif\" font-size=\"14.00\" fill=\"#000000\">X[12] &lt;= &#45;0.054</text>\n<text text-anchor=\"middle\" x=\"623\" y=\"-126.8\" font-family=\"Times,serif\" font-size=\"14.00\" fill=\"#000000\">entropy = 0.107</text>\n<text text-anchor=\"middle\" x=\"623\" y=\"-111.8\" font-family=\"Times,serif\" font-size=\"14.00\" fill=\"#000000\">samples = 142</text>\n<text text-anchor=\"middle\" x=\"623\" y=\"-96.8\" font-family=\"Times,serif\" font-size=\"14.00\" fill=\"#000000\">value = [2, 140]</text>\n</g>\n<!-- 19&#45;&gt;20 -->\n<g id=\"edge20\" class=\"edge\">\n<title>19&#45;&gt;20</title>\n<path fill=\"none\" stroke=\"#000000\" d=\"M703.0349,-192.9465C692.3505,-183.6088 680.6591,-173.3911 669.5934,-163.7203\"/>\n<polygon fill=\"#000000\" stroke=\"#000000\" points=\"671.8855,-161.0752 662.0526,-157.13 667.2791,-166.346 671.8855,-161.0752\"/>\n</g>\n<!-- 23 -->\n<g id=\"node24\" class=\"node\">\n<title>23</title>\n<polygon fill=\"none\" stroke=\"#000000\" points=\"800,-149.5 698,-149.5 698,-96.5 800,-96.5 800,-149.5\"/>\n<text text-anchor=\"middle\" x=\"749\" y=\"-134.3\" font-family=\"Times,serif\" font-size=\"14.00\" fill=\"#000000\">entropy = 0.0</text>\n<text text-anchor=\"middle\" x=\"749\" y=\"-119.3\" font-family=\"Times,serif\" font-size=\"14.00\" fill=\"#000000\">samples = 51</text>\n<text text-anchor=\"middle\" x=\"749\" y=\"-104.3\" font-family=\"Times,serif\" font-size=\"14.00\" fill=\"#000000\">value = [51, 0]</text>\n</g>\n<!-- 19&#45;&gt;23 -->\n<g id=\"edge23\" class=\"edge\">\n<title>19&#45;&gt;23</title>\n<path fill=\"none\" stroke=\"#000000\" d=\"M744.2921,-192.9465C745.0112,-182.2621 745.8079,-170.4254 746.5383,-159.5742\"/>\n<polygon fill=\"#000000\" stroke=\"#000000\" points=\"750.034,-159.7547 747.2135,-149.5422 743.0498,-159.2845 750.034,-159.7547\"/>\n</g>\n<!-- 21 -->\n<g id=\"node22\" class=\"node\">\n<title>21</title>\n<polygon fill=\"none\" stroke=\"#000000\" points=\"609.5,-53 514.5,-53 514.5,0 609.5,0 609.5,-53\"/>\n<text text-anchor=\"middle\" x=\"562\" y=\"-37.8\" font-family=\"Times,serif\" font-size=\"14.00\" fill=\"#000000\">entropy = 0.0</text>\n<text text-anchor=\"middle\" x=\"562\" y=\"-22.8\" font-family=\"Times,serif\" font-size=\"14.00\" fill=\"#000000\">samples = 2</text>\n<text text-anchor=\"middle\" x=\"562\" y=\"-7.8\" font-family=\"Times,serif\" font-size=\"14.00\" fill=\"#000000\">value = [2, 0]</text>\n</g>\n<!-- 20&#45;&gt;21 -->\n<g id=\"edge21\" class=\"edge\">\n<title>20&#45;&gt;21</title>\n<path fill=\"none\" stroke=\"#000000\" d=\"M601.4937,-88.9777C595.9369,-80.187 589.9427,-70.7044 584.3441,-61.8477\"/>\n<polygon fill=\"#000000\" stroke=\"#000000\" points=\"587.2101,-59.8312 578.9084,-53.2485 581.2931,-63.5714 587.2101,-59.8312\"/>\n</g>\n<!-- 22 -->\n<g id=\"node23\" class=\"node\">\n<title>22</title>\n<polygon fill=\"none\" stroke=\"#000000\" points=\"738,-53 628,-53 628,0 738,0 738,-53\"/>\n<text text-anchor=\"middle\" x=\"683\" y=\"-37.8\" font-family=\"Times,serif\" font-size=\"14.00\" fill=\"#000000\">entropy = 0.0</text>\n<text text-anchor=\"middle\" x=\"683\" y=\"-22.8\" font-family=\"Times,serif\" font-size=\"14.00\" fill=\"#000000\">samples = 140</text>\n<text text-anchor=\"middle\" x=\"683\" y=\"-7.8\" font-family=\"Times,serif\" font-size=\"14.00\" fill=\"#000000\">value = [0, 140]</text>\n</g>\n<!-- 20&#45;&gt;22 -->\n<g id=\"edge22\" class=\"edge\">\n<title>20&#45;&gt;22</title>\n<path fill=\"none\" stroke=\"#000000\" d=\"M644.1538,-88.9777C649.6195,-80.187 655.5154,-70.7044 661.0222,-61.8477\"/>\n<polygon fill=\"#000000\" stroke=\"#000000\" points=\"664.0609,-63.5889 666.3688,-53.2485 658.1163,-59.8927 664.0609,-63.5889\"/>\n</g>\n<!-- 25 -->\n<g id=\"node26\" class=\"node\">\n<title>25</title>\n<polygon fill=\"none\" stroke=\"#000000\" points=\"935.5,-149.5 818.5,-149.5 818.5,-96.5 935.5,-96.5 935.5,-149.5\"/>\n<text text-anchor=\"middle\" x=\"877\" y=\"-134.3\" font-family=\"Times,serif\" font-size=\"14.00\" fill=\"#000000\">entropy = 0.0</text>\n<text text-anchor=\"middle\" x=\"877\" y=\"-119.3\" font-family=\"Times,serif\" font-size=\"14.00\" fill=\"#000000\">samples = 2292</text>\n<text text-anchor=\"middle\" x=\"877\" y=\"-104.3\" font-family=\"Times,serif\" font-size=\"14.00\" fill=\"#000000\">value = [0, 2292]</text>\n</g>\n<!-- 24&#45;&gt;25 -->\n<g id=\"edge25\" class=\"edge\">\n<title>24&#45;&gt;25</title>\n<path fill=\"none\" stroke=\"#000000\" d=\"M877,-192.9465C877,-182.2621 877,-170.4254 877,-159.5742\"/>\n<polygon fill=\"#000000\" stroke=\"#000000\" points=\"880.5001,-159.5421 877,-149.5422 873.5001,-159.5422 880.5001,-159.5421\"/>\n</g>\n<!-- 26 -->\n<g id=\"node27\" class=\"node\">\n<title>26</title>\n<polygon fill=\"none\" stroke=\"#000000\" points=\"1064,-157 954,-157 954,-89 1064,-89 1064,-157\"/>\n<text text-anchor=\"middle\" x=\"1009\" y=\"-141.8\" font-family=\"Times,serif\" font-size=\"14.00\" fill=\"#000000\">X[9] &lt;= 0.169</text>\n<text text-anchor=\"middle\" x=\"1009\" y=\"-126.8\" font-family=\"Times,serif\" font-size=\"14.00\" fill=\"#000000\">entropy = 0.722</text>\n<text text-anchor=\"middle\" x=\"1009\" y=\"-111.8\" font-family=\"Times,serif\" font-size=\"14.00\" fill=\"#000000\">samples = 5</text>\n<text text-anchor=\"middle\" x=\"1009\" y=\"-96.8\" font-family=\"Times,serif\" font-size=\"14.00\" fill=\"#000000\">value = [1, 4]</text>\n</g>\n<!-- 24&#45;&gt;26 -->\n<g id=\"edge26\" class=\"edge\">\n<title>24&#45;&gt;26</title>\n<path fill=\"none\" stroke=\"#000000\" d=\"M920.2217,-192.9465C932.1874,-183.519 945.2915,-173.1946 957.6704,-163.4415\"/>\n<polygon fill=\"#000000\" stroke=\"#000000\" points=\"959.9923,-166.068 965.6812,-157.13 955.6602,-160.5695 959.9923,-166.068\"/>\n</g>\n<!-- 27 -->\n<g id=\"node28\" class=\"node\">\n<title>27</title>\n<polygon fill=\"none\" stroke=\"#000000\" points=\"999.5,-53 904.5,-53 904.5,0 999.5,0 999.5,-53\"/>\n<text text-anchor=\"middle\" x=\"952\" y=\"-37.8\" font-family=\"Times,serif\" font-size=\"14.00\" fill=\"#000000\">entropy = 0.0</text>\n<text text-anchor=\"middle\" x=\"952\" y=\"-22.8\" font-family=\"Times,serif\" font-size=\"14.00\" fill=\"#000000\">samples = 4</text>\n<text text-anchor=\"middle\" x=\"952\" y=\"-7.8\" font-family=\"Times,serif\" font-size=\"14.00\" fill=\"#000000\">value = [0, 4]</text>\n</g>\n<!-- 26&#45;&gt;27 -->\n<g id=\"edge27\" class=\"edge\">\n<title>26&#45;&gt;27</title>\n<path fill=\"none\" stroke=\"#000000\" d=\"M988.9039,-88.9777C983.7656,-80.2786 978.227,-70.9018 973.0425,-62.1247\"/>\n<polygon fill=\"#000000\" stroke=\"#000000\" points=\"975.899,-60.0786 967.7996,-53.2485 969.8719,-63.6387 975.899,-60.0786\"/>\n</g>\n<!-- 28 -->\n<g id=\"node29\" class=\"node\">\n<title>28</title>\n<polygon fill=\"none\" stroke=\"#000000\" points=\"1112.5,-53 1017.5,-53 1017.5,0 1112.5,0 1112.5,-53\"/>\n<text text-anchor=\"middle\" x=\"1065\" y=\"-37.8\" font-family=\"Times,serif\" font-size=\"14.00\" fill=\"#000000\">entropy = 0.0</text>\n<text text-anchor=\"middle\" x=\"1065\" y=\"-22.8\" font-family=\"Times,serif\" font-size=\"14.00\" fill=\"#000000\">samples = 1</text>\n<text text-anchor=\"middle\" x=\"1065\" y=\"-7.8\" font-family=\"Times,serif\" font-size=\"14.00\" fill=\"#000000\">value = [1, 0]</text>\n</g>\n<!-- 26&#45;&gt;28 -->\n<g id=\"edge28\" class=\"edge\">\n<title>26&#45;&gt;28</title>\n<path fill=\"none\" stroke=\"#000000\" d=\"M1028.7435,-88.9777C1033.7917,-80.2786 1039.2331,-70.9018 1044.3266,-62.1247\"/>\n<polygon fill=\"#000000\" stroke=\"#000000\" points=\"1047.4855,-63.6544 1049.4776,-53.2485 1041.4311,-60.1409 1047.4855,-63.6544\"/>\n</g>\n<!-- 30 -->\n<g id=\"node31\" class=\"node\">\n<title>30</title>\n<polygon fill=\"none\" stroke=\"#000000\" points=\"1070.5,-253.5 953.5,-253.5 953.5,-200.5 1070.5,-200.5 1070.5,-253.5\"/>\n<text text-anchor=\"middle\" x=\"1012\" y=\"-238.3\" font-family=\"Times,serif\" font-size=\"14.00\" fill=\"#000000\">entropy = 0.0</text>\n<text text-anchor=\"middle\" x=\"1012\" y=\"-223.3\" font-family=\"Times,serif\" font-size=\"14.00\" fill=\"#000000\">samples = 2965</text>\n<text text-anchor=\"middle\" x=\"1012\" y=\"-208.3\" font-family=\"Times,serif\" font-size=\"14.00\" fill=\"#000000\">value = [2965, 0]</text>\n</g>\n<!-- 29&#45;&gt;30 -->\n<g id=\"edge30\" class=\"edge\">\n<title>29&#45;&gt;30</title>\n<path fill=\"none\" stroke=\"#000000\" d=\"M1012,-296.9465C1012,-286.2621 1012,-274.4254 1012,-263.5742\"/>\n<polygon fill=\"#000000\" stroke=\"#000000\" points=\"1015.5001,-263.5421 1012,-253.5422 1008.5001,-263.5422 1015.5001,-263.5421\"/>\n</g>\n<!-- 31 -->\n<g id=\"node32\" class=\"node\">\n<title>31</title>\n<polygon fill=\"none\" stroke=\"#000000\" points=\"1183.5,-253.5 1088.5,-253.5 1088.5,-200.5 1183.5,-200.5 1183.5,-253.5\"/>\n<text text-anchor=\"middle\" x=\"1136\" y=\"-238.3\" font-family=\"Times,serif\" font-size=\"14.00\" fill=\"#000000\">entropy = 0.0</text>\n<text text-anchor=\"middle\" x=\"1136\" y=\"-223.3\" font-family=\"Times,serif\" font-size=\"14.00\" fill=\"#000000\">samples = 1</text>\n<text text-anchor=\"middle\" x=\"1136\" y=\"-208.3\" font-family=\"Times,serif\" font-size=\"14.00\" fill=\"#000000\">value = [0, 1]</text>\n</g>\n<!-- 29&#45;&gt;31 -->\n<g id=\"edge31\" class=\"edge\">\n<title>29&#45;&gt;31</title>\n<path fill=\"none\" stroke=\"#000000\" d=\"M1052.6022,-296.9465C1066.6547,-285.1606 1082.3788,-271.9726 1096.3535,-260.2519\"/>\n<polygon fill=\"#000000\" stroke=\"#000000\" points=\"1098.9408,-262.65 1104.3536,-253.5422 1094.4425,-257.2866 1098.9408,-262.65\"/>\n</g>\n</g>\n</svg>\n"
          },
          "metadata": {
            "tags": []
          },
          "execution_count": 76
        }
      ]
    },
    {
      "cell_type": "markdown",
      "metadata": {
        "id": "TUdj1W91JlN2"
      },
      "source": [
        "## References\n",
        "\n",
        "- ATLAS collaboration (2014). Dataset from the ATLAS Higgs Boson Machine Learning Challenge 2014. CERN Open Data Portal. DOI:10.7483/OPENDATA.ATLAS.ZBP2.M5T8\n",
        "- Geeks for Geeks. *Decision tree implementation* Recovered from: https://www.geeksforgeeks.org/decision-tree-implementation-python/ \n",
        "- Scikit-learn. Machine Learning in Python. Pedregosa et al., JMLR 12, pp. 2825-2830, 2011\n",
        "- Scikit-learn. *Feature selection*. Recovered from: https://scikit-learn.org/stable/modules/generated/sklearn.feature_selection.mutual_info_classif.html#sklearn.feature_selection.mutual_info_classif\n",
        "- Udacity (2016) *The Kaggle Challenge. Higgs Bosson*. Recovered from: https://www.youtube.com/watch?v=Sombn6OSvZU \n",
        "- Nguyen, D., Mejia Breton, K. & Cruz, I. (2016) *Kaggle Competition. Higgs Bosson Machine Learning Challenge*. NYC Data Science Academy. Recovered from: https://www.youtube.com/watch?v=Rn3dwmhVH3o "
      ]
    }
  ]
}