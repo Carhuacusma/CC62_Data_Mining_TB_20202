{
  "nbformat": 4,
  "nbformat_minor": 0,
  "metadata": {
    "colab": {
      "name": "TB Data Mining.ipynb",
      "provenance": [],
      "collapsed_sections": [],
      "toc_visible": true,
      "authorship_tag": "ABX9TyO3WOkNKSNxvgR2U7wvSqDg",
      "include_colab_link": true
    },
    "kernelspec": {
      "name": "python3",
      "display_name": "Python 3"
    }
  },
  "cells": [
    {
      "cell_type": "markdown",
      "metadata": {
        "id": "view-in-github",
        "colab_type": "text"
      },
      "source": [
        "<a href=\"https://colab.research.google.com/github/Carhuacusma/CC62_Data_Mining_TB_20202/blob/master/TB_Data_Mining.ipynb\" target=\"_parent\"><img src=\"https://colab.research.google.com/assets/colab-badge.svg\" alt=\"Open In Colab\"/></a>"
      ]
    },
    {
      "cell_type": "markdown",
      "metadata": {
        "id": "pBQlFCW_OBOF"
      },
      "source": [
        "# TB: CC62 Data Mining\n",
        "## Kaggle: ATLAS experiment Higss Boson"
      ]
    },
    {
      "cell_type": "markdown",
      "metadata": {
        "id": "rxXBU-sfPO4Q"
      },
      "source": [
        "## Objectives:"
      ]
    },
    {
      "cell_type": "markdown",
      "metadata": {
        "id": "nDDs_oMZPX4T"
      },
      "source": [
        "- Detection of the Higgs Boson in simulated data in order to reproduce the behavior of the ATLAS experience. \n",
        "- Binary classification problem, or event detection.\n",
        "- Using simulated data with features characterizing events detected by ATLAS, the task is to classify events into **\"tau tau decay of a Higgs boson\"** versus **\"background\"**. "
      ]
    },
    {
      "cell_type": "markdown",
      "metadata": {
        "id": "7f5IICgmN1k6"
      },
      "source": [
        "## Understanding the Data\n"
      ]
    },
    {
      "cell_type": "markdown",
      "metadata": {
        "id": "O6Ot5enITWKi"
      },
      "source": [
        "The ATLAS experiment observed a signal of the Higgs boson **decaying into two tau particles**, but this decay is a small signal buried in **background** noise. The goal of the challenge is to explore the potential of advanced machine learning methods to improve the discovery significance of the experiment."
      ]
    },
    {
      "cell_type": "code",
      "metadata": {
        "id": "4RREspd28mPB"
      },
      "source": [
        "import pandas as pd\n",
        "import numpy as np"
      ],
      "execution_count": 1,
      "outputs": []
    },
    {
      "cell_type": "code",
      "metadata": {
        "id": "Dfj8l_dHJFBF",
        "outputId": "d0fb3e53-0745-4782-bf2a-3dd9937ba233",
        "colab": {
          "base_uri": "https://localhost:8080/",
          "height": 224
        }
      },
      "source": [
        "# Read file\n",
        "dfHiggsBoson = pd.read_csv(\"training.csv\")\n",
        "dfHiggsBoson.head()"
      ],
      "execution_count": null,
      "outputs": [
        {
          "output_type": "execute_result",
          "data": {
            "text/html": [
              "<div>\n",
              "<style scoped>\n",
              "    .dataframe tbody tr th:only-of-type {\n",
              "        vertical-align: middle;\n",
              "    }\n",
              "\n",
              "    .dataframe tbody tr th {\n",
              "        vertical-align: top;\n",
              "    }\n",
              "\n",
              "    .dataframe thead th {\n",
              "        text-align: right;\n",
              "    }\n",
              "</style>\n",
              "<table border=\"1\" class=\"dataframe\">\n",
              "  <thead>\n",
              "    <tr style=\"text-align: right;\">\n",
              "      <th></th>\n",
              "      <th>EventId</th>\n",
              "      <th>DER_mass_MMC</th>\n",
              "      <th>DER_mass_transverse_met_lep</th>\n",
              "      <th>DER_mass_vis</th>\n",
              "      <th>DER_pt_h</th>\n",
              "      <th>DER_deltaeta_jet_jet</th>\n",
              "      <th>DER_mass_jet_jet</th>\n",
              "      <th>DER_prodeta_jet_jet</th>\n",
              "      <th>DER_deltar_tau_lep</th>\n",
              "      <th>DER_pt_tot</th>\n",
              "      <th>DER_sum_pt</th>\n",
              "      <th>DER_pt_ratio_lep_tau</th>\n",
              "      <th>DER_met_phi_centrality</th>\n",
              "      <th>DER_lep_eta_centrality</th>\n",
              "      <th>PRI_tau_pt</th>\n",
              "      <th>PRI_tau_eta</th>\n",
              "      <th>PRI_tau_phi</th>\n",
              "      <th>PRI_lep_pt</th>\n",
              "      <th>PRI_lep_eta</th>\n",
              "      <th>PRI_lep_phi</th>\n",
              "      <th>PRI_met</th>\n",
              "      <th>PRI_met_phi</th>\n",
              "      <th>PRI_met_sumet</th>\n",
              "      <th>PRI_jet_num</th>\n",
              "      <th>PRI_jet_leading_pt</th>\n",
              "      <th>PRI_jet_leading_eta</th>\n",
              "      <th>PRI_jet_leading_phi</th>\n",
              "      <th>PRI_jet_subleading_pt</th>\n",
              "      <th>PRI_jet_subleading_eta</th>\n",
              "      <th>PRI_jet_subleading_phi</th>\n",
              "      <th>PRI_jet_all_pt</th>\n",
              "      <th>Weight</th>\n",
              "      <th>Label</th>\n",
              "    </tr>\n",
              "  </thead>\n",
              "  <tbody>\n",
              "    <tr>\n",
              "      <th>0</th>\n",
              "      <td>100000</td>\n",
              "      <td>138.470</td>\n",
              "      <td>51.655</td>\n",
              "      <td>97.827</td>\n",
              "      <td>27.980</td>\n",
              "      <td>0.91</td>\n",
              "      <td>124.711</td>\n",
              "      <td>2.666</td>\n",
              "      <td>3.064</td>\n",
              "      <td>41.928</td>\n",
              "      <td>197.760</td>\n",
              "      <td>1.582</td>\n",
              "      <td>1.396</td>\n",
              "      <td>0.2</td>\n",
              "      <td>32.638</td>\n",
              "      <td>1.017</td>\n",
              "      <td>0.381</td>\n",
              "      <td>51.626</td>\n",
              "      <td>2.273</td>\n",
              "      <td>-2.414</td>\n",
              "      <td>16.824</td>\n",
              "      <td>-0.277</td>\n",
              "      <td>258.733</td>\n",
              "      <td>2</td>\n",
              "      <td>67.435</td>\n",
              "      <td>2.150</td>\n",
              "      <td>0.444</td>\n",
              "      <td>46.062</td>\n",
              "      <td>1.24</td>\n",
              "      <td>-2.475</td>\n",
              "      <td>113.497</td>\n",
              "      <td>0.002653</td>\n",
              "      <td>s</td>\n",
              "    </tr>\n",
              "    <tr>\n",
              "      <th>1</th>\n",
              "      <td>100001</td>\n",
              "      <td>160.937</td>\n",
              "      <td>68.768</td>\n",
              "      <td>103.235</td>\n",
              "      <td>48.146</td>\n",
              "      <td>-999.00</td>\n",
              "      <td>-999.000</td>\n",
              "      <td>-999.000</td>\n",
              "      <td>3.473</td>\n",
              "      <td>2.078</td>\n",
              "      <td>125.157</td>\n",
              "      <td>0.879</td>\n",
              "      <td>1.414</td>\n",
              "      <td>-999.0</td>\n",
              "      <td>42.014</td>\n",
              "      <td>2.039</td>\n",
              "      <td>-3.011</td>\n",
              "      <td>36.918</td>\n",
              "      <td>0.501</td>\n",
              "      <td>0.103</td>\n",
              "      <td>44.704</td>\n",
              "      <td>-1.916</td>\n",
              "      <td>164.546</td>\n",
              "      <td>1</td>\n",
              "      <td>46.226</td>\n",
              "      <td>0.725</td>\n",
              "      <td>1.158</td>\n",
              "      <td>-999.000</td>\n",
              "      <td>-999.00</td>\n",
              "      <td>-999.000</td>\n",
              "      <td>46.226</td>\n",
              "      <td>2.233584</td>\n",
              "      <td>b</td>\n",
              "    </tr>\n",
              "    <tr>\n",
              "      <th>2</th>\n",
              "      <td>100002</td>\n",
              "      <td>-999.000</td>\n",
              "      <td>162.172</td>\n",
              "      <td>125.953</td>\n",
              "      <td>35.635</td>\n",
              "      <td>-999.00</td>\n",
              "      <td>-999.000</td>\n",
              "      <td>-999.000</td>\n",
              "      <td>3.148</td>\n",
              "      <td>9.336</td>\n",
              "      <td>197.814</td>\n",
              "      <td>3.776</td>\n",
              "      <td>1.414</td>\n",
              "      <td>-999.0</td>\n",
              "      <td>32.154</td>\n",
              "      <td>-0.705</td>\n",
              "      <td>-2.093</td>\n",
              "      <td>121.409</td>\n",
              "      <td>-0.953</td>\n",
              "      <td>1.052</td>\n",
              "      <td>54.283</td>\n",
              "      <td>-2.186</td>\n",
              "      <td>260.414</td>\n",
              "      <td>1</td>\n",
              "      <td>44.251</td>\n",
              "      <td>2.053</td>\n",
              "      <td>-2.028</td>\n",
              "      <td>-999.000</td>\n",
              "      <td>-999.00</td>\n",
              "      <td>-999.000</td>\n",
              "      <td>44.251</td>\n",
              "      <td>2.347389</td>\n",
              "      <td>b</td>\n",
              "    </tr>\n",
              "    <tr>\n",
              "      <th>3</th>\n",
              "      <td>100003</td>\n",
              "      <td>143.905</td>\n",
              "      <td>81.417</td>\n",
              "      <td>80.943</td>\n",
              "      <td>0.414</td>\n",
              "      <td>-999.00</td>\n",
              "      <td>-999.000</td>\n",
              "      <td>-999.000</td>\n",
              "      <td>3.310</td>\n",
              "      <td>0.414</td>\n",
              "      <td>75.968</td>\n",
              "      <td>2.354</td>\n",
              "      <td>-1.285</td>\n",
              "      <td>-999.0</td>\n",
              "      <td>22.647</td>\n",
              "      <td>-1.655</td>\n",
              "      <td>0.010</td>\n",
              "      <td>53.321</td>\n",
              "      <td>-0.522</td>\n",
              "      <td>-3.100</td>\n",
              "      <td>31.082</td>\n",
              "      <td>0.060</td>\n",
              "      <td>86.062</td>\n",
              "      <td>0</td>\n",
              "      <td>-999.000</td>\n",
              "      <td>-999.000</td>\n",
              "      <td>-999.000</td>\n",
              "      <td>-999.000</td>\n",
              "      <td>-999.00</td>\n",
              "      <td>-999.000</td>\n",
              "      <td>-0.000</td>\n",
              "      <td>5.446378</td>\n",
              "      <td>b</td>\n",
              "    </tr>\n",
              "    <tr>\n",
              "      <th>4</th>\n",
              "      <td>100004</td>\n",
              "      <td>175.864</td>\n",
              "      <td>16.915</td>\n",
              "      <td>134.805</td>\n",
              "      <td>16.405</td>\n",
              "      <td>-999.00</td>\n",
              "      <td>-999.000</td>\n",
              "      <td>-999.000</td>\n",
              "      <td>3.891</td>\n",
              "      <td>16.405</td>\n",
              "      <td>57.983</td>\n",
              "      <td>1.056</td>\n",
              "      <td>-1.385</td>\n",
              "      <td>-999.0</td>\n",
              "      <td>28.209</td>\n",
              "      <td>-2.197</td>\n",
              "      <td>-2.231</td>\n",
              "      <td>29.774</td>\n",
              "      <td>0.798</td>\n",
              "      <td>1.569</td>\n",
              "      <td>2.723</td>\n",
              "      <td>-0.871</td>\n",
              "      <td>53.131</td>\n",
              "      <td>0</td>\n",
              "      <td>-999.000</td>\n",
              "      <td>-999.000</td>\n",
              "      <td>-999.000</td>\n",
              "      <td>-999.000</td>\n",
              "      <td>-999.00</td>\n",
              "      <td>-999.000</td>\n",
              "      <td>0.000</td>\n",
              "      <td>6.245333</td>\n",
              "      <td>b</td>\n",
              "    </tr>\n",
              "  </tbody>\n",
              "</table>\n",
              "</div>"
            ],
            "text/plain": [
              "   EventId  DER_mass_MMC  ...    Weight  Label\n",
              "0   100000       138.470  ...  0.002653      s\n",
              "1   100001       160.937  ...  2.233584      b\n",
              "2   100002      -999.000  ...  2.347389      b\n",
              "3   100003       143.905  ...  5.446378      b\n",
              "4   100004       175.864  ...  6.245333      b\n",
              "\n",
              "[5 rows x 33 columns]"
            ]
          },
          "metadata": {
            "tags": []
          },
          "execution_count": 63
        }
      ]
    },
    {
      "cell_type": "code",
      "metadata": {
        "id": "sX9BhQ6OU-aK"
      },
      "source": [
        "def analizarColumns(dataframe):\n",
        "  def auxRango(arr):\n",
        "    cmin, cmax = '-','-'\n",
        "    if arr.dtype == 'int64' or arr.dtype == 'float64':\n",
        "      cmin = np.min(arr)\n",
        "      cmax = np.max(arr)\n",
        "    return cmin, cmax\n",
        "  i = 0\n",
        "  print(\"%3s | %27s | %7s | %25s\"%(\"#\",\"Name\",\"Type\", \"Range\"))\n",
        "  for columna in dataframe:\n",
        "    cmin, cmax = auxRango(dataframe[columna])\n",
        "    print(\"%3s | %27s | %7s | %20s - %s\"%( i,\n",
        "        columna, dataframe[columna].dtype, cmin, cmax\n",
        "        ))\n",
        "    i+=1"
      ],
      "execution_count": null,
      "outputs": []
    },
    {
      "cell_type": "code",
      "metadata": {
        "id": "Ei8f_1zRVVrb",
        "outputId": "b8fc7e70-2fa4-4263-8510-d3655cb4792c",
        "colab": {
          "base_uri": "https://localhost:8080/",
          "height": 595
        }
      },
      "source": [
        "analizarColumns(dfHiggsBoson)"
      ],
      "execution_count": null,
      "outputs": [
        {
          "output_type": "stream",
          "text": [
            "  # |                        Name |    Type |                     Range\n",
            "  0 |                     EventId |   int64 |               100000 - 349999\n",
            "  1 |                DER_mass_MMC | float64 |               -999.0 - 1192.026\n",
            "  2 | DER_mass_transverse_met_lep | float64 |                  0.0 - 690.075\n",
            "  3 |                DER_mass_vis | float64 |                6.329 - 1349.351\n",
            "  4 |                    DER_pt_h | float64 |                  0.0 - 2834.9990000000003\n",
            "  5 |        DER_deltaeta_jet_jet | float64 |               -999.0 - 8.503\n",
            "  6 |            DER_mass_jet_jet | float64 |               -999.0 - 4974.979\n",
            "  7 |         DER_prodeta_jet_jet | float64 |               -999.0 - 16.69\n",
            "  8 |          DER_deltar_tau_lep | float64 |  0.20800000000000002 - 5.684\n",
            "  9 |                  DER_pt_tot | float64 |                  0.0 - 2834.9990000000003\n",
            " 10 |                  DER_sum_pt | float64 |               46.104 - 1852.4620000000002\n",
            " 11 |        DER_pt_ratio_lep_tau | float64 |                0.047 - 19.773\n",
            " 12 |      DER_met_phi_centrality | float64 |  -1.4140000000000001 - 1.4140000000000001\n",
            " 13 |      DER_lep_eta_centrality | float64 |               -999.0 - 1.0\n",
            " 14 |                  PRI_tau_pt | float64 |                 20.0 - 764.408\n",
            " 15 |                 PRI_tau_eta | float64 |               -2.499 - 2.497\n",
            " 16 |                 PRI_tau_phi | float64 |               -3.142 - 3.142\n",
            " 17 |                  PRI_lep_pt | float64 |                 26.0 - 560.271\n",
            " 18 |                 PRI_lep_eta | float64 |               -2.505 - 2.503\n",
            " 19 |                 PRI_lep_phi | float64 |               -3.142 - 3.142\n",
            " 20 |                     PRI_met | float64 |                0.109 - 2842.617\n",
            " 21 |                 PRI_met_phi | float64 |               -3.142 - 3.142\n",
            " 22 |               PRI_met_sumet | float64 |   13.677999999999999 - 2003.976\n",
            " 23 |                 PRI_jet_num |   int64 |                    0 - 3\n",
            " 24 |          PRI_jet_leading_pt | float64 |               -999.0 - 1120.573\n",
            " 25 |         PRI_jet_leading_eta | float64 |               -999.0 - 4.499\n",
            " 26 |         PRI_jet_leading_phi | float64 |               -999.0 - 3.141\n",
            " 27 |       PRI_jet_subleading_pt | float64 |               -999.0 - 721.456\n",
            " 28 |      PRI_jet_subleading_eta | float64 |               -999.0 - 4.5\n",
            " 29 |      PRI_jet_subleading_phi | float64 |               -999.0 - 3.142\n",
            " 30 |              PRI_jet_all_pt | float64 |                  0.0 - 1633.433\n",
            " 31 |                      Weight | float64 |     0.00150187015894 - 7.82254254503\n",
            " 32 |                       Label |  object |                    - - -\n"
          ],
          "name": "stdout"
        }
      ]
    },
    {
      "cell_type": "markdown",
      "metadata": {
        "id": "DlzTjcEYh19G"
      },
      "source": [
        "The description of the variables are in the OpenData page of CERN. From theese, we can remark:\n",
        "\n",
        "- **EventId**: An unique integer identifier of the event.\n",
        "- **DER_mass_MMC**: The estimated mass of the Higgs boson candidate.\n",
        "- **PRI_jet_num**: The number of jets (integer with value of 0, 1, 2 or 3; possible larger values have been capped at 3). **Some variables are *undefined* if the value of PRI_jet_num is below 1.**\n",
        "- **Weight**\tThe event weight wi\n",
        "- **Label**\tThe event label (string) yi ∈ {s,b} (s for signal, b for background)."
      ]
    },
    {
      "cell_type": "code",
      "metadata": {
        "id": "c-pXNhXjqsWu",
        "outputId": "3127603f-e313-4883-c628-0165528159ea",
        "colab": {
          "base_uri": "https://localhost:8080/",
          "height": 34
        }
      },
      "source": [
        "pd.unique(dfHiggsBoson['DER_mass_jet_jet'])"
      ],
      "execution_count": null,
      "outputs": [
        {
          "output_type": "execute_result",
          "data": {
            "text/plain": [
              "array([ 124.711, -999.   ,  284.584, ...,  216.006,  322.296,  119.437])"
            ]
          },
          "metadata": {
            "tags": []
          },
          "execution_count": 80
        }
      ]
    },
    {
      "cell_type": "markdown",
      "metadata": {
        "id": "TUdj1W91JlN2"
      },
      "source": [
        "## References\n",
        "\n",
        "- Udacity (2016) *The Kaggle Challenge. Higgs Bosson*. Recovered from: https://www.youtube.com/watch?v=Sombn6OSvZU \n",
        "- Nguyen, D., Mejia Breton, K. & Cruz, I. (2016) *Kaggle Competition. Higgs Bosson Machine Learning Challenge*. NYC Data Science Academy. Recovered from: https://www.youtube.com/watch?v=Rn3dwmhVH3o "
      ]
    }
  ]
}